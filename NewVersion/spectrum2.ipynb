{
 "cells": [
  {
   "cell_type": "markdown",
   "metadata": {},
   "source": [
    "# Environment Preparation"
   ]
  },
  {
   "cell_type": "code",
   "execution_count": 1,
   "metadata": {},
   "outputs": [
    {
     "name": "stdout",
     "output_type": "stream",
     "text": [
      "Processing /kaggle/input/dlib-whl/dlib-19.19.0-cp36-cp36m-linux_x86_64.whl\n",
      "Installing collected packages: dlib\n",
      "Successfully installed dlib-19.19.0\n",
      "Selecting previously unselected package ffmpeg.\n",
      "(Reading database ... 59211 files and directories currently installed.)\n",
      "Preparing to unpack .../ffmpeg_7%3a3.2.14-1~deb9u1_amd64.deb ...\n",
      "Unpacking ffmpeg (7:3.2.14-1~deb9u1) ...\n",
      "Selecting previously unselected package libass5:amd64.\n",
      "Preparing to unpack .../libass5_1%3a0.13.4-2_amd64.deb ...\n",
      "Unpacking libass5:amd64 (1:0.13.4-2) ...\n",
      "Selecting previously unselected package libavc1394-0:amd64.\n",
      "Preparing to unpack .../libavc1394-0_0.5.4-4+b1_amd64.deb ...\n",
      "Unpacking libavc1394-0:amd64 (0.5.4-4+b1) ...\n",
      "Selecting previously unselected package libavcodec57:amd64.\n",
      "Preparing to unpack .../libavcodec57_7%3a3.2.14-1~deb9u1_amd64.deb ...\n",
      "Unpacking libavcodec57:amd64 (7:3.2.14-1~deb9u1) ...\n",
      "Selecting previously unselected package libavdevice57:amd64.\n",
      "Preparing to unpack .../libavdevice57_7%3a3.2.14-1~deb9u1_amd64.deb ...\n",
      "Unpacking libavdevice57:amd64 (7:3.2.14-1~deb9u1) ...\n",
      "Selecting previously unselected package libavfilter6:amd64.\n",
      "Preparing to unpack .../libavfilter6_7%3a3.2.14-1~deb9u1_amd64.deb ...\n",
      "Unpacking libavfilter6:amd64 (7:3.2.14-1~deb9u1) ...\n",
      "Selecting previously unselected package libavformat57:amd64.\n",
      "Preparing to unpack .../libavformat57_7%3a3.2.14-1~deb9u1_amd64.deb ...\n",
      "Unpacking libavformat57:amd64 (7:3.2.14-1~deb9u1) ...\n",
      "Selecting previously unselected package libavresample3:amd64.\n",
      "Preparing to unpack .../libavresample3_7%3a3.2.14-1~deb9u1_amd64.deb ...\n",
      "Unpacking libavresample3:amd64 (7:3.2.14-1~deb9u1) ...\n",
      "Selecting previously unselected package libavutil55:amd64.\n",
      "Preparing to unpack .../libavutil55_7%3a3.2.14-1~deb9u1_amd64.deb ...\n",
      "Unpacking libavutil55:amd64 (7:3.2.14-1~deb9u1) ...\n",
      "Selecting previously unselected package libbluray1:amd64.\n",
      "Preparing to unpack .../libbluray1_1%3a0.9.3-3_amd64.deb ...\n",
      "Unpacking libbluray1:amd64 (1:0.9.3-3) ...\n",
      "Selecting previously unselected package libbs2b0:amd64.\n",
      "Preparing to unpack .../libbs2b0_3.1.0+dfsg-2.2_amd64.deb ...\n",
      "Unpacking libbs2b0:amd64 (3.1.0+dfsg-2.2) ...\n",
      "Selecting previously unselected package libcaca0:amd64.\n",
      "Preparing to unpack .../libcaca0_0.99.beta19-2.1~deb9u1_amd64.deb ...\n",
      "Unpacking libcaca0:amd64 (0.99.beta19-2.1~deb9u1) ...\n",
      "Selecting previously unselected package libcdio-cdda1:amd64.\n",
      "Preparing to unpack .../libcdio-cdda1_0.83-4.3+b1_amd64.deb ...\n",
      "Unpacking libcdio-cdda1:amd64 (0.83-4.3+b1) ...\n",
      "Selecting previously unselected package libcdio-paranoia1:amd64.\n",
      "Preparing to unpack .../libcdio-paranoia1_0.83-4.3+b1_amd64.deb ...\n",
      "Unpacking libcdio-paranoia1:amd64 (0.83-4.3+b1) ...\n",
      "Selecting previously unselected package libcdio13:amd64.\n",
      "Preparing to unpack .../libcdio13_0.83-4.3+b1_amd64.deb ...\n",
      "Unpacking libcdio13:amd64 (0.83-4.3+b1) ...\n",
      "Selecting previously unselected package libchromaprint1:amd64.\n",
      "Preparing to unpack .../libchromaprint1_1.4.2-1_amd64.deb ...\n",
      "Unpacking libchromaprint1:amd64 (1.4.2-1) ...\n",
      "Selecting previously unselected package libcrystalhd3:amd64.\n",
      "Preparing to unpack .../libcrystalhd3_1%3a0.0~git20110715.fdd2f19-12_amd64.deb ...\n",
      "Unpacking libcrystalhd3:amd64 (1:0.0~git20110715.fdd2f19-12) ...\n",
      "Selecting previously unselected package libdc1394-22:amd64.\n",
      "Preparing to unpack .../libdc1394-22_2.2.5-1_amd64.deb ...\n",
      "Unpacking libdc1394-22:amd64 (2.2.5-1) ...\n",
      "Selecting previously unselected package libebur128-1:amd64.\n",
      "Preparing to unpack .../libebur128-1_1.2.2-2_amd64.deb ...\n",
      "Unpacking libebur128-1:amd64 (1.2.2-2) ...\n",
      "Selecting previously unselected package libflite1:amd64.\n",
      "Preparing to unpack .../libflite1_2.0.0-release-3+b1_amd64.deb ...\n",
      "Unpacking libflite1:amd64 (2.0.0-release-3+b1) ...\n",
      "Selecting previously unselected package libfribidi0:amd64.\n",
      "Preparing to unpack .../libfribidi0_0.19.7-1+deb9u1_amd64.deb ...\n",
      "Unpacking libfribidi0:amd64 (0.19.7-1+deb9u1) ...\n",
      "Selecting previously unselected package libgme0:amd64.\n",
      "Preparing to unpack .../libgme0_0.6.0-4_amd64.deb ...\n",
      "Unpacking libgme0:amd64 (0.6.0-4) ...\n",
      "Selecting previously unselected package libgsm1:amd64.\n",
      "Preparing to unpack .../libgsm1_1.0.13-4+b2_amd64.deb ...\n",
      "Unpacking libgsm1:amd64 (1.0.13-4+b2) ...\n",
      "Selecting previously unselected package libiec61883-0:amd64.\n",
      "Preparing to unpack .../libiec61883-0_1.2.0-2_amd64.deb ...\n",
      "Unpacking libiec61883-0:amd64 (1.2.0-2) ...\n",
      "Selecting previously unselected package libjack-jackd2-0:amd64.\n",
      "Preparing to unpack .../libjack-jackd2-0_1.9.10+20150825git1ed50c92~dfsg-5_amd64.deb ...\n",
      "Unpacking libjack-jackd2-0:amd64 (1.9.10+20150825git1ed50c92~dfsg-5) ...\n",
      "Selecting previously unselected package libmp3lame0:amd64.\n",
      "Preparing to unpack .../libmp3lame0_3.99.5+repack1-9+b2_amd64.deb ...\n",
      "Unpacking libmp3lame0:amd64 (3.99.5+repack1-9+b2) ...\n",
      "Selecting previously unselected package libmpg123-0:amd64.\n",
      "Preparing to unpack .../libmpg123-0_1.23.8-1+b1_amd64.deb ...\n",
      "Unpacking libmpg123-0:amd64 (1.23.8-1+b1) ...\n",
      "Selecting previously unselected package libnuma1:amd64.\n",
      "Preparing to unpack .../libnuma1_2.0.11-2.1_amd64.deb ...\n",
      "Unpacking libnuma1:amd64 (2.0.11-2.1) ...\n",
      "Selecting previously unselected package libopenal-data.\n",
      "Preparing to unpack .../libopenal-data_1%3a1.17.2-4_all.deb ...\n",
      "Unpacking libopenal-data (1:1.17.2-4) ...\n",
      "Selecting previously unselected package libopenal1:amd64.\n",
      "Preparing to unpack .../libopenal1_1%3a1.17.2-4+b2_amd64.deb ...\n",
      "Unpacking libopenal1:amd64 (1:1.17.2-4+b2) ...\n",
      "Selecting previously unselected package libopencv-core2.4v5:amd64.\n",
      "Preparing to unpack .../libopencv-core2.4v5_2.4.9.1+dfsg1-2_amd64.deb ...\n",
      "Unpacking libopencv-core2.4v5:amd64 (2.4.9.1+dfsg1-2) ...\n",
      "Selecting previously unselected package libopencv-imgproc2.4v5:amd64.\n",
      "Preparing to unpack .../libopencv-imgproc2.4v5_2.4.9.1+dfsg1-2_amd64.deb ...\n",
      "Unpacking libopencv-imgproc2.4v5:amd64 (2.4.9.1+dfsg1-2) ...\n",
      "Selecting previously unselected package libopenmpt0:amd64.\n",
      "Preparing to unpack .../libopenmpt0_0.2.7386~beta20.3-3+deb9u3_amd64.deb ...\n",
      "Unpacking libopenmpt0:amd64 (0.2.7386~beta20.3-3+deb9u3) ...\n",
      "Selecting previously unselected package libopus0:amd64.\n",
      "Preparing to unpack .../libopus0_1.2~alpha2-1_amd64.deb ...\n",
      "Unpacking libopus0:amd64 (1.2~alpha2-1) ...\n",
      "Selecting previously unselected package libpgm-5.2-0:amd64.\n",
      "Preparing to unpack .../libpgm-5.2-0_5.2.122~dfsg-2_amd64.deb ...\n",
      "Unpacking libpgm-5.2-0:amd64 (5.2.122~dfsg-2) ...\n",
      "Selecting previously unselected package libpostproc54:amd64.\n",
      "Preparing to unpack .../libpostproc54_7%3a3.2.14-1~deb9u1_amd64.deb ...\n",
      "Unpacking libpostproc54:amd64 (7:3.2.14-1~deb9u1) ...\n",
      "Selecting previously unselected package libraw1394-11:amd64.\n",
      "Preparing to unpack .../libraw1394-11_2.1.2-1+b1_amd64.deb ...\n",
      "Unpacking libraw1394-11:amd64 (2.1.2-1+b1) ...\n",
      "Selecting previously unselected package librubberband2:amd64.\n",
      "Preparing to unpack .../librubberband2_1.8.1-7_amd64.deb ...\n",
      "Unpacking librubberband2:amd64 (1.8.1-7) ...\n",
      "Selecting previously unselected package libsamplerate0:amd64.\n",
      "Preparing to unpack .../libsamplerate0_0.1.8-8+b2_amd64.deb ...\n",
      "Unpacking libsamplerate0:amd64 (0.1.8-8+b2) ...\n",
      "Selecting previously unselected package libsdl2-2.0-0:amd64.\n",
      "Preparing to unpack .../libsdl2-2.0-0_2.0.5+dfsg1-2_amd64.deb ...\n",
      "Unpacking libsdl2-2.0-0:amd64 (2.0.5+dfsg1-2) ...\n",
      "Selecting previously unselected package libshine3:amd64.\n",
      "Preparing to unpack .../libshine3_3.1.0-5_amd64.deb ...\n",
      "Unpacking libshine3:amd64 (3.1.0-5) ...\n",
      "Selecting previously unselected package libslang2:amd64.\n",
      "Preparing to unpack .../libslang2_2.3.1-5_amd64.deb ...\n",
      "Unpacking libslang2:amd64 (2.3.1-5) ...\n",
      "Selecting previously unselected package libsnappy1v5:amd64.\n",
      "Preparing to unpack .../libsnappy1v5_1.1.3-3_amd64.deb ...\n",
      "Unpacking libsnappy1v5:amd64 (1.1.3-3) ...\n",
      "Selecting previously unselected package libsndio6.1:amd64.\n",
      "Preparing to unpack .../libsndio6.1_1.1.0-3_amd64.deb ...\n",
      "Unpacking libsndio6.1:amd64 (1.1.0-3) ...\n",
      "Selecting previously unselected package libsodium18:amd64.\n",
      "Preparing to unpack .../libsodium18_1.0.11-2_amd64.deb ...\n",
      "Unpacking libsodium18:amd64 (1.0.11-2) ...\n",
      "Selecting previously unselected package libsoxr0:amd64.\n",
      "Preparing to unpack .../libsoxr0_0.1.2-2_amd64.deb ...\n",
      "Unpacking libsoxr0:amd64 (0.1.2-2) ...\n",
      "Selecting previously unselected package libspeex1:amd64.\n",
      "Preparing to unpack .../libspeex1_1.2~rc1.2-1+b2_amd64.deb ...\n",
      "Unpacking libspeex1:amd64 (1.2~rc1.2-1+b2) ...\n"
     ]
    },
    {
     "name": "stdout",
     "output_type": "stream",
     "text": [
      "Selecting previously unselected package libssh-gcrypt-4:amd64.\n",
      "Preparing to unpack .../libssh-gcrypt-4_0.7.3-2+deb9u2_amd64.deb ...\n",
      "Unpacking libssh-gcrypt-4:amd64 (0.7.3-2+deb9u2) ...\n",
      "Selecting previously unselected package libswresample2:amd64.\n",
      "Preparing to unpack .../libswresample2_7%3a3.2.14-1~deb9u1_amd64.deb ...\n",
      "Unpacking libswresample2:amd64 (7:3.2.14-1~deb9u1) ...\n",
      "Selecting previously unselected package libswscale4:amd64.\n",
      "Preparing to unpack .../libswscale4_7%3a3.2.14-1~deb9u1_amd64.deb ...\n",
      "Unpacking libswscale4:amd64 (7:3.2.14-1~deb9u1) ...\n",
      "Selecting previously unselected package libtbb2:amd64.\n",
      "Preparing to unpack .../libtbb2_4.3~20150611-2_amd64.deb ...\n",
      "Unpacking libtbb2:amd64 (4.3~20150611-2) ...\n",
      "Selecting previously unselected package libtheora0:amd64.\n",
      "Preparing to unpack .../libtheora0_1.1.1+dfsg.1-14+b1_amd64.deb ...\n",
      "Unpacking libtheora0:amd64 (1.1.1+dfsg.1-14+b1) ...\n",
      "Selecting previously unselected package libtwolame0:amd64.\n",
      "Preparing to unpack .../libtwolame0_0.3.13-2_amd64.deb ...\n",
      "Unpacking libtwolame0:amd64 (0.3.13-2) ...\n",
      "Selecting previously unselected package libusb-1.0-0:amd64.\n",
      "Preparing to unpack .../libusb-1.0-0_2%3a1.0.21-1_amd64.deb ...\n",
      "Unpacking libusb-1.0-0:amd64 (2:1.0.21-1) ...\n",
      "Selecting previously unselected package libva-drm1:amd64.\n",
      "Preparing to unpack .../libva-drm1_1.7.3-2_amd64.deb ...\n",
      "Unpacking libva-drm1:amd64 (1.7.3-2) ...\n",
      "Selecting previously unselected package libva-x11-1:amd64.\n",
      "Preparing to unpack .../libva-x11-1_1.7.3-2_amd64.deb ...\n",
      "Unpacking libva-x11-1:amd64 (1.7.3-2) ...\n",
      "Selecting previously unselected package libva1:amd64.\n",
      "Preparing to unpack .../libva1_1.7.3-2_amd64.deb ...\n",
      "Unpacking libva1:amd64 (1.7.3-2) ...\n",
      "Selecting previously unselected package libvdpau1:amd64.\n",
      "Preparing to unpack .../libvdpau1_1.1.1-6_amd64.deb ...\n",
      "Unpacking libvdpau1:amd64 (1.1.1-6) ...\n",
      "Selecting previously unselected package libvorbisfile3:amd64.\n",
      "Preparing to unpack .../libvorbisfile3_1.3.5-4+deb9u2_amd64.deb ...\n",
      "Unpacking libvorbisfile3:amd64 (1.3.5-4+deb9u2) ...\n",
      "Selecting previously unselected package libvpx4:amd64.\n",
      "Preparing to unpack .../libvpx4_1.6.1-3+deb9u2_amd64.deb ...\n",
      "Unpacking libvpx4:amd64 (1.6.1-3+deb9u2) ...\n",
      "Selecting previously unselected package libwavpack1:amd64.\n",
      "Preparing to unpack .../libwavpack1_5.0.0-2+deb9u2_amd64.deb ...\n",
      "Unpacking libwavpack1:amd64 (5.0.0-2+deb9u2) ...\n",
      "Selecting previously unselected package libx264-148:amd64.\n",
      "Preparing to unpack .../libx264-148_2%3a0.148.2748+git97eaef2-1_amd64.deb ...\n",
      "Unpacking libx264-148:amd64 (2:0.148.2748+git97eaef2-1) ...\n",
      "Selecting previously unselected package libx265-95:amd64.\n",
      "Preparing to unpack .../libx265-95_2.1-2+b2_amd64.deb ...\n",
      "Unpacking libx265-95:amd64 (2.1-2+b2) ...\n",
      "Selecting previously unselected package libxss1:amd64.\n",
      "Preparing to unpack .../libxss1_1%3a1.2.2-1_amd64.deb ...\n",
      "Unpacking libxss1:amd64 (1:1.2.2-1) ...\n",
      "Selecting previously unselected package libxvidcore4:amd64.\n",
      "Preparing to unpack .../libxvidcore4_2%3a1.3.4-1+b2_amd64.deb ...\n",
      "Unpacking libxvidcore4:amd64 (2:1.3.4-1+b2) ...\n",
      "Selecting previously unselected package libzmq5:amd64.\n",
      "Preparing to unpack .../libzmq5_4.2.1-4+deb9u2_amd64.deb ...\n",
      "Unpacking libzmq5:amd64 (4.2.1-4+deb9u2) ...\n",
      "Selecting previously unselected package libzvbi-common.\n",
      "Preparing to unpack .../libzvbi-common_0.2.35-13_all.deb ...\n",
      "Unpacking libzvbi-common (0.2.35-13) ...\n",
      "Selecting previously unselected package libzvbi0:amd64.\n",
      "Preparing to unpack .../libzvbi0_0.2.35-13_amd64.deb ...\n",
      "Unpacking libzvbi0:amd64 (0.2.35-13) ...\n",
      "Setting up libbluray1:amd64 (1:0.9.3-3) ...\n",
      "Setting up libbs2b0:amd64 (3.1.0+dfsg-2.2) ...\n",
      "Setting up libcdio13:amd64 (0.83-4.3+b1) ...\n",
      "Setting up libcrystalhd3:amd64 (1:0.0~git20110715.fdd2f19-12) ...\n",
      "Setting up libebur128-1:amd64 (1.2.2-2) ...\n",
      "Setting up libflite1:amd64 (2.0.0-release-3+b1) ...\n",
      "Setting up libfribidi0:amd64 (0.19.7-1+deb9u1) ...\n",
      "Setting up libgme0:amd64 (0.6.0-4) ...\n",
      "Setting up libgsm1:amd64 (1.0.13-4+b2) ...\n",
      "Setting up libmp3lame0:amd64 (3.99.5+repack1-9+b2) ...\n",
      "Setting up libmpg123-0:amd64 (1.23.8-1+b1) ...\n",
      "Setting up libnuma1:amd64 (2.0.11-2.1) ...\n",
      "Setting up libopenal-data (1:1.17.2-4) ...\n",
      "Setting up libopus0:amd64 (1.2~alpha2-1) ...\n",
      "Setting up libpgm-5.2-0:amd64 (5.2.122~dfsg-2) ...\n",
      "Setting up libraw1394-11:amd64 (2.1.2-1+b1) ...\n",
      "Setting up libsamplerate0:amd64 (0.1.8-8+b2) ...\n",
      "Setting up libshine3:amd64 (3.1.0-5) ...\n",
      "Setting up libslang2:amd64 (2.3.1-5) ...\n",
      "Setting up libsnappy1v5:amd64 (1.1.3-3) ...\n",
      "Setting up libsndio6.1:amd64 (1.1.0-3) ...\n",
      "Setting up libsodium18:amd64 (1.0.11-2) ...\n",
      "Setting up libsoxr0:amd64 (0.1.2-2) ...\n",
      "Setting up libspeex1:amd64 (1.2~rc1.2-1+b2) ...\n",
      "Setting up libssh-gcrypt-4:amd64 (0.7.3-2+deb9u2) ...\n",
      "Setting up libtbb2:amd64 (4.3~20150611-2) ...\n",
      "Setting up libtheora0:amd64 (1.1.1+dfsg.1-14+b1) ...\n",
      "Setting up libtwolame0:amd64 (0.3.13-2) ...\n",
      "Setting up libusb-1.0-0:amd64 (2:1.0.21-1) ...\n",
      "Setting up libva1:amd64 (1.7.3-2) ...\n",
      "Setting up libvdpau1:amd64 (1.1.1-6) ...\n",
      "Setting up libvorbisfile3:amd64 (1.3.5-4+deb9u2) ...\n",
      "Setting up libvpx4:amd64 (1.6.1-3+deb9u2) ...\n",
      "Setting up libwavpack1:amd64 (5.0.0-2+deb9u2) ...\n",
      "Setting up libx264-148:amd64 (2:0.148.2748+git97eaef2-1) ...\n",
      "Setting up libx265-95:amd64 (2.1-2+b2) ...\n",
      "Setting up libxss1:amd64 (1:1.2.2-1) ...\n",
      "Setting up libxvidcore4:amd64 (2:1.3.4-1+b2) ...\n",
      "Setting up libzmq5:amd64 (4.2.1-4+deb9u2) ...\n",
      "Setting up libzvbi-common (0.2.35-13) ...\n",
      "Setting up libzvbi0:amd64 (0.2.35-13) ...\n",
      "Setting up libass5:amd64 (1:0.13.4-2) ...\n",
      "Setting up libavc1394-0:amd64 (0.5.4-4+b1) ...\n",
      "Setting up libcaca0:amd64 (0.99.beta19-2.1~deb9u1) ...\n",
      "Setting up libcdio-cdda1:amd64 (0.83-4.3+b1) ...\n",
      "Setting up libcdio-paranoia1:amd64 (0.83-4.3+b1) ...\n",
      "Setting up libdc1394-22:amd64 (2.2.5-1) ...\n",
      "Setting up libiec61883-0:amd64 (1.2.0-2) ...\n",
      "Setting up libjack-jackd2-0:amd64 (1.9.10+20150825git1ed50c92~dfsg-5) ...\n",
      "Setting up libopenal1:amd64 (1:1.17.2-4+b2) ...\n",
      "Setting up libopencv-core2.4v5:amd64 (2.4.9.1+dfsg1-2) ...\n",
      "Setting up libopencv-imgproc2.4v5:amd64 (2.4.9.1+dfsg1-2) ...\n",
      "Setting up libopenmpt0:amd64 (0.2.7386~beta20.3-3+deb9u3) ...\n",
      "Setting up librubberband2:amd64 (1.8.1-7) ...\n",
      "Setting up libsdl2-2.0-0:amd64 (2.0.5+dfsg1-2) ...\n",
      "Setting up libva-drm1:amd64 (1.7.3-2) ...\n",
      "Setting up libva-x11-1:amd64 (1.7.3-2) ...\n",
      "Setting up libavutil55:amd64 (7:3.2.14-1~deb9u1) ...\n",
      "Setting up libpostproc54:amd64 (7:3.2.14-1~deb9u1) ...\n",
      "Setting up libswresample2:amd64 (7:3.2.14-1~deb9u1) ...\n",
      "Setting up libswscale4:amd64 (7:3.2.14-1~deb9u1) ...\n",
      "Setting up libavcodec57:amd64 (7:3.2.14-1~deb9u1) ...\n",
      "Setting up libavresample3:amd64 (7:3.2.14-1~deb9u1) ...\n",
      "Setting up libchromaprint1:amd64 (1.4.2-1) ...\n",
      "Setting up libavformat57:amd64 (7:3.2.14-1~deb9u1) ...\n",
      "Setting up libavfilter6:amd64 (7:3.2.14-1~deb9u1) ...\n",
      "Setting up libavdevice57:amd64 (7:3.2.14-1~deb9u1) ...\n",
      "Setting up ffmpeg (7:3.2.14-1~deb9u1) ...\n",
      "Processing triggers for libc-bin (2.24-11+deb9u4) ...\n"
     ]
    }
   ],
   "source": [
    "!pip install ../input/dlib-whl/dlib-19.19.0-cp36-cp36m-linux_x86_64.whl\n",
    "!dpkg -i  /kaggle/input/ffmpeg-debs/ffmpeg/*.deb"
   ]
  },
  {
   "cell_type": "code",
   "execution_count": 2,
   "metadata": {},
   "outputs": [],
   "source": [
    "import cv2\n",
    "import numpy as np\n",
    "import os\n",
    "import dlib\n",
    "import glob\n",
    "import pandas as pd\n",
    "from matplotlib import pyplot as plt\n",
    "import pickle\n",
    "from tqdm import tqdm\n",
    "from pathlib import Path\n",
    "import traceback\n",
    "\n",
    "pd.options.display.max_columns = 500\n",
    "pd.options.display.max_rows = 2000"
   ]
  },
  {
   "cell_type": "code",
   "execution_count": 3,
   "metadata": {},
   "outputs": [],
   "source": [
    "detector = dlib.get_frontal_face_detector()"
   ]
  },
  {
   "cell_type": "markdown",
   "metadata": {},
   "source": [
    "# Variable Declaration"
   ]
  },
  {
   "cell_type": "code",
   "execution_count": 4,
   "metadata": {},
   "outputs": [],
   "source": [
    "test_video_path = \"/kaggle/input/deepfake-detection-challenge/test_videos/\"\n",
    "train_video_path = \"/kaggle/input/deepfake-detection-challenge/train_sample_videos/\""
   ]
  },
  {
   "cell_type": "markdown",
   "metadata": {},
   "source": [
    "# Utils Function"
   ]
  },
  {
   "cell_type": "code",
   "execution_count": 5,
   "metadata": {},
   "outputs": [],
   "source": [
    "def split_video(path_to_video):\n",
    "    path = Path(path_to_video)\n",
    "    os.system(f\"mkdir {path.stem}\")\n",
    "    os.system(f\"ffmpeg -i {path_to_video} -r 1/1 {path.stem}/{path.stem}%03d.jpg\")"
   ]
  },
  {
   "cell_type": "code",
   "execution_count": 6,
   "metadata": {},
   "outputs": [],
   "source": [
    "def extract_face_from_img(path_to_img, detector, save_dir=\".\"):\n",
    "    faces_path = []\n",
    "    try:\n",
    "        img = cv2.imread(path_to_img)\n",
    "        h, w, d = img.shape\n",
    "        dets = detector(img, 1)\n",
    "        path = Path(path_to_img)\n",
    "        if len(dets) > 0:\n",
    "            # 查找脸部位置\n",
    "#             print(\"Number of faces detected: {}\".format(len(dets)))\n",
    "            for i, face in enumerate(dets):\n",
    "                #保存脸部图片,注意这里+ - 是根据dlib对脸部的定位来的，我这里选的50很适合我这个视频\n",
    "                # print(f\"{max(face.top()-50, 0)}:{min(face.bottom()+50, h-1)},{max(face.left()-50, 0)}:{min(face.right()+50, w-1)}\")\n",
    "                crop_size = (224,224)\n",
    "                face_region = img[max(face.top()-50, 0):min(face.bottom()+50, h),max(face.left()-50, 0):min(face.right()+50, w)]\n",
    "                face_region = cv2.resize(face_region, crop_size, interpolation = cv2.INTER_CUBIC)\n",
    "                save_path = f\"{save_dir}/{path.stem}.jpg\"\n",
    "                cv2.imwrite(save_path, face_region)\n",
    "                faces_path.append(save_path)\n",
    "        else:\n",
    "#             print(\"no face detected\")\n",
    "            pass\n",
    "    except:\n",
    "        traceback.print_exc()\n",
    "    return faces_path"
   ]
  },
  {
   "cell_type": "code",
   "execution_count": 7,
   "metadata": {},
   "outputs": [],
   "source": [
    "def extract_face_from_dir(img_dir, save_dir=\".\", count=3):\n",
    "    faces_path = []\n",
    "    for i, img in enumerate(os.listdir(img_dir), 1):\n",
    "        img_path = f\"{img_dir}/{img}\"\n",
    "#         print(i, img)\n",
    "        imgs = extract_face_from_img(img_path, detector=detector, save_dir=save_dir)\n",
    "        faces_path.extend(imgs)\n",
    "        if len(faces_path) >= count:\n",
    "            break\n",
    "    return faces_path"
   ]
  },
  {
   "cell_type": "code",
   "execution_count": 8,
   "metadata": {},
   "outputs": [],
   "source": [
    "# from https://www.astrobetter.com/blog/2010/03/03/fourier-transforms-of-images-in-python/\n",
    "\n",
    "def azimuthalAverage(image, center=None):\n",
    "    \"\"\"\n",
    "    Calculate the azimuthally averaged radial profile.\n",
    "\n",
    "    image - The 2D image\n",
    "    center - The [x,y] pixel coordinates used as the center. The default is \n",
    "             None, which then uses the center of the image (including \n",
    "             fracitonal pixels).\n",
    "    \n",
    "    \"\"\"\n",
    "    # Calculate the indices from the image\n",
    "    y, x = np.indices(image.shape)\n",
    "\n",
    "    if not center:\n",
    "        center = np.array([(x.max()-x.min())/2.0, (x.max()-x.min())/2.0])\n",
    "\n",
    "    r = np.hypot(x - center[0], y - center[1])\n",
    "\n",
    "    # Get sorted radii\n",
    "    ind = np.argsort(r.flat)\n",
    "    r_sorted = r.flat[ind]\n",
    "    i_sorted = image.flat[ind]\n",
    "\n",
    "    # Get the integer part of the radii (bin size = 1)\n",
    "    r_int = r_sorted.astype(int)\n",
    "\n",
    "    # Find all pixels that fall within each radial bin.\n",
    "    deltar = r_int[1:] - r_int[:-1]  # Assumes all radii represented\n",
    "    rind = np.where(deltar)[0]       # location of changed radius\n",
    "    nr = rind[1:] - rind[:-1]        # number of radius bin\n",
    "    \n",
    "    # Cumulative sum to figure out sums for each radius bin\n",
    "    csim = np.cumsum(i_sorted, dtype=float)\n",
    "    tbin = csim[rind[1:]] - csim[rind[:-1]]\n",
    "    radial_prof = tbin / nr\n",
    "\n",
    "    return radial_prof"
   ]
  },
  {
   "cell_type": "code",
   "execution_count": 9,
   "metadata": {},
   "outputs": [],
   "source": [
    "def get_psd1D(path_to_img, epsilon = 1e-8):\n",
    "    img = cv2.imread(path_to_img,0)\n",
    "    # Calculate FFT\n",
    "    f = np.fft.fft2(img)\n",
    "    fshift = np.fft.fftshift(f)\n",
    "    fshift += epsilon\n",
    "    magnitude_spectrum = 20*np.log(np.abs(fshift))\n",
    "    # Calculate the azimuthally averaged 1D power spectrum\n",
    "    psd1D = azimuthalAverage(magnitude_spectrum)\n",
    "    return psd1D"
   ]
  },
  {
   "cell_type": "markdown",
   "metadata": {},
   "source": [
    "# Predict"
   ]
  },
  {
   "cell_type": "code",
   "execution_count": 10,
   "metadata": {},
   "outputs": [],
   "source": [
    "split_video(\"/kaggle/input/deepfake-detection-challenge/test_videos/ahjnxtiamx.mp4\")"
   ]
  },
  {
   "cell_type": "code",
   "execution_count": 11,
   "metadata": {},
   "outputs": [
    {
     "data": {
      "text/plain": [
       "['./ahjnxtiamx005.jpg', './ahjnxtiamx008.jpg', './ahjnxtiamx009.jpg']"
      ]
     },
     "execution_count": 11,
     "metadata": {},
     "output_type": "execute_result"
    }
   ],
   "source": [
    "extract_face_from_dir(\"ahjnxtiamx\")"
   ]
  },
  {
   "cell_type": "code",
   "execution_count": 12,
   "metadata": {},
   "outputs": [],
   "source": [
    "#包导入\n",
    "%matplotlib inline\n",
    "import pandas as pd\n",
    "import numpy as np\n",
    "import pickle\n",
    "\n",
    "import matplotlib.pyplot as plt\n",
    "# import seaborn as sns\n",
    "import numpy as np\n",
    " \n",
    "from sklearn.model_selection import train_test_split\n",
    "from sklearn.linear_model import LogisticRegressionCV\n",
    "from sklearn.svm import SVC"
   ]
  },
  {
   "cell_type": "code",
   "execution_count": 13,
   "metadata": {},
   "outputs": [],
   "source": [
    "def load_object(filename):\n",
    "    with open(filename, 'rb') as input:\n",
    "        return pickle.load(input)"
   ]
  },
  {
   "cell_type": "code",
   "execution_count": 14,
   "metadata": {},
   "outputs": [
    {
     "name": "stderr",
     "output_type": "stream",
     "text": [
      "/opt/conda/lib/python3.6/site-packages/sklearn/base.py:306: UserWarning: Trying to unpickle estimator SVC from version 0.21.0 when using version 0.21.3. This might lead to breaking code or invalid results. Use at your own risk.\n",
      "  UserWarning)\n"
     ]
    }
   ],
   "source": [
    "model = load_object(\"../input/svm-model/svm4.pkl\")"
   ]
  },
  {
   "cell_type": "code",
   "execution_count": 15,
   "metadata": {},
   "outputs": [
    {
     "name": "stderr",
     "output_type": "stream",
     "text": [
      "\r",
      "0it [00:00, ?it/s]"
     ]
    },
    {
     "name": "stdout",
     "output_type": "stream",
     "text": [
      "0 iorbtaarte.mp4\n"
     ]
    },
    {
     "name": "stderr",
     "output_type": "stream",
     "text": [
      "\r",
      "1it [00:04,  4.57s/it]"
     ]
    },
    {
     "name": "stdout",
     "output_type": "stream",
     "text": [
      "0.4759928826432183\n",
      "1 vnlzxqwthl.mp4\n"
     ]
    },
    {
     "name": "stderr",
     "output_type": "stream",
     "text": [
      "\r",
      "2it [00:09,  4.57s/it]"
     ]
    },
    {
     "name": "stdout",
     "output_type": "stream",
     "text": [
      "0.4340284773789562\n",
      "2 gqnaxievjx.mp4\n"
     ]
    },
    {
     "name": "stderr",
     "output_type": "stream",
     "text": [
      "\r",
      "3it [00:32, 10.10s/it]"
     ]
    },
    {
     "name": "stdout",
     "output_type": "stream",
     "text": [
      "1\n",
      "3 sjkfxrlxxs.mp4\n"
     ]
    },
    {
     "name": "stderr",
     "output_type": "stream",
     "text": [
      "\r",
      "4it [00:37,  8.53s/it]"
     ]
    },
    {
     "name": "stdout",
     "output_type": "stream",
     "text": [
      "0.8155372868694606\n",
      "4 eppyqpgewp.mp4\n"
     ]
    },
    {
     "name": "stderr",
     "output_type": "stream",
     "text": [
      "\r",
      "5it [00:41,  7.44s/it]"
     ]
    },
    {
     "name": "stdout",
     "output_type": "stream",
     "text": [
      "0.6138921728101433\n",
      "5 oaguiggjyv.mp4\n"
     ]
    },
    {
     "name": "stderr",
     "output_type": "stream",
     "text": [
      "\r",
      "6it [00:46,  6.58s/it]"
     ]
    },
    {
     "name": "stdout",
     "output_type": "stream",
     "text": [
      "0.7054962293905696\n",
      "6 ahjnxtiamx.mp4\n"
     ]
    },
    {
     "name": "stderr",
     "output_type": "stream",
     "text": [
      "\r",
      "7it [00:51,  5.96s/it]"
     ]
    },
    {
     "name": "stdout",
     "output_type": "stream",
     "text": [
      "0.5934534599381522\n",
      "7 snlyjbnpgw.mp4\n"
     ]
    },
    {
     "name": "stderr",
     "output_type": "stream",
     "text": [
      "\r",
      "8it [01:14, 11.12s/it]"
     ]
    },
    {
     "name": "stdout",
     "output_type": "stream",
     "text": [
      "1\n",
      "8 hzssdinxec.mp4\n"
     ]
    },
    {
     "name": "stderr",
     "output_type": "stream",
     "text": [
      "\r",
      "9it [01:19,  9.25s/it]"
     ]
    },
    {
     "name": "stdout",
     "output_type": "stream",
     "text": [
      "0.8464600023591955\n",
      "9 honxqdilvv.mp4\n"
     ]
    },
    {
     "name": "stderr",
     "output_type": "stream",
     "text": [
      "\r",
      "10it [01:27,  8.94s/it]"
     ]
    },
    {
     "name": "stdout",
     "output_type": "stream",
     "text": [
      "0.8260286296158137\n",
      "10 nthpnwylxo.mp4\n"
     ]
    },
    {
     "name": "stderr",
     "output_type": "stream",
     "text": [
      "\r",
      "11it [01:32,  7.74s/it]"
     ]
    },
    {
     "name": "stdout",
     "output_type": "stream",
     "text": [
      "0.5934374455477662\n",
      "11 xdezcezszc.mp4\n"
     ]
    },
    {
     "name": "stderr",
     "output_type": "stream",
     "text": [
      "\r",
      "12it [01:37,  6.89s/it]"
     ]
    },
    {
     "name": "stdout",
     "output_type": "stream",
     "text": [
      "0.8079298403009149\n",
      "12 viteugozpv.mp4\n"
     ]
    },
    {
     "name": "stderr",
     "output_type": "stream",
     "text": [
      "\r",
      "13it [01:41,  6.16s/it]"
     ]
    },
    {
     "name": "stdout",
     "output_type": "stream",
     "text": [
      "0.8912976621995133\n",
      "13 zuwwbbusgl.mp4\n"
     ]
    },
    {
     "name": "stderr",
     "output_type": "stream",
     "text": [
      "\r",
      "14it [01:46,  5.68s/it]"
     ]
    },
    {
     "name": "stdout",
     "output_type": "stream",
     "text": [
      "0.44394433751435775\n",
      "14 mnowxangqx.mp4\n"
     ]
    },
    {
     "name": "stderr",
     "output_type": "stream",
     "text": [
      "\r",
      "15it [01:50,  5.38s/it]"
     ]
    },
    {
     "name": "stdout",
     "output_type": "stream",
     "text": [
      "0.9507707614049921\n",
      "15 mwnibuujwz.mp4\n"
     ]
    },
    {
     "name": "stderr",
     "output_type": "stream",
     "text": [
      "\r",
      "16it [01:55,  5.16s/it]"
     ]
    },
    {
     "name": "stdout",
     "output_type": "stream",
     "text": [
      "0.5934446264448012\n",
      "16 xphdfgmfmz.mp4\n"
     ]
    },
    {
     "name": "stderr",
     "output_type": "stream",
     "text": [
      "\r",
      "17it [02:00,  5.06s/it]"
     ]
    },
    {
     "name": "stdout",
     "output_type": "stream",
     "text": [
      "0.5940271619077724\n",
      "17 khpipxnsvx.mp4\n"
     ]
    },
    {
     "name": "stderr",
     "output_type": "stream",
     "text": [
      "\r",
      "18it [02:05,  4.96s/it]"
     ]
    },
    {
     "name": "stdout",
     "output_type": "stream",
     "text": [
      "0.5982321525877627\n",
      "18 zcxcmneefk.mp4\n"
     ]
    },
    {
     "name": "stderr",
     "output_type": "stream",
     "text": [
      "\r",
      "19it [02:09,  4.80s/it]"
     ]
    },
    {
     "name": "stdout",
     "output_type": "stream",
     "text": [
      "0.6083554316342477\n",
      "19 vurjckblge.mp4\n"
     ]
    },
    {
     "name": "stderr",
     "output_type": "stream",
     "text": [
      "\r",
      "20it [02:15,  5.23s/it]"
     ]
    },
    {
     "name": "stdout",
     "output_type": "stream",
     "text": [
      "0.5817300113274652\n",
      "20 lujvyveojc.mp4\n"
     ]
    },
    {
     "name": "stderr",
     "output_type": "stream",
     "text": [
      "\r",
      "21it [02:38, 10.48s/it]"
     ]
    },
    {
     "name": "stdout",
     "output_type": "stream",
     "text": [
      "1\n",
      "21 coujjnypba.mp4\n"
     ]
    },
    {
     "name": "stderr",
     "output_type": "stream",
     "text": [
      "\r",
      "22it [02:48, 10.32s/it]"
     ]
    },
    {
     "name": "stdout",
     "output_type": "stream",
     "text": [
      "0.5436427433963879\n",
      "22 yoyhmxtrys.mp4\n"
     ]
    },
    {
     "name": "stderr",
     "output_type": "stream",
     "text": [
      "\r",
      "23it [03:06, 12.59s/it]"
     ]
    },
    {
     "name": "stdout",
     "output_type": "stream",
     "text": [
      "0.5997636365660853\n",
      "23 papagllumt.mp4\n"
     ]
    },
    {
     "name": "stderr",
     "output_type": "stream",
     "text": [
      "\r",
      "24it [03:12, 10.66s/it]"
     ]
    },
    {
     "name": "stdout",
     "output_type": "stream",
     "text": [
      "0.6785691463310338\n",
      "24 imdmhwkkni.mp4\n"
     ]
    },
    {
     "name": "stderr",
     "output_type": "stream",
     "text": [
      "\r",
      "25it [03:16,  8.82s/it]"
     ]
    },
    {
     "name": "stdout",
     "output_type": "stream",
     "text": [
      "0.5943116584053312\n",
      "25 oelqpetgwj.mp4\n"
     ]
    },
    {
     "name": "stderr",
     "output_type": "stream",
     "text": [
      "\r",
      "26it [03:21,  7.66s/it]"
     ]
    },
    {
     "name": "stdout",
     "output_type": "stream",
     "text": [
      "0.593444435954919\n",
      "26 orixbcfvdz.mp4\n"
     ]
    },
    {
     "name": "stderr",
     "output_type": "stream",
     "text": [
      "\r",
      "27it [03:28,  7.31s/it]"
     ]
    },
    {
     "name": "stdout",
     "output_type": "stream",
     "text": [
      "0.9694266920784774\n",
      "27 jiavqbrkyk.mp4\n"
     ]
    },
    {
     "name": "stderr",
     "output_type": "stream",
     "text": [
      "\r",
      "28it [03:32,  6.48s/it]"
     ]
    },
    {
     "name": "stdout",
     "output_type": "stream",
     "text": [
      "0.5930891597219408\n",
      "28 jquevmhdvc.mp4\n"
     ]
    },
    {
     "name": "stderr",
     "output_type": "stream",
     "text": [
      "\r",
      "29it [03:37,  5.89s/it]"
     ]
    },
    {
     "name": "stdout",
     "output_type": "stream",
     "text": [
      "0.5\n",
      "29 igpvrfjdzc.mp4\n"
     ]
    },
    {
     "name": "stderr",
     "output_type": "stream",
     "text": [
      "\r",
      "30it [03:42,  5.50s/it]"
     ]
    },
    {
     "name": "stdout",
     "output_type": "stream",
     "text": [
      "0.6658794995344095\n",
      "30 vizerpsvbz.mp4\n"
     ]
    },
    {
     "name": "stderr",
     "output_type": "stream",
     "text": [
      "\r",
      "31it [03:46,  5.20s/it]"
     ]
    },
    {
     "name": "stdout",
     "output_type": "stream",
     "text": [
      "0.6113205360868456\n",
      "31 rfwxcinshk.mp4\n"
     ]
    },
    {
     "name": "stderr",
     "output_type": "stream",
     "text": [
      "\r",
      "32it [03:52,  5.58s/it]"
     ]
    },
    {
     "name": "stdout",
     "output_type": "stream",
     "text": [
      "0.4704317315343588\n",
      "32 hsbwhlolsn.mp4\n"
     ]
    },
    {
     "name": "stderr",
     "output_type": "stream",
     "text": [
      "\r",
      "33it [03:57,  5.28s/it]"
     ]
    },
    {
     "name": "stdout",
     "output_type": "stream",
     "text": [
      "0.6400042465063318\n",
      "33 evysmtpnrf.mp4\n"
     ]
    },
    {
     "name": "stderr",
     "output_type": "stream",
     "text": [
      "\r",
      "34it [04:02,  5.06s/it]"
     ]
    },
    {
     "name": "stdout",
     "output_type": "stream",
     "text": [
      "0.6101460182361754\n",
      "34 prwsfljdjo.mp4\n"
     ]
    },
    {
     "name": "stderr",
     "output_type": "stream",
     "text": [
      "\r",
      "35it [04:08,  5.41s/it]"
     ]
    },
    {
     "name": "stdout",
     "output_type": "stream",
     "text": [
      "0.615618447828995\n",
      "35 hsbljbsgxr.mp4\n"
     ]
    },
    {
     "name": "stderr",
     "output_type": "stream",
     "text": [
      "\r",
      "36it [04:13,  5.24s/it]"
     ]
    },
    {
     "name": "stdout",
     "output_type": "stream",
     "text": [
      "0.3919662266243422\n",
      "36 wixbuuzygv.mp4\n"
     ]
    },
    {
     "name": "stderr",
     "output_type": "stream",
     "text": [
      "\r",
      "37it [04:17,  5.03s/it]"
     ]
    },
    {
     "name": "stdout",
     "output_type": "stream",
     "text": [
      "0.967774371180652\n",
      "37 qclpbcbgeq.mp4\n"
     ]
    },
    {
     "name": "stderr",
     "output_type": "stream",
     "text": [
      "\r",
      "38it [04:39,  9.99s/it]"
     ]
    },
    {
     "name": "stdout",
     "output_type": "stream",
     "text": [
      "0.40792874524424344\n",
      "38 wclvkepakb.mp4\n"
     ]
    },
    {
     "name": "stderr",
     "output_type": "stream",
     "text": [
      "\r",
      "39it [04:47,  9.47s/it]"
     ]
    },
    {
     "name": "stdout",
     "output_type": "stream",
     "text": [
      "0.3627209437057811\n",
      "39 eyguqfmgzh.mp4\n"
     ]
    },
    {
     "name": "stderr",
     "output_type": "stream",
     "text": [
      "\r",
      "40it [04:52,  8.01s/it]"
     ]
    },
    {
     "name": "stdout",
     "output_type": "stream",
     "text": [
      "0.59508734837141\n",
      "40 alrtntfxtd.mp4\n"
     ]
    },
    {
     "name": "stderr",
     "output_type": "stream",
     "text": [
      "\r",
      "41it [05:01,  8.52s/it]"
     ]
    },
    {
     "name": "stdout",
     "output_type": "stream",
     "text": [
      "0.6007147637135928\n",
      "41 upmgtackuf.mp4\n"
     ]
    },
    {
     "name": "stderr",
     "output_type": "stream",
     "text": [
      "\r",
      "42it [05:06,  7.44s/it]"
     ]
    },
    {
     "name": "stdout",
     "output_type": "stream",
     "text": [
      "0.6507849571040015\n",
      "42 elackxuccp.mp4\n"
     ]
    },
    {
     "name": "stderr",
     "output_type": "stream",
     "text": [
      "\r",
      "43it [05:11,  6.55s/it]"
     ]
    },
    {
     "name": "stdout",
     "output_type": "stream",
     "text": [
      "0.5692067668329939\n",
      "43 xitgdpzbxv.mp4\n"
     ]
    },
    {
     "name": "stderr",
     "output_type": "stream",
     "text": [
      "\r",
      "44it [05:15,  5.93s/it]"
     ]
    },
    {
     "name": "stdout",
     "output_type": "stream",
     "text": [
      "0.5966689187639508\n",
      "44 wmoqzxddkb.mp4\n"
     ]
    },
    {
     "name": "stderr",
     "output_type": "stream",
     "text": [
      "\r",
      "45it [05:20,  5.45s/it]"
     ]
    },
    {
     "name": "stdout",
     "output_type": "stream",
     "text": [
      "0.7986478199334149\n",
      "45 vjljdfopjg.mp4\n"
     ]
    },
    {
     "name": "stderr",
     "output_type": "stream",
     "text": [
      "\r",
      "46it [05:24,  5.22s/it]"
     ]
    },
    {
     "name": "stdout",
     "output_type": "stream",
     "text": [
      "0.7602656874320424\n",
      "46 ncoeewrdlo.mp4\n"
     ]
    },
    {
     "name": "stderr",
     "output_type": "stream",
     "text": [
      "\r",
      "47it [05:29,  5.22s/it]"
     ]
    },
    {
     "name": "stdout",
     "output_type": "stream",
     "text": [
      "0.7529019345425872\n",
      "47 txnmkabufs.mp4\n"
     ]
    },
    {
     "name": "stderr",
     "output_type": "stream",
     "text": [
      "\r",
      "48it [05:34,  4.99s/it]"
     ]
    },
    {
     "name": "stdout",
     "output_type": "stream",
     "text": [
      "0.8549363398985033\n",
      "48 wcssbghcpc.mp4\n"
     ]
    },
    {
     "name": "stderr",
     "output_type": "stream",
     "text": [
      "\r",
      "49it [05:41,  5.51s/it]"
     ]
    },
    {
     "name": "stdout",
     "output_type": "stream",
     "text": [
      "0.6212683745578854\n",
      "49 ncmpqwmnzb.mp4\n"
     ]
    },
    {
     "name": "stderr",
     "output_type": "stream",
     "text": [
      "\r",
      "50it [05:45,  5.20s/it]"
     ]
    },
    {
     "name": "stdout",
     "output_type": "stream",
     "text": [
      "0.5941951846444343\n",
      "50 ytddugrwph.mp4\n"
     ]
    },
    {
     "name": "stderr",
     "output_type": "stream",
     "text": [
      "\r",
      "51it [05:50,  5.00s/it]"
     ]
    },
    {
     "name": "stdout",
     "output_type": "stream",
     "text": [
      "0.5929728219504663\n",
      "51 mkmgcxaztt.mp4\n"
     ]
    },
    {
     "name": "stderr",
     "output_type": "stream",
     "text": [
      "\r",
      "52it [05:54,  4.82s/it]"
     ]
    },
    {
     "name": "stdout",
     "output_type": "stream",
     "text": [
      "0.2997290173115641\n",
      "52 qhsehzgxqj.mp4\n"
     ]
    },
    {
     "name": "stderr",
     "output_type": "stream",
     "text": [
      "\r",
      "53it [05:59,  4.76s/it]"
     ]
    },
    {
     "name": "stdout",
     "output_type": "stream",
     "text": [
      "0.6459336979660184\n",
      "53 zfrrixsimm.mp4\n"
     ]
    },
    {
     "name": "stderr",
     "output_type": "stream",
     "text": [
      "\r",
      "54it [06:03,  4.68s/it]"
     ]
    },
    {
     "name": "stdout",
     "output_type": "stream",
     "text": [
      "0.7166340491146733\n",
      "54 mdfndlljvt.mp4\n"
     ]
    },
    {
     "name": "stderr",
     "output_type": "stream",
     "text": [
      "\r",
      "55it [06:09,  5.14s/it]"
     ]
    },
    {
     "name": "stdout",
     "output_type": "stream",
     "text": [
      "0.8224967606380869\n",
      "55 ecumyiowzs.mp4\n"
     ]
    },
    {
     "name": "stderr",
     "output_type": "stream",
     "text": [
      "\r",
      "56it [06:14,  5.03s/it]"
     ]
    },
    {
     "name": "stdout",
     "output_type": "stream",
     "text": [
      "0.6470012234950352\n",
      "56 wjhpisoeaj.mp4\n"
     ]
    },
    {
     "name": "stderr",
     "output_type": "stream",
     "text": [
      "\r",
      "57it [06:27,  7.37s/it]"
     ]
    },
    {
     "name": "stdout",
     "output_type": "stream",
     "text": [
      "0.7126353411115622\n",
      "57 yxvmusxvcz.mp4\n"
     ]
    },
    {
     "name": "stderr",
     "output_type": "stream",
     "text": [
      "\r",
      "58it [06:32,  6.53s/it]"
     ]
    },
    {
     "name": "stdout",
     "output_type": "stream",
     "text": [
      "0.6049289808304307\n",
      "58 dxfdovivlw.mp4\n"
     ]
    },
    {
     "name": "stderr",
     "output_type": "stream",
     "text": [
      "\r",
      "59it [06:38,  6.57s/it]"
     ]
    },
    {
     "name": "stdout",
     "output_type": "stream",
     "text": [
      "0.6692735711684393\n",
      "59 sjwywglgym.mp4\n"
     ]
    },
    {
     "name": "stderr",
     "output_type": "stream",
     "text": [
      "\r",
      "60it [06:48,  7.59s/it]"
     ]
    },
    {
     "name": "stdout",
     "output_type": "stream",
     "text": [
      "0.5956078705247082\n",
      "60 rukyxomwcx.mp4\n"
     ]
    },
    {
     "name": "stderr",
     "output_type": "stream",
     "text": [
      "\r",
      "61it [06:53,  6.67s/it]"
     ]
    },
    {
     "name": "stdout",
     "output_type": "stream",
     "text": [
      "0.5924285540243649\n",
      "61 blnmxntbey.mp4\n"
     ]
    },
    {
     "name": "stderr",
     "output_type": "stream",
     "text": [
      "\r",
      "62it [07:09,  9.50s/it]"
     ]
    },
    {
     "name": "stdout",
     "output_type": "stream",
     "text": [
      "0.5859383431351946\n",
      "62 opvqdabdap.mp4\n"
     ]
    },
    {
     "name": "stderr",
     "output_type": "stream",
     "text": [
      "\r",
      "63it [07:14,  8.16s/it]"
     ]
    },
    {
     "name": "stdout",
     "output_type": "stream",
     "text": [
      "0.9122995207022907\n",
      "63 qlvsqdroqo.mp4\n"
     ]
    },
    {
     "name": "stderr",
     "output_type": "stream",
     "text": [
      "\r",
      "64it [07:37, 12.55s/it]"
     ]
    },
    {
     "name": "stdout",
     "output_type": "stream",
     "text": [
      "1\n",
      "64 lpgxwdgnio.mp4\n"
     ]
    },
    {
     "name": "stderr",
     "output_type": "stream",
     "text": [
      "\r",
      "65it [07:41, 10.24s/it]"
     ]
    },
    {
     "name": "stdout",
     "output_type": "stream",
     "text": [
      "0.22832835953354888\n",
      "65 keioymnobc.mp4\n"
     ]
    },
    {
     "name": "stderr",
     "output_type": "stream",
     "text": [
      "\r",
      "66it [07:46,  8.52s/it]"
     ]
    },
    {
     "name": "stdout",
     "output_type": "stream",
     "text": [
      "0.5930542328760743\n",
      "66 qarqtkvgby.mp4\n"
     ]
    },
    {
     "name": "stderr",
     "output_type": "stream",
     "text": [
      "\r",
      "67it [07:54,  8.40s/it]"
     ]
    },
    {
     "name": "stdout",
     "output_type": "stream",
     "text": [
      "0.2316399116465536\n",
      "67 tyjpjpglgx.mp4\n"
     ]
    },
    {
     "name": "stderr",
     "output_type": "stream",
     "text": [
      "\r",
      "68it [08:02,  8.26s/it]"
     ]
    },
    {
     "name": "stdout",
     "output_type": "stream",
     "text": [
      "0.7476317509758577\n",
      "68 jyfvaequfg.mp4\n"
     ]
    },
    {
     "name": "stderr",
     "output_type": "stream",
     "text": [
      "\r",
      "69it [08:07,  7.13s/it]"
     ]
    },
    {
     "name": "stdout",
     "output_type": "stream",
     "text": [
      "0.34382979189264795\n",
      "69 wndursivcx.mp4\n"
     ]
    },
    {
     "name": "stderr",
     "output_type": "stream",
     "text": [
      "\r",
      "70it [08:11,  6.38s/it]"
     ]
    },
    {
     "name": "stdout",
     "output_type": "stream",
     "text": [
      "0.6019798532698457\n",
      "70 cjkctqqakb.mp4\n"
     ]
    },
    {
     "name": "stderr",
     "output_type": "stream",
     "text": [
      "\r",
      "71it [08:16,  5.87s/it]"
     ]
    },
    {
     "name": "stdout",
     "output_type": "stream",
     "text": [
      "0.7739646049023332\n",
      "71 srfefmyjvt.mp4\n"
     ]
    },
    {
     "name": "stderr",
     "output_type": "stream",
     "text": [
      "\r",
      "72it [08:20,  5.50s/it]"
     ]
    },
    {
     "name": "stdout",
     "output_type": "stream",
     "text": [
      "0.5922253759582572\n",
      "72 tejfudfgpq.mp4\n"
     ]
    },
    {
     "name": "stderr",
     "output_type": "stream",
     "text": [
      "\r",
      "73it [08:26,  5.37s/it]"
     ]
    },
    {
     "name": "stdout",
     "output_type": "stream",
     "text": [
      "0.6482849058608982\n",
      "73 petmyhjclt.mp4\n"
     ]
    },
    {
     "name": "stderr",
     "output_type": "stream",
     "text": [
      "\r",
      "74it [08:36,  6.77s/it]"
     ]
    },
    {
     "name": "stdout",
     "output_type": "stream",
     "text": [
      "0.02175316447407193\n",
      "74 bkuzquigyt.mp4\n"
     ]
    },
    {
     "name": "stderr",
     "output_type": "stream",
     "text": [
      "\r",
      "75it [08:42,  6.58s/it]"
     ]
    },
    {
     "name": "stdout",
     "output_type": "stream",
     "text": [
      "0.35222886858407493\n",
      "75 apedduehoy.mp4\n"
     ]
    },
    {
     "name": "stderr",
     "output_type": "stream",
     "text": [
      "\r",
      "76it [08:47,  6.05s/it]"
     ]
    },
    {
     "name": "stdout",
     "output_type": "stream",
     "text": [
      "0.6288914084104018\n",
      "76 zmxeiipnqb.mp4\n"
     ]
    },
    {
     "name": "stderr",
     "output_type": "stream",
     "text": [
      "\r",
      "77it [08:51,  5.71s/it]"
     ]
    },
    {
     "name": "stdout",
     "output_type": "stream",
     "text": [
      "0.5783526977678037\n",
      "77 lnjkpdviqb.mp4\n"
     ]
    },
    {
     "name": "stderr",
     "output_type": "stream",
     "text": [
      "\r",
      "78it [08:56,  5.50s/it]"
     ]
    },
    {
     "name": "stdout",
     "output_type": "stream",
     "text": [
      "0.7425032888276926\n",
      "78 eqslzbqfea.mp4\n"
     ]
    },
    {
     "name": "stderr",
     "output_type": "stream",
     "text": [
      "\r",
      "79it [09:19, 10.66s/it]"
     ]
    },
    {
     "name": "stdout",
     "output_type": "stream",
     "text": [
      "1\n",
      "79 itfsvvmslp.mp4\n"
     ]
    },
    {
     "name": "stderr",
     "output_type": "stream",
     "text": [
      "\r",
      "80it [09:26,  9.44s/it]"
     ]
    },
    {
     "name": "stdout",
     "output_type": "stream",
     "text": [
      "0.20999284107154698\n",
      "80 novarhxpbj.mp4\n"
     ]
    },
    {
     "name": "stderr",
     "output_type": "stream",
     "text": [
      "\r",
      "81it [09:30,  7.97s/it]"
     ]
    },
    {
     "name": "stdout",
     "output_type": "stream",
     "text": [
      "0.9507996823718454\n",
      "81 ilqwcbprqa.mp4\n"
     ]
    },
    {
     "name": "stderr",
     "output_type": "stream",
     "text": [
      "\r",
      "82it [09:35,  6.96s/it]"
     ]
    },
    {
     "name": "stdout",
     "output_type": "stream",
     "text": [
      "0.004974165890180802\n",
      "82 yronlutbgm.mp4\n"
     ]
    },
    {
     "name": "stderr",
     "output_type": "stream",
     "text": [
      "\r",
      "83it [09:40,  6.25s/it]"
     ]
    },
    {
     "name": "stdout",
     "output_type": "stream",
     "text": [
      "0.7730060592505156\n",
      "83 eisofhptvk.mp4\n"
     ]
    },
    {
     "name": "stderr",
     "output_type": "stream",
     "text": [
      "\r",
      "84it [09:50,  7.37s/it]"
     ]
    },
    {
     "name": "stdout",
     "output_type": "stream",
     "text": [
      "0.6004043831180969\n",
      "84 didzujjhtg.mp4\n"
     ]
    },
    {
     "name": "stderr",
     "output_type": "stream",
     "text": [
      "\r",
      "85it [09:54,  6.61s/it]"
     ]
    },
    {
     "name": "stdout",
     "output_type": "stream",
     "text": [
      "0.6665613493188899\n",
      "85 esjdyghhog.mp4\n"
     ]
    },
    {
     "name": "stderr",
     "output_type": "stream",
     "text": [
      "\r",
      "86it [09:59,  6.05s/it]"
     ]
    },
    {
     "name": "stdout",
     "output_type": "stream",
     "text": [
      "0.6048011914983592\n",
      "86 bfdopzvxbi.mp4\n"
     ]
    },
    {
     "name": "stderr",
     "output_type": "stream",
     "text": [
      "\r",
      "87it [10:10,  7.62s/it]"
     ]
    },
    {
     "name": "stdout",
     "output_type": "stream",
     "text": [
      "0.9246819547125762\n",
      "87 ptbnewtvon.mp4\n"
     ]
    },
    {
     "name": "stderr",
     "output_type": "stream",
     "text": [
      "\r",
      "88it [10:15,  6.75s/it]"
     ]
    },
    {
     "name": "stdout",
     "output_type": "stream",
     "text": [
      "0.6534475241513285\n",
      "88 oysopgovhu.mp4\n"
     ]
    },
    {
     "name": "stderr",
     "output_type": "stream",
     "text": [
      "\r",
      "89it [10:20,  6.10s/it]"
     ]
    },
    {
     "name": "stdout",
     "output_type": "stream",
     "text": [
      "0.5880046143123645\n",
      "89 zxacihctqp.mp4\n"
     ]
    },
    {
     "name": "stderr",
     "output_type": "stream",
     "text": [
      "\r",
      "90it [10:29,  7.17s/it]"
     ]
    },
    {
     "name": "stdout",
     "output_type": "stream",
     "text": [
      "0.8290723823628346\n",
      "90 fpevfidstw.mp4\n"
     ]
    },
    {
     "name": "stderr",
     "output_type": "stream",
     "text": [
      "\r",
      "91it [10:36,  6.89s/it]"
     ]
    },
    {
     "name": "stdout",
     "output_type": "stream",
     "text": [
      "0.5602298680464035\n",
      "91 ljouzjaqqe.mp4\n"
     ]
    },
    {
     "name": "stderr",
     "output_type": "stream",
     "text": [
      "\r",
      "92it [10:40,  6.17s/it]"
     ]
    },
    {
     "name": "stdout",
     "output_type": "stream",
     "text": [
      "0.2708176472832563\n",
      "92 aomqqjipcp.mp4\n"
     ]
    },
    {
     "name": "stderr",
     "output_type": "stream",
     "text": [
      "\r",
      "93it [10:45,  5.77s/it]"
     ]
    },
    {
     "name": "stdout",
     "output_type": "stream",
     "text": [
      "0.9990689000210614\n",
      "93 qcbkztamqc.mp4\n"
     ]
    },
    {
     "name": "stderr",
     "output_type": "stream",
     "text": [
      "\r",
      "94it [10:49,  5.41s/it]"
     ]
    },
    {
     "name": "stdout",
     "output_type": "stream",
     "text": [
      "0.9557873955450192\n",
      "94 mszblrdprw.mp4\n"
     ]
    },
    {
     "name": "stderr",
     "output_type": "stream",
     "text": [
      "\r",
      "95it [10:54,  5.17s/it]"
     ]
    },
    {
     "name": "stdout",
     "output_type": "stream",
     "text": [
      "0.5\n",
      "95 lbigytrrtr.mp4\n"
     ]
    },
    {
     "name": "stderr",
     "output_type": "stream",
     "text": [
      "\r",
      "96it [10:59,  4.95s/it]"
     ]
    },
    {
     "name": "stdout",
     "output_type": "stream",
     "text": [
      "0.5977711684858096\n",
      "96 bcvheslzrq.mp4\n"
     ]
    },
    {
     "name": "stderr",
     "output_type": "stream",
     "text": [
      "\r",
      "97it [11:03,  4.82s/it]"
     ]
    },
    {
     "name": "stdout",
     "output_type": "stream",
     "text": [
      "0.9089526983151671\n",
      "97 lpkgabskbw.mp4\n"
     ]
    },
    {
     "name": "stderr",
     "output_type": "stream",
     "text": [
      "\r",
      "98it [11:08,  4.73s/it]"
     ]
    },
    {
     "name": "stdout",
     "output_type": "stream",
     "text": [
      "0.02360855447431749\n",
      "98 uubgqnvfdl.mp4\n"
     ]
    },
    {
     "name": "stderr",
     "output_type": "stream",
     "text": [
      "\r",
      "99it [11:14,  5.21s/it]"
     ]
    },
    {
     "name": "stdout",
     "output_type": "stream",
     "text": [
      "0.5937111467428005\n",
      "99 zgjosltkie.mp4\n"
     ]
    },
    {
     "name": "stderr",
     "output_type": "stream",
     "text": [
      "\r",
      "100it [11:18,  4.99s/it]"
     ]
    },
    {
     "name": "stdout",
     "output_type": "stream",
     "text": [
      "0.5622590483240736\n",
      "100 eryjktdexi.mp4\n"
     ]
    },
    {
     "name": "stderr",
     "output_type": "stream",
     "text": [
      "\r",
      "101it [11:25,  5.45s/it]"
     ]
    },
    {
     "name": "stdout",
     "output_type": "stream",
     "text": [
      "0.7423652790564992\n",
      "101 bfjsthfhbd.mp4\n"
     ]
    },
    {
     "name": "stderr",
     "output_type": "stream",
     "text": [
      "\r",
      "102it [11:33,  6.35s/it]"
     ]
    },
    {
     "name": "stdout",
     "output_type": "stream",
     "text": [
      "0.821567679799675\n",
      "102 fopjiyxiqd.mp4\n"
     ]
    },
    {
     "name": "stderr",
     "output_type": "stream",
     "text": [
      "\r",
      "103it [11:56, 11.28s/it]"
     ]
    },
    {
     "name": "stdout",
     "output_type": "stream",
     "text": [
      "1\n",
      "103 nymodlmxni.mp4\n"
     ]
    },
    {
     "name": "stderr",
     "output_type": "stream",
     "text": [
      "\r",
      "104it [12:01,  9.27s/it]"
     ]
    },
    {
     "name": "stdout",
     "output_type": "stream",
     "text": [
      "0.9763086024431806\n",
      "104 cekarydqba.mp4\n"
     ]
    },
    {
     "name": "stderr",
     "output_type": "stream",
     "text": [
      "\r",
      "105it [12:05,  7.84s/it]"
     ]
    },
    {
     "name": "stdout",
     "output_type": "stream",
     "text": [
      "0.5557132418992777\n",
      "105 psesikjaxx.mp4\n"
     ]
    },
    {
     "name": "stderr",
     "output_type": "stream",
     "text": [
      "\r",
      "106it [12:10,  6.84s/it]"
     ]
    },
    {
     "name": "stdout",
     "output_type": "stream",
     "text": [
      "0.009901184169743109\n",
      "106 yllztsrwjw.mp4\n"
     ]
    },
    {
     "name": "stderr",
     "output_type": "stream",
     "text": [
      "\r",
      "107it [12:33, 11.79s/it]"
     ]
    },
    {
     "name": "stdout",
     "output_type": "stream",
     "text": [
      "0.7260621514470323\n",
      "107 kmcdjxmnoa.mp4\n"
     ]
    },
    {
     "name": "stderr",
     "output_type": "stream",
     "text": [
      "\r",
      "108it [12:41, 10.75s/it]"
     ]
    },
    {
     "name": "stdout",
     "output_type": "stream",
     "text": [
      "0.6788765807414142\n",
      "108 yaxgpxhavq.mp4\n"
     ]
    },
    {
     "name": "stderr",
     "output_type": "stream",
     "text": [
      "\r",
      "109it [12:53, 10.91s/it]"
     ]
    },
    {
     "name": "stdout",
     "output_type": "stream",
     "text": [
      "0.5936405063429904\n",
      "109 sktpeppbkc.mp4\n"
     ]
    },
    {
     "name": "stderr",
     "output_type": "stream",
     "text": [
      "\r",
      "110it [12:57,  9.05s/it]"
     ]
    },
    {
     "name": "stdout",
     "output_type": "stream",
     "text": [
      "0.594299494694845\n",
      "110 vokrpfjpeb.mp4\n"
     ]
    },
    {
     "name": "stderr",
     "output_type": "stream",
     "text": [
      "\r",
      "111it [13:02,  7.76s/it]"
     ]
    },
    {
     "name": "stdout",
     "output_type": "stream",
     "text": [
      "0.776106010837841\n",
      "111 qqnlrngaft.mp4\n"
     ]
    },
    {
     "name": "stderr",
     "output_type": "stream",
     "text": [
      "\r",
      "112it [13:07,  6.75s/it]"
     ]
    },
    {
     "name": "stdout",
     "output_type": "stream",
     "text": [
      "0.4037066966074591\n",
      "112 pcyswtgick.mp4\n"
     ]
    },
    {
     "name": "stderr",
     "output_type": "stream",
     "text": [
      "\r",
      "113it [13:11,  6.11s/it]"
     ]
    },
    {
     "name": "stdout",
     "output_type": "stream",
     "text": [
      "0.6412443125296833\n",
      "113 sngjsueuhs.mp4\n"
     ]
    },
    {
     "name": "stderr",
     "output_type": "stream",
     "text": [
      "\r",
      "114it [13:16,  5.68s/it]"
     ]
    },
    {
     "name": "stdout",
     "output_type": "stream",
     "text": [
      "0.5945535800295872\n",
      "114 hevcclcklc.mp4\n"
     ]
    },
    {
     "name": "stderr",
     "output_type": "stream",
     "text": [
      "\r",
      "115it [13:20,  5.27s/it]"
     ]
    },
    {
     "name": "stdout",
     "output_type": "stream",
     "text": [
      "0.5989397675758287\n",
      "115 rerpivllud.mp4\n"
     ]
    },
    {
     "name": "stderr",
     "output_type": "stream",
     "text": [
      "\r",
      "116it [13:33,  7.58s/it]"
     ]
    },
    {
     "name": "stdout",
     "output_type": "stream",
     "text": [
      "0.5572253068049342\n",
      "116 ziipxxchai.mp4\n"
     ]
    },
    {
     "name": "stderr",
     "output_type": "stream",
     "text": [
      "\r",
      "117it [13:38,  6.69s/it]"
     ]
    },
    {
     "name": "stdout",
     "output_type": "stream",
     "text": [
      "0.6648226575241173\n",
      "117 wnlubukrki.mp4\n"
     ]
    },
    {
     "name": "stderr",
     "output_type": "stream",
     "text": [
      "\r",
      "118it [13:44,  6.69s/it]"
     ]
    },
    {
     "name": "stdout",
     "output_type": "stream",
     "text": [
      "0.43695631988367384\n",
      "118 wfzjxzhdkj.mp4\n"
     ]
    },
    {
     "name": "stderr",
     "output_type": "stream",
     "text": [
      "\r",
      "119it [14:07, 11.60s/it]"
     ]
    },
    {
     "name": "stdout",
     "output_type": "stream",
     "text": [
      "1\n",
      "119 nikynwcvuh.mp4\n"
     ]
    },
    {
     "name": "stderr",
     "output_type": "stream",
     "text": [
      "\r",
      "120it [14:12,  9.49s/it]"
     ]
    },
    {
     "name": "stdout",
     "output_type": "stream",
     "text": [
      "0.8494454016959553\n",
      "120 bnuwxhfahw.mp4\n"
     ]
    },
    {
     "name": "stderr",
     "output_type": "stream",
     "text": [
      "\r",
      "121it [14:22,  9.55s/it]"
     ]
    },
    {
     "name": "stdout",
     "output_type": "stream",
     "text": [
      "0.6000603718214966\n",
      "121 mllzkpgatp.mp4\n"
     ]
    },
    {
     "name": "stderr",
     "output_type": "stream",
     "text": [
      "\r",
      "122it [14:26,  8.09s/it]"
     ]
    },
    {
     "name": "stdout",
     "output_type": "stream",
     "text": [
      "0.2360671535144897\n",
      "122 vhbbwdflyh.mp4\n"
     ]
    },
    {
     "name": "stderr",
     "output_type": "stream",
     "text": [
      "\r",
      "123it [14:31,  7.03s/it]"
     ]
    },
    {
     "name": "stdout",
     "output_type": "stream",
     "text": [
      "0.12894555573178312\n",
      "123 mohiqoogpb.mp4\n"
     ]
    },
    {
     "name": "stderr",
     "output_type": "stream",
     "text": [
      "\r",
      "124it [14:36,  6.36s/it]"
     ]
    },
    {
     "name": "stdout",
     "output_type": "stream",
     "text": [
      "0.4371656534890275\n",
      "124 ystdtnetgj.mp4\n"
     ]
    },
    {
     "name": "stderr",
     "output_type": "stream",
     "text": [
      "\r",
      "125it [14:40,  5.82s/it]"
     ]
    },
    {
     "name": "stdout",
     "output_type": "stream",
     "text": [
      "0.05733799094213891\n",
      "125 xrtvqhdibb.mp4\n"
     ]
    },
    {
     "name": "stderr",
     "output_type": "stream",
     "text": [
      "\r",
      "126it [14:49,  6.54s/it]"
     ]
    },
    {
     "name": "stdout",
     "output_type": "stream",
     "text": [
      "0.8236798776404679\n",
      "126 zfobicuigx.mp4\n"
     ]
    },
    {
     "name": "stderr",
     "output_type": "stream",
     "text": [
      "\r",
      "127it [14:53,  5.92s/it]"
     ]
    },
    {
     "name": "stdout",
     "output_type": "stream",
     "text": [
      "0.38191164779085346\n",
      "127 ibxfxggtqh.mp4\n"
     ]
    },
    {
     "name": "stderr",
     "output_type": "stream",
     "text": [
      "\r",
      "128it [15:01,  6.54s/it]"
     ]
    },
    {
     "name": "stdout",
     "output_type": "stream",
     "text": [
      "0.5988839155954921\n",
      "128 lyoslorecs.mp4\n"
     ]
    },
    {
     "name": "stderr",
     "output_type": "stream",
     "text": [
      "\r",
      "129it [15:24, 11.44s/it]"
     ]
    },
    {
     "name": "stdout",
     "output_type": "stream",
     "text": [
      "1\n",
      "129 dozjwhnedd.mp4\n"
     ]
    },
    {
     "name": "stderr",
     "output_type": "stream",
     "text": [
      "\r",
      "130it [15:28,  9.34s/it]"
     ]
    },
    {
     "name": "stdout",
     "output_type": "stream",
     "text": [
      "0.8243464471624895\n",
      "130 pdswwyyntw.mp4\n"
     ]
    },
    {
     "name": "stderr",
     "output_type": "stream",
     "text": [
      "\r",
      "131it [15:33,  7.89s/it]"
     ]
    },
    {
     "name": "stdout",
     "output_type": "stream",
     "text": [
      "0.8780763881993754\n",
      "131 ajiyrjfyzp.mp4\n"
     ]
    },
    {
     "name": "stderr",
     "output_type": "stream",
     "text": [
      "\r",
      "132it [15:37,  6.91s/it]"
     ]
    },
    {
     "name": "stdout",
     "output_type": "stream",
     "text": [
      "0.019594253077859673\n",
      "132 cqxxumarvp.mp4\n"
     ]
    },
    {
     "name": "stderr",
     "output_type": "stream",
     "text": [
      "\r",
      "133it [15:44,  6.66s/it]"
     ]
    },
    {
     "name": "stdout",
     "output_type": "stream",
     "text": [
      "0.9174352659089301\n",
      "133 sylnrepacf.mp4\n"
     ]
    },
    {
     "name": "stderr",
     "output_type": "stream",
     "text": [
      "\r",
      "134it [15:49,  6.16s/it]"
     ]
    },
    {
     "name": "stdout",
     "output_type": "stream",
     "text": [
      "0.6867227934774083\n",
      "134 lmdyicksrv.mp4\n"
     ]
    },
    {
     "name": "stderr",
     "output_type": "stream",
     "text": [
      "\r",
      "135it [15:55,  6.21s/it]"
     ]
    },
    {
     "name": "stdout",
     "output_type": "stream",
     "text": [
      "0.6031353403487026\n",
      "135 vmxfwxgdei.mp4\n"
     ]
    },
    {
     "name": "stderr",
     "output_type": "stream",
     "text": [
      "\r",
      "136it [16:00,  5.85s/it]"
     ]
    },
    {
     "name": "stdout",
     "output_type": "stream",
     "text": [
      "0.46468732519757\n",
      "136 pqthmvwonf.mp4\n"
     ]
    },
    {
     "name": "stderr",
     "output_type": "stream",
     "text": [
      "\r",
      "137it [16:08,  6.53s/it]"
     ]
    },
    {
     "name": "stdout",
     "output_type": "stream",
     "text": [
      "0.8732318893845336\n",
      "137 hnfwagcxdf.mp4\n"
     ]
    },
    {
     "name": "stderr",
     "output_type": "stream",
     "text": [
      "\r",
      "138it [16:12,  5.91s/it]"
     ]
    },
    {
     "name": "stdout",
     "output_type": "stream",
     "text": [
      "0.9420341485141216\n",
      "138 ljauauuyka.mp4\n"
     ]
    },
    {
     "name": "stderr",
     "output_type": "stream",
     "text": [
      "\r",
      "139it [16:17,  5.48s/it]"
     ]
    },
    {
     "name": "stdout",
     "output_type": "stream",
     "text": [
      "0.5846657598301384\n",
      "139 ybbrkacebd.mp4\n"
     ]
    },
    {
     "name": "stderr",
     "output_type": "stream",
     "text": [
      "\r",
      "140it [16:21,  5.21s/it]"
     ]
    },
    {
     "name": "stdout",
     "output_type": "stream",
     "text": [
      "0.5941080306615834\n",
      "140 qooxnxqqjb.mp4\n"
     ]
    },
    {
     "name": "stderr",
     "output_type": "stream",
     "text": [
      "\r",
      "141it [16:26,  5.02s/it]"
     ]
    },
    {
     "name": "stdout",
     "output_type": "stream",
     "text": [
      "0.7102026371486662\n",
      "141 omphqltjdd.mp4\n"
     ]
    },
    {
     "name": "stderr",
     "output_type": "stream",
     "text": [
      "\r",
      "142it [16:31,  4.89s/it]"
     ]
    },
    {
     "name": "stdout",
     "output_type": "stream",
     "text": [
      "0.5917579577835419\n",
      "142 tvhjcfnqtg.mp4\n"
     ]
    },
    {
     "name": "stderr",
     "output_type": "stream",
     "text": [
      "\r",
      "143it [16:35,  4.87s/it]"
     ]
    },
    {
     "name": "stdout",
     "output_type": "stream",
     "text": [
      "0.08761323747934438\n",
      "143 uqvxjfpwdo.mp4\n"
     ]
    },
    {
     "name": "stderr",
     "output_type": "stream",
     "text": [
      "\r",
      "144it [16:40,  4.85s/it]"
     ]
    },
    {
     "name": "stdout",
     "output_type": "stream",
     "text": [
      "0.7090904867737877\n",
      "144 sfsayjgzrh.mp4\n"
     ]
    },
    {
     "name": "stderr",
     "output_type": "stream",
     "text": [
      "\r",
      "145it [16:50,  6.23s/it]"
     ]
    },
    {
     "name": "stdout",
     "output_type": "stream",
     "text": [
      "0.5895170082040923\n",
      "145 blszgmxkvu.mp4\n"
     ]
    },
    {
     "name": "stderr",
     "output_type": "stream",
     "text": [
      "\r",
      "146it [17:06,  9.20s/it]"
     ]
    },
    {
     "name": "stdout",
     "output_type": "stream",
     "text": [
      "0.5945432676875464\n",
      "146 ggzjfrirjh.mp4\n"
     ]
    },
    {
     "name": "stderr",
     "output_type": "stream",
     "text": [
      "\r",
      "147it [17:10,  7.76s/it]"
     ]
    },
    {
     "name": "stdout",
     "output_type": "stream",
     "text": [
      "0.6829600770569336\n",
      "147 coqwgzpbhx.mp4\n"
     ]
    },
    {
     "name": "stderr",
     "output_type": "stream",
     "text": [
      "\r",
      "148it [17:15,  6.86s/it]"
     ]
    },
    {
     "name": "stdout",
     "output_type": "stream",
     "text": [
      "0.5965073093745248\n",
      "148 hyjqolupxn.mp4\n"
     ]
    },
    {
     "name": "stderr",
     "output_type": "stream",
     "text": [
      "\r",
      "149it [17:26,  8.24s/it]"
     ]
    },
    {
     "name": "stdout",
     "output_type": "stream",
     "text": [
      "0.6192350202138963\n",
      "149 kcjvhgvhpt.mp4\n"
     ]
    },
    {
     "name": "stderr",
     "output_type": "stream",
     "text": [
      "\r",
      "150it [17:31,  7.12s/it]"
     ]
    },
    {
     "name": "stdout",
     "output_type": "stream",
     "text": [
      "0.5108816500046416\n",
      "150 fxuxxtryjn.mp4\n"
     ]
    },
    {
     "name": "stderr",
     "output_type": "stream",
     "text": [
      "\r",
      "151it [17:36,  6.51s/it]"
     ]
    },
    {
     "name": "stdout",
     "output_type": "stream",
     "text": [
      "0.6541999756157951\n",
      "151 xjvxtuakyd.mp4\n"
     ]
    },
    {
     "name": "stderr",
     "output_type": "stream",
     "text": [
      "\r",
      "152it [17:42,  6.38s/it]"
     ]
    },
    {
     "name": "stdout",
     "output_type": "stream",
     "text": [
      "0.6983251471852655\n",
      "152 bofrwgeyjo.mp4\n"
     ]
    },
    {
     "name": "stderr",
     "output_type": "stream",
     "text": [
      "\r",
      "153it [17:47,  5.94s/it]"
     ]
    },
    {
     "name": "stdout",
     "output_type": "stream",
     "text": [
      "0.5918814169639077\n",
      "153 aassnaulhq.mp4\n"
     ]
    },
    {
     "name": "stderr",
     "output_type": "stream",
     "text": [
      "\r",
      "154it [17:52,  5.58s/it]"
     ]
    },
    {
     "name": "stdout",
     "output_type": "stream",
     "text": [
      "0.7924496548694814\n",
      "154 sqixhnilfm.mp4\n"
     ]
    },
    {
     "name": "stderr",
     "output_type": "stream",
     "text": [
      "\r",
      "155it [17:56,  5.23s/it]"
     ]
    },
    {
     "name": "stdout",
     "output_type": "stream",
     "text": [
      "0.5986823926488108\n",
      "155 gpsxfxrjrr.mp4\n"
     ]
    },
    {
     "name": "stderr",
     "output_type": "stream",
     "text": [
      "\r",
      "156it [18:01,  5.08s/it]"
     ]
    },
    {
     "name": "stdout",
     "output_type": "stream",
     "text": [
      "0.8453447112608425\n",
      "156 oojxonbgow.mp4\n"
     ]
    },
    {
     "name": "stderr",
     "output_type": "stream",
     "text": [
      "\r",
      "157it [18:06,  4.93s/it]"
     ]
    },
    {
     "name": "stdout",
     "output_type": "stream",
     "text": [
      "0.9147861160044781\n",
      "157 pcoxcmtroa.mp4\n"
     ]
    },
    {
     "name": "stderr",
     "output_type": "stream",
     "text": [
      "\r",
      "158it [18:10,  4.85s/it]"
     ]
    },
    {
     "name": "stdout",
     "output_type": "stream",
     "text": [
      "0.2843957706846183\n",
      "158 yietrwuncf.mp4\n"
     ]
    },
    {
     "name": "stderr",
     "output_type": "stream",
     "text": [
      "\r",
      "159it [18:33, 10.20s/it]"
     ]
    },
    {
     "name": "stdout",
     "output_type": "stream",
     "text": [
      "1\n",
      "159 jiswxuqzyz.mp4\n"
     ]
    },
    {
     "name": "stderr",
     "output_type": "stream",
     "text": [
      "\r",
      "160it [18:37,  8.51s/it]"
     ]
    },
    {
     "name": "stdout",
     "output_type": "stream",
     "text": [
      "0.5483335295428599\n",
      "160 oocincvedt.mp4\n"
     ]
    },
    {
     "name": "stderr",
     "output_type": "stream",
     "text": [
      "\r",
      "161it [18:42,  7.29s/it]"
     ]
    },
    {
     "name": "stdout",
     "output_type": "stream",
     "text": [
      "0.5933455245135129\n",
      "161 fnxgqcvlsd.mp4\n"
     ]
    },
    {
     "name": "stderr",
     "output_type": "stream",
     "text": [
      "\r",
      "162it [19:01, 10.94s/it]"
     ]
    },
    {
     "name": "stdout",
     "output_type": "stream",
     "text": [
      "0.5934540219894985\n",
      "162 ekvwecwltj.mp4\n"
     ]
    },
    {
     "name": "stderr",
     "output_type": "stream",
     "text": [
      "\r",
      "163it [19:24, 14.44s/it]"
     ]
    },
    {
     "name": "stdout",
     "output_type": "stream",
     "text": [
      "1\n",
      "163 qdqdsaiitt.mp4\n"
     ]
    },
    {
     "name": "stderr",
     "output_type": "stream",
     "text": [
      "\r",
      "164it [19:29, 11.48s/it]"
     ]
    },
    {
     "name": "stdout",
     "output_type": "stream",
     "text": [
      "0.8261400011006791\n",
      "164 wcvsqnplsk.mp4\n"
     ]
    },
    {
     "name": "stderr",
     "output_type": "stream",
     "text": [
      "\r",
      "165it [19:35,  9.92s/it]"
     ]
    },
    {
     "name": "stdout",
     "output_type": "stream",
     "text": [
      "0.06966014484443268\n",
      "165 uoccaiathd.mp4\n"
     ]
    },
    {
     "name": "stderr",
     "output_type": "stream",
     "text": [
      "\r",
      "166it [19:40,  8.38s/it]"
     ]
    },
    {
     "name": "stdout",
     "output_type": "stream",
     "text": [
      "0.6802201218526641\n",
      "166 rmufsuogzn.mp4\n"
     ]
    },
    {
     "name": "stderr",
     "output_type": "stream",
     "text": [
      "\r",
      "167it [19:44,  7.24s/it]"
     ]
    },
    {
     "name": "stdout",
     "output_type": "stream",
     "text": [
      "0.6607931681754244\n",
      "167 dtozwcapoa.mp4\n"
     ]
    },
    {
     "name": "stderr",
     "output_type": "stream",
     "text": [
      "\r",
      "168it [19:49,  6.45s/it]"
     ]
    },
    {
     "name": "stdout",
     "output_type": "stream",
     "text": [
      "0.9436881142568904\n",
      "168 mxahsihabr.mp4\n"
     ]
    },
    {
     "name": "stderr",
     "output_type": "stream",
     "text": [
      "\r",
      "169it [19:53,  5.87s/it]"
     ]
    },
    {
     "name": "stdout",
     "output_type": "stream",
     "text": [
      "0.6296809766607862\n",
      "169 zzmgnglanj.mp4\n"
     ]
    },
    {
     "name": "stderr",
     "output_type": "stream",
     "text": [
      "\r",
      "170it [20:03,  6.93s/it]"
     ]
    },
    {
     "name": "stdout",
     "output_type": "stream",
     "text": [
      "0.8278913121599438\n",
      "170 tgawasvbbr.mp4\n"
     ]
    },
    {
     "name": "stderr",
     "output_type": "stream",
     "text": [
      "\r",
      "171it [20:07,  6.22s/it]"
     ]
    },
    {
     "name": "stdout",
     "output_type": "stream",
     "text": [
      "0.7240900092800715\n",
      "171 cekwtyxdoo.mp4\n"
     ]
    },
    {
     "name": "stderr",
     "output_type": "stream",
     "text": [
      "\r",
      "172it [20:12,  5.76s/it]"
     ]
    },
    {
     "name": "stdout",
     "output_type": "stream",
     "text": [
      "0.00619127842047489\n",
      "172 rxdoimqble.mp4\n"
     ]
    },
    {
     "name": "stderr",
     "output_type": "stream",
     "text": [
      "\r",
      "173it [20:20,  6.35s/it]"
     ]
    },
    {
     "name": "stdout",
     "output_type": "stream",
     "text": [
      "0.7744372263833181\n",
      "173 toinozytsp.mp4\n"
     ]
    },
    {
     "name": "stderr",
     "output_type": "stream",
     "text": [
      "\r",
      "174it [20:39, 10.36s/it]"
     ]
    },
    {
     "name": "stdout",
     "output_type": "stream",
     "text": [
      "0.39032488795860937\n",
      "174 uhakqelqri.mp4\n"
     ]
    },
    {
     "name": "stderr",
     "output_type": "stream",
     "text": [
      "\r",
      "175it [20:44,  8.60s/it]"
     ]
    },
    {
     "name": "stdout",
     "output_type": "stream",
     "text": [
      "0.12391536855306008\n",
      "175 vajkicalux.mp4\n"
     ]
    },
    {
     "name": "stderr",
     "output_type": "stream",
     "text": [
      "\r",
      "176it [20:48,  7.36s/it]"
     ]
    },
    {
     "name": "stdout",
     "output_type": "stream",
     "text": [
      "0.5931462678627102\n",
      "176 qlqhjcshpk.mp4\n"
     ]
    },
    {
     "name": "stderr",
     "output_type": "stream",
     "text": [
      "\r",
      "177it [20:53,  6.53s/it]"
     ]
    },
    {
     "name": "stdout",
     "output_type": "stream",
     "text": [
      "0.7460081519677292\n",
      "177 gccnvdoknm.mp4\n"
     ]
    },
    {
     "name": "stderr",
     "output_type": "stream",
     "text": [
      "\r",
      "178it [20:58,  5.97s/it]"
     ]
    },
    {
     "name": "stdout",
     "output_type": "stream",
     "text": [
      "0.7515558467612319\n",
      "178 oyqgwjdwaj.mp4\n"
     ]
    },
    {
     "name": "stderr",
     "output_type": "stream",
     "text": [
      "\r",
      "179it [21:21, 11.05s/it]"
     ]
    },
    {
     "name": "stdout",
     "output_type": "stream",
     "text": [
      "1\n",
      "179 btdxnajogv.mp4\n"
     ]
    },
    {
     "name": "stderr",
     "output_type": "stream",
     "text": [
      "\r",
      "180it [21:25,  9.12s/it]"
     ]
    },
    {
     "name": "stdout",
     "output_type": "stream",
     "text": [
      "0.5935210683089164\n",
      "180 dzojiwfvba.mp4\n"
     ]
    },
    {
     "name": "stderr",
     "output_type": "stream",
     "text": [
      "\r",
      "181it [21:30,  7.74s/it]"
     ]
    },
    {
     "name": "stdout",
     "output_type": "stream",
     "text": [
      "0.5932803588869995\n",
      "181 kqlvggiqee.mp4\n"
     ]
    },
    {
     "name": "stderr",
     "output_type": "stream",
     "text": [
      "\r",
      "182it [21:34,  6.79s/it]"
     ]
    },
    {
     "name": "stdout",
     "output_type": "stream",
     "text": [
      "0.1494148673332227\n",
      "182 bjyaxvggle.mp4\n"
     ]
    },
    {
     "name": "stderr",
     "output_type": "stream",
     "text": [
      "\r",
      "183it [21:57, 11.59s/it]"
     ]
    },
    {
     "name": "stdout",
     "output_type": "stream",
     "text": [
      "1\n",
      "183 syxobtuucp.mp4\n"
     ]
    },
    {
     "name": "stderr",
     "output_type": "stream",
     "text": [
      "\r",
      "184it [22:02,  9.62s/it]"
     ]
    },
    {
     "name": "stdout",
     "output_type": "stream",
     "text": [
      "0.26201024482765256\n",
      "184 shnsajrsow.mp4\n"
     ]
    },
    {
     "name": "stderr",
     "output_type": "stream",
     "text": [
      "\r",
      "185it [22:25, 13.61s/it]"
     ]
    },
    {
     "name": "stdout",
     "output_type": "stream",
     "text": [
      "1\n",
      "185 temeqbmzxu.mp4\n"
     ]
    },
    {
     "name": "stderr",
     "output_type": "stream",
     "text": [
      "\r",
      "186it [22:29, 10.87s/it]"
     ]
    },
    {
     "name": "stdout",
     "output_type": "stream",
     "text": [
      "0.154655367415138\n",
      "186 jhczqfefgw.mp4\n"
     ]
    },
    {
     "name": "stderr",
     "output_type": "stream",
     "text": [
      "\r",
      "187it [22:53, 14.61s/it]"
     ]
    },
    {
     "name": "stdout",
     "output_type": "stream",
     "text": [
      "1\n",
      "187 qsjiypnjwi.mp4\n"
     ]
    },
    {
     "name": "stderr",
     "output_type": "stream",
     "text": [
      "\r",
      "188it [22:58, 11.72s/it]"
     ]
    },
    {
     "name": "stdout",
     "output_type": "stream",
     "text": [
      "0.007952036658603947\n",
      "188 ayipraspbn.mp4\n"
     ]
    },
    {
     "name": "stderr",
     "output_type": "stream",
     "text": [
      "\r",
      "189it [23:03,  9.68s/it]"
     ]
    },
    {
     "name": "stdout",
     "output_type": "stream",
     "text": [
      "0.5934475773905912\n",
      "189 yiykshcbaz.mp4\n"
     ]
    },
    {
     "name": "stderr",
     "output_type": "stream",
     "text": [
      "\r",
      "190it [23:07,  8.07s/it]"
     ]
    },
    {
     "name": "stdout",
     "output_type": "stream",
     "text": [
      "0.7776581268024438\n",
      "190 vwxednhlwz.mp4\n"
     ]
    },
    {
     "name": "stderr",
     "output_type": "stream",
     "text": [
      "\r",
      "191it [23:11,  6.98s/it]"
     ]
    },
    {
     "name": "stdout",
     "output_type": "stream",
     "text": [
      "0.8097974820093179\n",
      "191 nwvsbmyndn.mp4\n"
     ]
    },
    {
     "name": "stderr",
     "output_type": "stream",
     "text": [
      "\r",
      "192it [23:16,  6.23s/it]"
     ]
    },
    {
     "name": "stdout",
     "output_type": "stream",
     "text": [
      "0.6235428732053865\n",
      "192 ytopzxrswu.mp4\n"
     ]
    },
    {
     "name": "stderr",
     "output_type": "stream",
     "text": [
      "\r",
      "193it [23:21,  5.85s/it]"
     ]
    },
    {
     "name": "stdout",
     "output_type": "stream",
     "text": [
      "0.7118226256140122\n",
      "193 hszwwswewp.mp4\n"
     ]
    },
    {
     "name": "stderr",
     "output_type": "stream",
     "text": [
      "\r",
      "194it [23:25,  5.45s/it]"
     ]
    },
    {
     "name": "stdout",
     "output_type": "stream",
     "text": [
      "0.5940438235130915\n",
      "194 gahgyuwzbu.mp4\n"
     ]
    },
    {
     "name": "stderr",
     "output_type": "stream",
     "text": [
      "\r",
      "195it [23:42,  8.67s/it]"
     ]
    },
    {
     "name": "stdout",
     "output_type": "stream",
     "text": [
      "0.592026858694224\n",
      "195 sodvtfqbpf.mp4\n"
     ]
    },
    {
     "name": "stderr",
     "output_type": "stream",
     "text": [
      "\r",
      "196it [23:46,  7.52s/it]"
     ]
    },
    {
     "name": "stdout",
     "output_type": "stream",
     "text": [
      "0.7149814847572796\n",
      "196 rvvpazsffd.mp4\n"
     ]
    },
    {
     "name": "stderr",
     "output_type": "stream",
     "text": [
      "\r",
      "197it [23:51,  6.77s/it]"
     ]
    },
    {
     "name": "stdout",
     "output_type": "stream",
     "text": [
      "0.844325573047599\n",
      "197 hicjuubiau.mp4\n"
     ]
    },
    {
     "name": "stderr",
     "output_type": "stream",
     "text": [
      "\r",
      "198it [23:56,  6.11s/it]"
     ]
    },
    {
     "name": "stdout",
     "output_type": "stream",
     "text": [
      "0.6226701942599152\n",
      "198 rklawjhbpv.mp4\n"
     ]
    },
    {
     "name": "stderr",
     "output_type": "stream",
     "text": [
      "\r",
      "199it [24:01,  5.64s/it]"
     ]
    },
    {
     "name": "stdout",
     "output_type": "stream",
     "text": [
      "0.6021946340581867\n",
      "199 uvrzaczrbx.mp4\n"
     ]
    },
    {
     "name": "stderr",
     "output_type": "stream",
     "text": [
      "\r",
      "200it [24:05,  5.30s/it]"
     ]
    },
    {
     "name": "stdout",
     "output_type": "stream",
     "text": [
      "0.6265536521567473\n",
      "200 vbcgoyxsvn.mp4\n"
     ]
    },
    {
     "name": "stderr",
     "output_type": "stream",
     "text": [
      "\r",
      "201it [24:28, 10.52s/it]"
     ]
    },
    {
     "name": "stdout",
     "output_type": "stream",
     "text": [
      "1\n",
      "201 nwvloufjty.mp4\n"
     ]
    },
    {
     "name": "stderr",
     "output_type": "stream",
     "text": [
      "\r",
      "202it [24:32,  8.74s/it]"
     ]
    },
    {
     "name": "stdout",
     "output_type": "stream",
     "text": [
      "0.6126761477059743\n",
      "202 qswlzfgcgj.mp4\n"
     ]
    },
    {
     "name": "stderr",
     "output_type": "stream",
     "text": [
      "\r",
      "203it [24:37,  7.49s/it]"
     ]
    },
    {
     "name": "stdout",
     "output_type": "stream",
     "text": [
      "0.6887441163842137\n",
      "203 gcdtglsoqj.mp4\n"
     ]
    },
    {
     "name": "stderr",
     "output_type": "stream",
     "text": [
      "\r",
      "204it [24:42,  6.74s/it]"
     ]
    },
    {
     "name": "stdout",
     "output_type": "stream",
     "text": [
      "0.9482328610587534\n",
      "204 hweshqpfwe.mp4\n"
     ]
    },
    {
     "name": "stderr",
     "output_type": "stream",
     "text": [
      "\r",
      "205it [24:46,  6.07s/it]"
     ]
    },
    {
     "name": "stdout",
     "output_type": "stream",
     "text": [
      "0.8605201818674879\n",
      "205 hclsparpth.mp4\n"
     ]
    },
    {
     "name": "stderr",
     "output_type": "stream",
     "text": [
      "\r",
      "206it [24:51,  5.60s/it]"
     ]
    },
    {
     "name": "stdout",
     "output_type": "stream",
     "text": [
      "0.577542515281535\n",
      "206 ojsxxkalat.mp4\n"
     ]
    },
    {
     "name": "stderr",
     "output_type": "stream",
     "text": [
      "\r",
      "207it [24:57,  5.87s/it]"
     ]
    },
    {
     "name": "stdout",
     "output_type": "stream",
     "text": [
      "0.10558342803956271\n",
      "207 nswtvttxre.mp4\n"
     ]
    },
    {
     "name": "stderr",
     "output_type": "stream",
     "text": [
      "\r",
      "208it [25:02,  5.44s/it]"
     ]
    },
    {
     "name": "stdout",
     "output_type": "stream",
     "text": [
      "0.428360657101555\n",
      "208 doniqevxeg.mp4\n"
     ]
    },
    {
     "name": "stderr",
     "output_type": "stream",
     "text": [
      "\r",
      "209it [25:06,  5.19s/it]"
     ]
    },
    {
     "name": "stdout",
     "output_type": "stream",
     "text": [
      "0.6124107935411671\n",
      "209 ipvwtgdlre.mp4\n"
     ]
    },
    {
     "name": "stderr",
     "output_type": "stream",
     "text": [
      "\r",
      "210it [25:18,  7.00s/it]"
     ]
    },
    {
     "name": "stdout",
     "output_type": "stream",
     "text": [
      "0.5934698622778019\n",
      "210 sznkemeqro.mp4\n"
     ]
    },
    {
     "name": "stderr",
     "output_type": "stream",
     "text": [
      "\r",
      "211it [25:22,  6.31s/it]"
     ]
    },
    {
     "name": "stdout",
     "output_type": "stream",
     "text": [
      "0.5946202675660591\n",
      "211 hfsvqabzfq.mp4\n"
     ]
    },
    {
     "name": "stderr",
     "output_type": "stream",
     "text": [
      "\r",
      "212it [25:27,  5.88s/it]"
     ]
    },
    {
     "name": "stdout",
     "output_type": "stream",
     "text": [
      "0.6827842619795449\n",
      "212 xxzefxwyku.mp4\n"
     ]
    },
    {
     "name": "stderr",
     "output_type": "stream",
     "text": [
      "\r",
      "213it [25:32,  5.58s/it]"
     ]
    },
    {
     "name": "stdout",
     "output_type": "stream",
     "text": [
      "0.8855516268448962\n",
      "213 njzshtfmcw.mp4\n"
     ]
    },
    {
     "name": "stderr",
     "output_type": "stream",
     "text": [
      "\r",
      "214it [25:37,  5.24s/it]"
     ]
    },
    {
     "name": "stdout",
     "output_type": "stream",
     "text": [
      "0.5862002091191226\n",
      "214 mkzaekkvej.mp4\n"
     ]
    },
    {
     "name": "stderr",
     "output_type": "stream",
     "text": [
      "\r",
      "215it [25:41,  5.04s/it]"
     ]
    },
    {
     "name": "stdout",
     "output_type": "stream",
     "text": [
      "0.5983652774245249\n",
      "215 yxirnfyijn.mp4\n"
     ]
    },
    {
     "name": "stderr",
     "output_type": "stream",
     "text": [
      "\r",
      "216it [25:52,  6.92s/it]"
     ]
    },
    {
     "name": "stdout",
     "output_type": "stream",
     "text": [
      "0.5272335746906273\n",
      "216 hzoiotcykp.mp4\n"
     ]
    },
    {
     "name": "stderr",
     "output_type": "stream",
     "text": [
      "\r",
      "217it [25:57,  6.21s/it]"
     ]
    },
    {
     "name": "stdout",
     "output_type": "stream",
     "text": [
      "0.12630726539097184\n",
      "217 ywauoonmlr.mp4\n"
     ]
    },
    {
     "name": "stderr",
     "output_type": "stream",
     "text": [
      "\r",
      "218it [26:20, 11.15s/it]"
     ]
    },
    {
     "name": "stdout",
     "output_type": "stream",
     "text": [
      "1\n",
      "218 ypbtpunjvm.mp4\n"
     ]
    },
    {
     "name": "stderr",
     "output_type": "stream",
     "text": [
      "\r",
      "219it [26:31, 11.23s/it]"
     ]
    },
    {
     "name": "stdout",
     "output_type": "stream",
     "text": [
      "0.5958118769697078\n",
      "219 ruhtnngrqv.mp4\n"
     ]
    },
    {
     "name": "stderr",
     "output_type": "stream",
     "text": [
      "\r",
      "220it [26:36,  9.21s/it]"
     ]
    },
    {
     "name": "stdout",
     "output_type": "stream",
     "text": [
      "0.6898737069936642\n",
      "220 fsdrwikhge.mp4\n"
     ]
    },
    {
     "name": "stderr",
     "output_type": "stream",
     "text": [
      "\r",
      "221it [26:55, 12.30s/it]"
     ]
    },
    {
     "name": "stdout",
     "output_type": "stream",
     "text": [
      "0.7140290490270605\n",
      "221 gkutjglghz.mp4\n"
     ]
    },
    {
     "name": "stderr",
     "output_type": "stream",
     "text": [
      "\r",
      "222it [27:08, 12.49s/it]"
     ]
    },
    {
     "name": "stdout",
     "output_type": "stream",
     "text": [
      "0.5984018894338091\n",
      "222 hefisnapds.mp4\n"
     ]
    },
    {
     "name": "stderr",
     "output_type": "stream",
     "text": [
      "\r",
      "223it [27:16, 11.11s/it]"
     ]
    },
    {
     "name": "stdout",
     "output_type": "stream",
     "text": [
      "1.813185468139342e-05\n",
      "223 nkhzxomani.mp4\n"
     ]
    },
    {
     "name": "stderr",
     "output_type": "stream",
     "text": [
      "\r",
      "224it [27:39, 14.59s/it]"
     ]
    },
    {
     "name": "stdout",
     "output_type": "stream",
     "text": [
      "1\n",
      "224 bdshuoldwx.mp4\n"
     ]
    },
    {
     "name": "stderr",
     "output_type": "stream",
     "text": [
      "\r",
      "225it [27:45, 12.12s/it]"
     ]
    },
    {
     "name": "stdout",
     "output_type": "stream",
     "text": [
      "0.593874025425995\n",
      "225 ggdpclfcgk.mp4\n"
     ]
    },
    {
     "name": "stderr",
     "output_type": "stream",
     "text": [
      "\r",
      "226it [27:50,  9.86s/it]"
     ]
    },
    {
     "name": "stdout",
     "output_type": "stream",
     "text": [
      "0.35707870248787943\n",
      "226 llplvmcvbl.mp4\n"
     ]
    },
    {
     "name": "stderr",
     "output_type": "stream",
     "text": [
      "\r",
      "227it [28:12, 13.67s/it]"
     ]
    },
    {
     "name": "stdout",
     "output_type": "stream",
     "text": [
      "1\n",
      "227 esmqxszybs.mp4\n"
     ]
    },
    {
     "name": "stderr",
     "output_type": "stream",
     "text": [
      "\r",
      "228it [28:17, 10.93s/it]"
     ]
    },
    {
     "name": "stdout",
     "output_type": "stream",
     "text": [
      "0.5985864019894925\n",
      "228 xcruhaccxc.mp4\n"
     ]
    },
    {
     "name": "stderr",
     "output_type": "stream",
     "text": [
      "\r",
      "229it [28:22,  9.11s/it]"
     ]
    },
    {
     "name": "stdout",
     "output_type": "stream",
     "text": [
      "0.6800025147208459\n",
      "229 ihglzxzroo.mp4\n"
     ]
    },
    {
     "name": "stderr",
     "output_type": "stream",
     "text": [
      "\r",
      "230it [28:29,  8.73s/it]"
     ]
    },
    {
     "name": "stdout",
     "output_type": "stream",
     "text": [
      "0.74157685710697\n",
      "230 pxcfrszlgi.mp4\n"
     ]
    },
    {
     "name": "stderr",
     "output_type": "stream",
     "text": [
      "\r",
      "231it [28:34,  7.58s/it]"
     ]
    },
    {
     "name": "stdout",
     "output_type": "stream",
     "text": [
      "0.7470791169261533\n",
      "231 rmlzgerevr.mp4\n"
     ]
    },
    {
     "name": "stderr",
     "output_type": "stream",
     "text": [
      "\r",
      "232it [28:57, 12.05s/it]"
     ]
    },
    {
     "name": "stdout",
     "output_type": "stream",
     "text": [
      "1\n",
      "232 gochxzemmq.mp4\n"
     ]
    },
    {
     "name": "stderr",
     "output_type": "stream",
     "text": [
      "\r",
      "233it [29:02,  9.92s/it]"
     ]
    },
    {
     "name": "stdout",
     "output_type": "stream",
     "text": [
      "0.6130162034058337\n",
      "233 gfcycflhbo.mp4\n"
     ]
    },
    {
     "name": "stderr",
     "output_type": "stream",
     "text": [
      "\r",
      "234it [29:08,  8.95s/it]"
     ]
    },
    {
     "name": "stdout",
     "output_type": "stream",
     "text": [
      "0.7129185305256629\n",
      "234 wvgviwnwob.mp4\n"
     ]
    },
    {
     "name": "stderr",
     "output_type": "stream",
     "text": [
      "\r",
      "235it [29:13,  7.71s/it]"
     ]
    },
    {
     "name": "stdout",
     "output_type": "stream",
     "text": [
      "0.8665346271748806\n",
      "235 cnxccbjlct.mp4\n"
     ]
    },
    {
     "name": "stderr",
     "output_type": "stream",
     "text": [
      "\r",
      "236it [29:18,  6.88s/it]"
     ]
    },
    {
     "name": "stdout",
     "output_type": "stream",
     "text": [
      "0.6387355875431006\n",
      "236 fjrueenjyp.mp4\n"
     ]
    },
    {
     "name": "stderr",
     "output_type": "stream",
     "text": [
      "\r",
      "237it [29:23,  6.25s/it]"
     ]
    },
    {
     "name": "stdout",
     "output_type": "stream",
     "text": [
      "0.6428969307449258\n",
      "237 nxzgekegsp.mp4\n"
     ]
    },
    {
     "name": "stderr",
     "output_type": "stream",
     "text": [
      "\r",
      "238it [29:28,  5.82s/it]"
     ]
    },
    {
     "name": "stdout",
     "output_type": "stream",
     "text": [
      "0.8464694474727479\n",
      "238 vssmlqoiti.mp4\n"
     ]
    },
    {
     "name": "stderr",
     "output_type": "stream",
     "text": [
      "\r",
      "239it [29:33,  5.53s/it]"
     ]
    },
    {
     "name": "stdout",
     "output_type": "stream",
     "text": [
      "0.5977137503985404\n",
      "239 zyufpqvpyu.mp4\n"
     ]
    },
    {
     "name": "stderr",
     "output_type": "stream",
     "text": [
      "\r",
      "240it [29:37,  5.28s/it]"
     ]
    },
    {
     "name": "stdout",
     "output_type": "stream",
     "text": [
      "0.6334753655033573\n",
      "240 rtpbawlmxr.mp4\n"
     ]
    },
    {
     "name": "stderr",
     "output_type": "stream",
     "text": [
      "\r",
      "241it [29:42,  5.07s/it]"
     ]
    },
    {
     "name": "stdout",
     "output_type": "stream",
     "text": [
      "0.9524080289342605\n",
      "241 temjefwaas.mp4\n"
     ]
    },
    {
     "name": "stderr",
     "output_type": "stream",
     "text": [
      "\r",
      "242it [29:47,  4.93s/it]"
     ]
    },
    {
     "name": "stdout",
     "output_type": "stream",
     "text": [
      "0.6541213967032788\n",
      "242 prhmixykhr.mp4\n"
     ]
    },
    {
     "name": "stderr",
     "output_type": "stream",
     "text": [
      "\r",
      "243it [29:51,  4.84s/it]"
     ]
    },
    {
     "name": "stdout",
     "output_type": "stream",
     "text": [
      "1.6596090830552e-05\n",
      "243 wynotylpnm.mp4\n"
     ]
    },
    {
     "name": "stderr",
     "output_type": "stream",
     "text": [
      "\r",
      "244it [29:58,  5.30s/it]"
     ]
    },
    {
     "name": "stdout",
     "output_type": "stream",
     "text": [
      "0.6322755687358178\n",
      "244 siebfpwuhu.mp4\n"
     ]
    },
    {
     "name": "stderr",
     "output_type": "stream",
     "text": [
      "\r",
      "245it [30:02,  5.07s/it]"
     ]
    },
    {
     "name": "stdout",
     "output_type": "stream",
     "text": [
      "0.5\n",
      "245 fmhiujydwo.mp4\n"
     ]
    },
    {
     "name": "stderr",
     "output_type": "stream",
     "text": [
      "\r",
      "246it [30:17,  7.91s/it]"
     ]
    },
    {
     "name": "stdout",
     "output_type": "stream",
     "text": [
      "0.611111004381609\n",
      "246 kvmpmhdxly.mp4\n"
     ]
    },
    {
     "name": "stderr",
     "output_type": "stream",
     "text": [
      "\r",
      "247it [30:28,  8.88s/it]"
     ]
    },
    {
     "name": "stdout",
     "output_type": "stream",
     "text": [
      "0.7497733980263307\n",
      "247 yarpxfqejd.mp4\n"
     ]
    },
    {
     "name": "stderr",
     "output_type": "stream",
     "text": [
      "\r",
      "248it [30:33,  7.73s/it]"
     ]
    },
    {
     "name": "stdout",
     "output_type": "stream",
     "text": [
      "0.6273971463533284\n",
      "248 iznnzjvaxc.mp4\n"
     ]
    },
    {
     "name": "stderr",
     "output_type": "stream",
     "text": [
      "\r",
      "249it [30:37,  6.75s/it]"
     ]
    },
    {
     "name": "stdout",
     "output_type": "stream",
     "text": [
      "0.9560101467590264\n",
      "249 dvkdfhrpph.mp4\n"
     ]
    },
    {
     "name": "stderr",
     "output_type": "stream",
     "text": [
      "\r",
      "250it [30:42,  6.06s/it]"
     ]
    },
    {
     "name": "stdout",
     "output_type": "stream",
     "text": [
      "0.1109022686958203\n",
      "250 dkuqbduxev.mp4\n"
     ]
    },
    {
     "name": "stderr",
     "output_type": "stream",
     "text": [
      "\r",
      "251it [31:04, 11.04s/it]"
     ]
    },
    {
     "name": "stdout",
     "output_type": "stream",
     "text": [
      "1\n",
      "251 ekelfsnqof.mp4\n"
     ]
    },
    {
     "name": "stderr",
     "output_type": "stream",
     "text": [
      "\r",
      "252it [31:09,  9.06s/it]"
     ]
    },
    {
     "name": "stdout",
     "output_type": "stream",
     "text": [
      "0.8525931794424715\n",
      "252 aktnlyqpah.mp4\n"
     ]
    },
    {
     "name": "stderr",
     "output_type": "stream",
     "text": [
      "\r",
      "253it [31:13,  7.69s/it]"
     ]
    },
    {
     "name": "stdout",
     "output_type": "stream",
     "text": [
      "0.7022695753906469\n",
      "253 gfgcwxkbjd.mp4\n"
     ]
    },
    {
     "name": "stderr",
     "output_type": "stream",
     "text": [
      "\r",
      "254it [31:18,  6.76s/it]"
     ]
    },
    {
     "name": "stdout",
     "output_type": "stream",
     "text": [
      "0.1702687387604525\n",
      "254 sjinmmbipg.mp4\n"
     ]
    },
    {
     "name": "stderr",
     "output_type": "stream",
     "text": [
      "\r",
      "255it [31:41, 11.63s/it]"
     ]
    },
    {
     "name": "stdout",
     "output_type": "stream",
     "text": [
      "1\n",
      "255 phjvutxpoi.mp4\n"
     ]
    },
    {
     "name": "stderr",
     "output_type": "stream",
     "text": [
      "\r",
      "256it [31:46,  9.59s/it]"
     ]
    },
    {
     "name": "stdout",
     "output_type": "stream",
     "text": [
      "0.7384373062741024\n",
      "256 qxyrtwozyw.mp4\n"
     ]
    },
    {
     "name": "stderr",
     "output_type": "stream",
     "text": [
      "\r",
      "257it [31:50,  8.07s/it]"
     ]
    },
    {
     "name": "stdout",
     "output_type": "stream",
     "text": [
      "0.5942495727455087\n",
      "257 ndikguxzek.mp4\n"
     ]
    },
    {
     "name": "stderr",
     "output_type": "stream",
     "text": [
      "\r",
      "258it [31:55,  7.11s/it]"
     ]
    },
    {
     "name": "stdout",
     "output_type": "stream",
     "text": [
      "0.7981121738957366\n",
      "258 jsysgmycsx.mp4\n"
     ]
    },
    {
     "name": "stderr",
     "output_type": "stream",
     "text": [
      "\r",
      "259it [32:18, 11.74s/it]"
     ]
    },
    {
     "name": "stdout",
     "output_type": "stream",
     "text": [
      "1\n",
      "259 vtunvalyji.mp4\n"
     ]
    },
    {
     "name": "stderr",
     "output_type": "stream",
     "text": [
      "\r",
      "260it [32:24, 10.21s/it]"
     ]
    },
    {
     "name": "stdout",
     "output_type": "stream",
     "text": [
      "0.3116259569301843\n",
      "260 pdufsewrec.mp4\n"
     ]
    },
    {
     "name": "stderr",
     "output_type": "stream",
     "text": [
      "\r",
      "261it [32:47, 13.92s/it]"
     ]
    },
    {
     "name": "stdout",
     "output_type": "stream",
     "text": [
      "1\n",
      "261 fjxovgmwnm.mp4\n"
     ]
    },
    {
     "name": "stderr",
     "output_type": "stream",
     "text": [
      "\r",
      "262it [32:51, 11.12s/it]"
     ]
    },
    {
     "name": "stdout",
     "output_type": "stream",
     "text": [
      "0.5850200138108992\n",
      "262 voawxrmqyl.mp4\n"
     ]
    },
    {
     "name": "stderr",
     "output_type": "stream",
     "text": [
      "\r",
      "263it [32:56,  9.16s/it]"
     ]
    },
    {
     "name": "stdout",
     "output_type": "stream",
     "text": [
      "0.7564954336540425\n",
      "263 knxltsvzyu.mp4\n"
     ]
    },
    {
     "name": "stderr",
     "output_type": "stream",
     "text": [
      "\r",
      "264it [33:01,  7.80s/it]"
     ]
    },
    {
     "name": "stdout",
     "output_type": "stream",
     "text": [
      "0.6401533194404206\n",
      "264 scrbqgpvzz.mp4\n"
     ]
    },
    {
     "name": "stderr",
     "output_type": "stream",
     "text": [
      "\r",
      "265it [33:05,  6.87s/it]"
     ]
    },
    {
     "name": "stdout",
     "output_type": "stream",
     "text": [
      "0.2264800566522327\n",
      "265 scbdenmaed.mp4\n"
     ]
    },
    {
     "name": "stderr",
     "output_type": "stream",
     "text": [
      "\r",
      "266it [33:12,  6.71s/it]"
     ]
    },
    {
     "name": "stdout",
     "output_type": "stream",
     "text": [
      "0.659074092988237\n",
      "266 xljemofssi.mp4\n"
     ]
    },
    {
     "name": "stderr",
     "output_type": "stream",
     "text": [
      "\r",
      "267it [33:16,  6.12s/it]"
     ]
    },
    {
     "name": "stdout",
     "output_type": "stream",
     "text": [
      "0.5944727017241793\n",
      "267 gbnzicjyhz.mp4\n"
     ]
    },
    {
     "name": "stderr",
     "output_type": "stream",
     "text": [
      "\r",
      "268it [33:21,  5.77s/it]"
     ]
    },
    {
     "name": "stdout",
     "output_type": "stream",
     "text": [
      "0.6034430596997185\n",
      "268 cnpanmywno.mp4\n"
     ]
    },
    {
     "name": "stderr",
     "output_type": "stream",
     "text": [
      "\r",
      "269it [33:26,  5.46s/it]"
     ]
    },
    {
     "name": "stdout",
     "output_type": "stream",
     "text": [
      "0.593482244368842\n",
      "269 pqdeutauqc.mp4\n"
     ]
    },
    {
     "name": "stderr",
     "output_type": "stream",
     "text": [
      "\r",
      "270it [33:36,  6.81s/it]"
     ]
    },
    {
     "name": "stdout",
     "output_type": "stream",
     "text": [
      "0.4406503400004221\n",
      "270 wqysrieiqu.mp4\n"
     ]
    },
    {
     "name": "stderr",
     "output_type": "stream",
     "text": [
      "\r",
      "271it [33:41,  6.14s/it]"
     ]
    },
    {
     "name": "stdout",
     "output_type": "stream",
     "text": [
      "0.3815836667648326\n",
      "271 owaogcehvc.mp4\n"
     ]
    },
    {
     "name": "stderr",
     "output_type": "stream",
     "text": [
      "\r",
      "272it [33:47,  6.17s/it]"
     ]
    },
    {
     "name": "stdout",
     "output_type": "stream",
     "text": [
      "0.6204864657446679\n",
      "272 mnzabbkpmt.mp4\n"
     ]
    },
    {
     "name": "stderr",
     "output_type": "stream",
     "text": [
      "\r",
      "273it [33:51,  5.68s/it]"
     ]
    },
    {
     "name": "stdout",
     "output_type": "stream",
     "text": [
      "0.5909885066921331\n",
      "273 kwfdyqofzw.mp4\n"
     ]
    },
    {
     "name": "stderr",
     "output_type": "stream",
     "text": [
      "\r",
      "274it [33:58,  5.81s/it]"
     ]
    },
    {
     "name": "stdout",
     "output_type": "stream",
     "text": [
      "0.8672492487578922\n",
      "274 yljecirelf.mp4\n"
     ]
    },
    {
     "name": "stderr",
     "output_type": "stream",
     "text": [
      "\r",
      "275it [34:03,  5.57s/it]"
     ]
    },
    {
     "name": "stdout",
     "output_type": "stream",
     "text": [
      "0.6076534028460214\n",
      "275 dvwpvqdflx.mp4\n"
     ]
    },
    {
     "name": "stderr",
     "output_type": "stream",
     "text": [
      "\r",
      "276it [34:07,  5.25s/it]"
     ]
    },
    {
     "name": "stdout",
     "output_type": "stream",
     "text": [
      "0.290092967621371\n",
      "276 kmqkiihrmj.mp4\n"
     ]
    },
    {
     "name": "stderr",
     "output_type": "stream",
     "text": [
      "\r",
      "277it [34:30, 10.46s/it]"
     ]
    },
    {
     "name": "stdout",
     "output_type": "stream",
     "text": [
      "1\n",
      "277 ywxpquomgt.mp4\n"
     ]
    },
    {
     "name": "stderr",
     "output_type": "stream",
     "text": [
      "\r",
      "278it [34:34,  8.67s/it]"
     ]
    },
    {
     "name": "stdout",
     "output_type": "stream",
     "text": [
      "0.5482470685342608\n",
      "278 jyoxdvxpza.mp4\n"
     ]
    },
    {
     "name": "stderr",
     "output_type": "stream",
     "text": [
      "\r",
      "279it [34:57, 12.79s/it]"
     ]
    },
    {
     "name": "stdout",
     "output_type": "stream",
     "text": [
      "1\n",
      "279 kowiwvrjht.mp4\n"
     ]
    },
    {
     "name": "stderr",
     "output_type": "stream",
     "text": [
      "\r",
      "280it [35:03, 10.82s/it]"
     ]
    },
    {
     "name": "stdout",
     "output_type": "stream",
     "text": [
      "0.6594435286255224\n",
      "280 espkiocpxq.mp4\n"
     ]
    },
    {
     "name": "stderr",
     "output_type": "stream",
     "text": [
      "\r",
      "281it [35:08,  9.02s/it]"
     ]
    },
    {
     "name": "stdout",
     "output_type": "stream",
     "text": [
      "0.6483326675388282\n",
      "281 eywdmustbb.mp4\n"
     ]
    },
    {
     "name": "stderr",
     "output_type": "stream",
     "text": [
      "\r",
      "282it [35:12,  7.69s/it]"
     ]
    },
    {
     "name": "stdout",
     "output_type": "stream",
     "text": [
      "0.753699622046174\n",
      "282 fqgypsunzr.mp4\n"
     ]
    },
    {
     "name": "stderr",
     "output_type": "stream",
     "text": [
      "\r",
      "283it [35:17,  6.76s/it]"
     ]
    },
    {
     "name": "stdout",
     "output_type": "stream",
     "text": [
      "0.5733926412634746\n",
      "283 tynfsthodx.mp4\n"
     ]
    },
    {
     "name": "stderr",
     "output_type": "stream",
     "text": [
      "\r",
      "284it [35:26,  7.58s/it]"
     ]
    },
    {
     "name": "stdout",
     "output_type": "stream",
     "text": [
      "0.5934717629046098\n",
      "284 dsnxgrfdmd.mp4\n"
     ]
    },
    {
     "name": "stderr",
     "output_type": "stream",
     "text": [
      "\r",
      "285it [35:31,  6.65s/it]"
     ]
    },
    {
     "name": "stdout",
     "output_type": "stream",
     "text": [
      "0.6229534054489776\n",
      "285 dmmvuaikkv.mp4\n"
     ]
    },
    {
     "name": "stderr",
     "output_type": "stream",
     "text": [
      "\r",
      "286it [35:37,  6.52s/it]"
     ]
    },
    {
     "name": "stdout",
     "output_type": "stream",
     "text": [
      "0.4819949240852401\n",
      "286 fmvvmcbdrw.mp4\n"
     ]
    },
    {
     "name": "stderr",
     "output_type": "stream",
     "text": [
      "\r",
      "287it [35:42,  6.01s/it]"
     ]
    },
    {
     "name": "stdout",
     "output_type": "stream",
     "text": [
      "0.7855192990640071\n",
      "287 yzuestxcbq.mp4\n"
     ]
    },
    {
     "name": "stderr",
     "output_type": "stream",
     "text": [
      "\r",
      "288it [35:57,  8.69s/it]"
     ]
    },
    {
     "name": "stdout",
     "output_type": "stream",
     "text": [
      "0.5887670067881647\n",
      "288 rfjuhbnlro.mp4\n"
     ]
    },
    {
     "name": "stderr",
     "output_type": "stream",
     "text": [
      "\r",
      "289it [36:02,  7.61s/it]"
     ]
    },
    {
     "name": "stdout",
     "output_type": "stream",
     "text": [
      "0.6087352200173689\n",
      "289 hitfycdavv.mp4\n"
     ]
    },
    {
     "name": "stderr",
     "output_type": "stream",
     "text": [
      "\r",
      "290it [36:25, 12.19s/it]"
     ]
    },
    {
     "name": "stdout",
     "output_type": "stream",
     "text": [
      "1\n",
      "290 cqhwesrciw.mp4\n"
     ]
    },
    {
     "name": "stderr",
     "output_type": "stream",
     "text": [
      "\r",
      "291it [36:48, 15.37s/it]"
     ]
    },
    {
     "name": "stdout",
     "output_type": "stream",
     "text": [
      "1\n",
      "291 hcanfkwivl.mp4\n"
     ]
    },
    {
     "name": "stderr",
     "output_type": "stream",
     "text": [
      "\r",
      "292it [36:52, 12.13s/it]"
     ]
    },
    {
     "name": "stdout",
     "output_type": "stream",
     "text": [
      "0.6829644483387384\n",
      "292 vvfszaosiv.mp4\n"
     ]
    },
    {
     "name": "stderr",
     "output_type": "stream",
     "text": [
      "\r",
      "293it [37:08, 13.38s/it]"
     ]
    },
    {
     "name": "stdout",
     "output_type": "stream",
     "text": [
      "0.5940205769486334\n",
      "293 fwykevubzy.mp4\n"
     ]
    },
    {
     "name": "stderr",
     "output_type": "stream",
     "text": [
      "\r",
      "294it [37:13, 10.80s/it]"
     ]
    },
    {
     "name": "stdout",
     "output_type": "stream",
     "text": [
      "0.4321088858947929\n",
      "294 fneqiqpqvs.mp4\n"
     ]
    },
    {
     "name": "stderr",
     "output_type": "stream",
     "text": [
      "\r",
      "295it [37:28, 11.94s/it]"
     ]
    },
    {
     "name": "stdout",
     "output_type": "stream",
     "text": [
      "0.5935058967514137\n",
      "295 frqfsucgao.mp4\n"
     ]
    },
    {
     "name": "stderr",
     "output_type": "stream",
     "text": [
      "\r",
      "296it [37:32,  9.70s/it]"
     ]
    },
    {
     "name": "stdout",
     "output_type": "stream",
     "text": [
      "0.6046611114563618\n",
      "296 hqzwudvhih.mp4\n"
     ]
    },
    {
     "name": "stderr",
     "output_type": "stream",
     "text": [
      "\r",
      "297it [37:37,  8.17s/it]"
     ]
    },
    {
     "name": "stdout",
     "output_type": "stream",
     "text": [
      "0.6986479217644074\n",
      "297 nplviymzlg.mp4\n"
     ]
    },
    {
     "name": "stderr",
     "output_type": "stream",
     "text": [
      "\r",
      "298it [37:50,  9.60s/it]"
     ]
    },
    {
     "name": "stdout",
     "output_type": "stream",
     "text": [
      "0.6011013415053439\n",
      "298 waucvvmtkq.mp4\n"
     ]
    },
    {
     "name": "stderr",
     "output_type": "stream",
     "text": [
      "\r",
      "299it [37:54,  8.06s/it]"
     ]
    },
    {
     "name": "stdout",
     "output_type": "stream",
     "text": [
      "0.5934806016251261\n",
      "299 ddtbarpcgo.mp4\n"
     ]
    },
    {
     "name": "stderr",
     "output_type": "stream",
     "text": [
      "\r",
      "300it [38:03,  8.13s/it]"
     ]
    },
    {
     "name": "stdout",
     "output_type": "stream",
     "text": [
      "0.16954549940323607\n",
      "300 ouaowjmigq.mp4\n"
     ]
    },
    {
     "name": "stderr",
     "output_type": "stream",
     "text": [
      "\r",
      "301it [38:07,  7.16s/it]"
     ]
    },
    {
     "name": "stdout",
     "output_type": "stream",
     "text": [
      "0.6537412633497653\n",
      "301 acazlolrpz.mp4\n"
     ]
    },
    {
     "name": "stderr",
     "output_type": "stream",
     "text": [
      "\r",
      "302it [38:12,  6.41s/it]"
     ]
    },
    {
     "name": "stdout",
     "output_type": "stream",
     "text": [
      "0.44773526599815705\n",
      "302 hierggamuo.mp4\n"
     ]
    },
    {
     "name": "stderr",
     "output_type": "stream",
     "text": [
      "\r",
      "303it [38:17,  5.84s/it]"
     ]
    },
    {
     "name": "stdout",
     "output_type": "stream",
     "text": [
      "0.6963432176241137\n",
      "303 halvwiltfs.mp4\n"
     ]
    },
    {
     "name": "stderr",
     "output_type": "stream",
     "text": [
      "\r",
      "304it [38:21,  5.48s/it]"
     ]
    },
    {
     "name": "stdout",
     "output_type": "stream",
     "text": [
      "0.6549035101143215\n",
      "304 fzvpbrzssi.mp4\n"
     ]
    },
    {
     "name": "stderr",
     "output_type": "stream",
     "text": [
      "\r",
      "305it [38:26,  5.39s/it]"
     ]
    },
    {
     "name": "stdout",
     "output_type": "stream",
     "text": [
      "0.2775648439535317\n",
      "305 syuxttuyhm.mp4\n"
     ]
    },
    {
     "name": "stderr",
     "output_type": "stream",
     "text": [
      "\r",
      "306it [38:32,  5.31s/it]"
     ]
    },
    {
     "name": "stdout",
     "output_type": "stream",
     "text": [
      "0.7027061444727648\n",
      "306 jawgcggquk.mp4\n"
     ]
    },
    {
     "name": "stderr",
     "output_type": "stream",
     "text": [
      "\r",
      "307it [38:36,  5.09s/it]"
     ]
    },
    {
     "name": "stdout",
     "output_type": "stream",
     "text": [
      "0.17641108256475496\n",
      "307 jzmzdispyo.mp4\n"
     ]
    },
    {
     "name": "stderr",
     "output_type": "stream",
     "text": [
      "\r",
      "308it [38:41,  4.91s/it]"
     ]
    },
    {
     "name": "stdout",
     "output_type": "stream",
     "text": [
      "0.5914442586302261\n",
      "308 tjuihawuqm.mp4\n"
     ]
    },
    {
     "name": "stderr",
     "output_type": "stream",
     "text": [
      "\r",
      "309it [38:45,  4.78s/it]"
     ]
    },
    {
     "name": "stdout",
     "output_type": "stream",
     "text": [
      "0.49417080787195244\n",
      "309 htzbnroagi.mp4\n"
     ]
    },
    {
     "name": "stderr",
     "output_type": "stream",
     "text": [
      "\r",
      "310it [38:50,  4.86s/it]"
     ]
    },
    {
     "name": "stdout",
     "output_type": "stream",
     "text": [
      "0.04139618431525168\n",
      "310 nxnmkytwze.mp4\n"
     ]
    },
    {
     "name": "stderr",
     "output_type": "stream",
     "text": [
      "\r",
      "311it [38:55,  4.76s/it]"
     ]
    },
    {
     "name": "stdout",
     "output_type": "stream",
     "text": [
      "0.612467967955249\n",
      "311 uxuvkrjhws.mp4\n"
     ]
    },
    {
     "name": "stderr",
     "output_type": "stream",
     "text": [
      "\r",
      "312it [38:59,  4.70s/it]"
     ]
    },
    {
     "name": "stdout",
     "output_type": "stream",
     "text": [
      "0.8794725412035245\n",
      "312 orekjthsef.mp4\n"
     ]
    },
    {
     "name": "stderr",
     "output_type": "stream",
     "text": [
      "\r",
      "313it [39:07,  5.65s/it]"
     ]
    },
    {
     "name": "stdout",
     "output_type": "stream",
     "text": [
      "0.6566706715392638\n",
      "313 dpevefkefv.mp4\n"
     ]
    },
    {
     "name": "stderr",
     "output_type": "stream",
     "text": [
      "\r",
      "314it [39:12,  5.33s/it]"
     ]
    },
    {
     "name": "stdout",
     "output_type": "stream",
     "text": [
      "0.6182594915391095\n",
      "314 ylxwcwhjjd.mp4\n"
     ]
    },
    {
     "name": "stderr",
     "output_type": "stream",
     "text": [
      "\r",
      "315it [39:17,  5.20s/it]"
     ]
    },
    {
     "name": "stdout",
     "output_type": "stream",
     "text": [
      "0.8164261603781235\n",
      "315 nxgzmgzkfv.mp4\n"
     ]
    },
    {
     "name": "stderr",
     "output_type": "stream",
     "text": [
      "\r",
      "316it [39:23,  5.56s/it]"
     ]
    },
    {
     "name": "stdout",
     "output_type": "stream",
     "text": [
      "0.5938656087767641\n",
      "316 bcbqxhziqz.mp4\n"
     ]
    },
    {
     "name": "stderr",
     "output_type": "stream",
     "text": [
      "\r",
      "317it [39:34,  7.30s/it]"
     ]
    },
    {
     "name": "stdout",
     "output_type": "stream",
     "text": [
      "0.6143091596260177\n",
      "317 fddmkqjwsh.mp4\n"
     ]
    },
    {
     "name": "stderr",
     "output_type": "stream",
     "text": [
      "\r",
      "318it [39:39,  6.55s/it]"
     ]
    },
    {
     "name": "stdout",
     "output_type": "stream",
     "text": [
      "0.8157313270249666\n",
      "318 famlupsgqm.mp4\n"
     ]
    },
    {
     "name": "stderr",
     "output_type": "stream",
     "text": [
      "\r",
      "319it [39:44,  5.95s/it]"
     ]
    },
    {
     "name": "stdout",
     "output_type": "stream",
     "text": [
      "0.613273362504166\n",
      "319 tjywwgftmv.mp4\n"
     ]
    },
    {
     "name": "stderr",
     "output_type": "stream",
     "text": [
      "\r",
      "320it [40:00,  9.14s/it]"
     ]
    },
    {
     "name": "stdout",
     "output_type": "stream",
     "text": [
      "0.0710781225036428\n",
      "320 kezwvsxxzj.mp4\n"
     ]
    },
    {
     "name": "stderr",
     "output_type": "stream",
     "text": [
      "\r",
      "321it [40:10,  9.37s/it]"
     ]
    },
    {
     "name": "stdout",
     "output_type": "stream",
     "text": [
      "0.8349146606254549\n",
      "321 yqhouqakbx.mp4\n"
     ]
    },
    {
     "name": "stderr",
     "output_type": "stream",
     "text": [
      "\r",
      "322it [40:15,  8.02s/it]"
     ]
    },
    {
     "name": "stdout",
     "output_type": "stream",
     "text": [
      "0.35306199386491105\n",
      "322 jsbpkpxwew.mp4\n"
     ]
    },
    {
     "name": "stderr",
     "output_type": "stream",
     "text": [
      "\r",
      "323it [40:30, 10.04s/it]"
     ]
    },
    {
     "name": "stdout",
     "output_type": "stream",
     "text": [
      "0.17230867738943478\n",
      "323 qhkzlnzruj.mp4\n"
     ]
    },
    {
     "name": "stderr",
     "output_type": "stream",
     "text": [
      "\r",
      "324it [40:34,  8.39s/it]"
     ]
    },
    {
     "name": "stdout",
     "output_type": "stream",
     "text": [
      "0.3671043037280682\n",
      "324 zbgssotnjm.mp4\n"
     ]
    },
    {
     "name": "stderr",
     "output_type": "stream",
     "text": [
      "\r",
      "325it [40:39,  7.26s/it]"
     ]
    },
    {
     "name": "stdout",
     "output_type": "stream",
     "text": [
      "0.5833451276646263\n",
      "325 irqzdokcws.mp4\n"
     ]
    },
    {
     "name": "stderr",
     "output_type": "stream",
     "text": [
      "\r",
      "326it [40:55,  9.94s/it]"
     ]
    },
    {
     "name": "stdout",
     "output_type": "stream",
     "text": [
      "0.7953695316566243\n",
      "326 dnmowthjcj.mp4\n"
     ]
    },
    {
     "name": "stderr",
     "output_type": "stream",
     "text": [
      "\r",
      "327it [41:00,  8.31s/it]"
     ]
    },
    {
     "name": "stdout",
     "output_type": "stream",
     "text": [
      "0.7826532405025266\n",
      "327 udxqbhgvvx.mp4\n"
     ]
    },
    {
     "name": "stderr",
     "output_type": "stream",
     "text": [
      "\r",
      "328it [41:04,  7.19s/it]"
     ]
    },
    {
     "name": "stdout",
     "output_type": "stream",
     "text": [
      "0.7519384044152994\n",
      "328 demuhxssgl.mp4\n"
     ]
    },
    {
     "name": "stderr",
     "output_type": "stream",
     "text": [
      "\r",
      "329it [41:27, 12.00s/it]"
     ]
    },
    {
     "name": "stdout",
     "output_type": "stream",
     "text": [
      "1\n",
      "329 hbufmvbium.mp4\n"
     ]
    },
    {
     "name": "stderr",
     "output_type": "stream",
     "text": [
      "\r",
      "330it [41:37, 11.27s/it]"
     ]
    },
    {
     "name": "stdout",
     "output_type": "stream",
     "text": [
      "0.5943851085772272\n",
      "330 axfhbpkdlc.mp4\n"
     ]
    },
    {
     "name": "stderr",
     "output_type": "stream",
     "text": [
      "\r",
      "331it [41:42,  9.24s/it]"
     ]
    },
    {
     "name": "stdout",
     "output_type": "stream",
     "text": [
      "0.7170003881038337\n",
      "331 ztyuiqrhdk.mp4\n"
     ]
    },
    {
     "name": "stderr",
     "output_type": "stream",
     "text": [
      "\r",
      "332it [41:53,  9.88s/it]"
     ]
    },
    {
     "name": "stdout",
     "output_type": "stream",
     "text": [
      "0.782783728641264\n",
      "332 bkcyglmfci.mp4\n"
     ]
    },
    {
     "name": "stderr",
     "output_type": "stream",
     "text": [
      "\r",
      "333it [42:11, 12.25s/it]"
     ]
    },
    {
     "name": "stdout",
     "output_type": "stream",
     "text": [
      "0.7105542250885061\n",
      "333 ghnpsltzyn.mp4\n"
     ]
    },
    {
     "name": "stderr",
     "output_type": "stream",
     "text": [
      "\r",
      "334it [42:15,  9.99s/it]"
     ]
    },
    {
     "name": "stdout",
     "output_type": "stream",
     "text": [
      "0.6785082685491333\n",
      "334 adohdulfwb.mp4\n"
     ]
    },
    {
     "name": "stderr",
     "output_type": "stream",
     "text": [
      "\r",
      "335it [42:20,  8.37s/it]"
     ]
    },
    {
     "name": "stdout",
     "output_type": "stream",
     "text": [
      "0.6209888946178314\n",
      "335 ptbfnkajyi.mp4\n"
     ]
    },
    {
     "name": "stderr",
     "output_type": "stream",
     "text": [
      "\r",
      "336it [42:25,  7.26s/it]"
     ]
    },
    {
     "name": "stdout",
     "output_type": "stream",
     "text": [
      "0.6961344617717986\n",
      "336 etdliwticv.mp4\n"
     ]
    },
    {
     "name": "stderr",
     "output_type": "stream",
     "text": [
      "\r",
      "337it [42:29,  6.49s/it]"
     ]
    },
    {
     "name": "stdout",
     "output_type": "stream",
     "text": [
      "0.52121174904795\n",
      "337 apvzjkvnwn.mp4\n"
     ]
    },
    {
     "name": "stderr",
     "output_type": "stream",
     "text": [
      "\r",
      "338it [42:34,  5.92s/it]"
     ]
    },
    {
     "name": "stdout",
     "output_type": "stream",
     "text": [
      "0.6097477276480316\n",
      "338 mxlipjhmqk.mp4\n"
     ]
    },
    {
     "name": "stderr",
     "output_type": "stream",
     "text": [
      "\r",
      "339it [42:39,  5.52s/it]"
     ]
    },
    {
     "name": "stdout",
     "output_type": "stream",
     "text": [
      "0.6432342657557125\n",
      "339 okgelildpc.mp4\n"
     ]
    },
    {
     "name": "stderr",
     "output_type": "stream",
     "text": [
      "\r",
      "340it [42:43,  5.32s/it]"
     ]
    },
    {
     "name": "stdout",
     "output_type": "stream",
     "text": [
      "0.5983091509578827\n",
      "340 gfdjzwnpyp.mp4\n"
     ]
    },
    {
     "name": "stderr",
     "output_type": "stream",
     "text": [
      "\r",
      "341it [42:48,  5.17s/it]"
     ]
    },
    {
     "name": "stdout",
     "output_type": "stream",
     "text": [
      "0.5446549615673576\n",
      "341 lnhkjhyhvw.mp4\n"
     ]
    },
    {
     "name": "stderr",
     "output_type": "stream",
     "text": [
      "\r",
      "342it [42:53,  5.04s/it]"
     ]
    },
    {
     "name": "stdout",
     "output_type": "stream",
     "text": [
      "0.5945459216903961\n",
      "342 ztyvglkcsf.mp4\n"
     ]
    },
    {
     "name": "stderr",
     "output_type": "stream",
     "text": [
      "\r",
      "343it [42:57,  4.87s/it]"
     ]
    },
    {
     "name": "stdout",
     "output_type": "stream",
     "text": [
      "0.6326346560419817\n",
      "343 txmnoyiyte.mp4\n"
     ]
    },
    {
     "name": "stderr",
     "output_type": "stream",
     "text": [
      "\r",
      "344it [43:02,  4.77s/it]"
     ]
    },
    {
     "name": "stdout",
     "output_type": "stream",
     "text": [
      "0.07332184719631649\n",
      "344 dvtpwatuja.mp4\n"
     ]
    },
    {
     "name": "stderr",
     "output_type": "stream",
     "text": [
      "\r",
      "345it [43:08,  5.26s/it]"
     ]
    },
    {
     "name": "stdout",
     "output_type": "stream",
     "text": [
      "0.17666856112676282\n",
      "345 dpmgoiwhuf.mp4\n"
     ]
    },
    {
     "name": "stderr",
     "output_type": "stream",
     "text": [
      "\r",
      "346it [43:13,  5.02s/it]"
     ]
    },
    {
     "name": "stdout",
     "output_type": "stream",
     "text": [
      "0.24056588047550342\n",
      "346 ekboxwrwuv.mp4\n"
     ]
    },
    {
     "name": "stderr",
     "output_type": "stream",
     "text": [
      "\r",
      "347it [43:17,  4.88s/it]"
     ]
    },
    {
     "name": "stdout",
     "output_type": "stream",
     "text": [
      "0.5939007985775374\n",
      "347 ooafcxxfrs.mp4\n"
     ]
    },
    {
     "name": "stderr",
     "output_type": "stream",
     "text": [
      "\r",
      "348it [43:27,  6.33s/it]"
     ]
    },
    {
     "name": "stdout",
     "output_type": "stream",
     "text": [
      "0.7213605433347683\n",
      "348 uhrqlmlclw.mp4\n"
     ]
    },
    {
     "name": "stderr",
     "output_type": "stream",
     "text": [
      "\r",
      "349it [43:32,  5.79s/it]"
     ]
    },
    {
     "name": "stdout",
     "output_type": "stream",
     "text": [
      "0.7795516849128771\n",
      "349 lebzjtusnr.mp4\n"
     ]
    },
    {
     "name": "stderr",
     "output_type": "stream",
     "text": [
      "\r",
      "350it [43:47,  8.53s/it]"
     ]
    },
    {
     "name": "stdout",
     "output_type": "stream",
     "text": [
      "0.898359797823643\n",
      "350 dzkyxbbqkr.mp4\n"
     ]
    },
    {
     "name": "stderr",
     "output_type": "stream",
     "text": [
      "\r",
      "351it [43:51,  7.43s/it]"
     ]
    },
    {
     "name": "stdout",
     "output_type": "stream",
     "text": [
      "0.5933901188650342\n",
      "351 yhylappzid.mp4\n"
     ]
    },
    {
     "name": "stderr",
     "output_type": "stream",
     "text": [
      "\r",
      "352it [44:14, 12.04s/it]"
     ]
    },
    {
     "name": "stdout",
     "output_type": "stream",
     "text": [
      "1\n",
      "352 qyyhuvqmyf.mp4\n"
     ]
    },
    {
     "name": "stderr",
     "output_type": "stream",
     "text": [
      "\r",
      "353it [44:20, 10.32s/it]"
     ]
    },
    {
     "name": "stdout",
     "output_type": "stream",
     "text": [
      "0.9768401762667692\n",
      "353 bwdmzwhdnw.mp4\n"
     ]
    },
    {
     "name": "stderr",
     "output_type": "stream",
     "text": [
      "\r",
      "354it [44:25,  8.58s/it]"
     ]
    },
    {
     "name": "stdout",
     "output_type": "stream",
     "text": [
      "0.6414227110847847\n",
      "354 usqqvxcjmg.mp4\n"
     ]
    },
    {
     "name": "stderr",
     "output_type": "stream",
     "text": [
      "\r",
      "355it [44:30,  7.51s/it]"
     ]
    },
    {
     "name": "stdout",
     "output_type": "stream",
     "text": [
      "0.7170847825875948\n",
      "355 yxadevzohx.mp4\n"
     ]
    },
    {
     "name": "stderr",
     "output_type": "stream",
     "text": [
      "\r",
      "356it [44:35,  6.62s/it]"
     ]
    },
    {
     "name": "stdout",
     "output_type": "stream",
     "text": [
      "0.5794544321781948\n",
      "356 xugmhbetrw.mp4\n"
     ]
    },
    {
     "name": "stderr",
     "output_type": "stream",
     "text": [
      "\r",
      "357it [44:39,  6.02s/it]"
     ]
    },
    {
     "name": "stdout",
     "output_type": "stream",
     "text": [
      "0.8709485817267508\n",
      "357 vdtsbqidjb.mp4\n"
     ]
    },
    {
     "name": "stderr",
     "output_type": "stream",
     "text": [
      "\r",
      "358it [45:02, 11.05s/it]"
     ]
    },
    {
     "name": "stdout",
     "output_type": "stream",
     "text": [
      "0.5983483379381243\n",
      "358 lhvjzhjxdp.mp4\n"
     ]
    },
    {
     "name": "stderr",
     "output_type": "stream",
     "text": [
      "\r",
      "359it [45:07,  9.10s/it]"
     ]
    },
    {
     "name": "stdout",
     "output_type": "stream",
     "text": [
      "0.5925598063027835\n",
      "359 bvpeerislp.mp4\n"
     ]
    },
    {
     "name": "stderr",
     "output_type": "stream",
     "text": [
      "\r",
      "360it [45:11,  7.74s/it]"
     ]
    },
    {
     "name": "stdout",
     "output_type": "stream",
     "text": [
      "0.4380349128228374\n",
      "360 heiyoojifp.mp4\n"
     ]
    },
    {
     "name": "stderr",
     "output_type": "stream",
     "text": [
      "\r",
      "361it [45:16,  6.92s/it]"
     ]
    },
    {
     "name": "stdout",
     "output_type": "stream",
     "text": [
      "0.6145908344644028\n",
      "361 ucthmsajay.mp4\n"
     ]
    },
    {
     "name": "stderr",
     "output_type": "stream",
     "text": [
      "\r",
      "362it [45:21,  6.24s/it]"
     ]
    },
    {
     "name": "stdout",
     "output_type": "stream",
     "text": [
      "0.9607721043258715\n",
      "362 sufvvwmbha.mp4\n"
     ]
    },
    {
     "name": "stderr",
     "output_type": "stream",
     "text": [
      "\r",
      "363it [45:28,  6.43s/it]"
     ]
    },
    {
     "name": "stdout",
     "output_type": "stream",
     "text": [
      "0.6280416075001874\n",
      "363 zgbhzkditd.mp4\n"
     ]
    },
    {
     "name": "stderr",
     "output_type": "stream",
     "text": [
      "\r",
      "364it [45:32,  5.87s/it]"
     ]
    },
    {
     "name": "stdout",
     "output_type": "stream",
     "text": [
      "0.5680919253896034\n",
      "364 cosghhimnd.mp4\n"
     ]
    },
    {
     "name": "stderr",
     "output_type": "stream",
     "text": [
      "\r",
      "365it [45:42,  6.94s/it]"
     ]
    },
    {
     "name": "stdout",
     "output_type": "stream",
     "text": [
      "0.9155862818820188\n",
      "365 yhjlnisfel.mp4\n"
     ]
    },
    {
     "name": "stderr",
     "output_type": "stream",
     "text": [
      "\r",
      "366it [45:46,  6.23s/it]"
     ]
    },
    {
     "name": "stdout",
     "output_type": "stream",
     "text": [
      "0.5850936066488213\n",
      "366 nycmyuzpml.mp4\n"
     ]
    },
    {
     "name": "stderr",
     "output_type": "stream",
     "text": [
      "\r",
      "367it [45:51,  5.70s/it]"
     ]
    },
    {
     "name": "stdout",
     "output_type": "stream",
     "text": [
      "0.5925175565305252\n",
      "367 aayfryxljh.mp4\n"
     ]
    },
    {
     "name": "stderr",
     "output_type": "stream",
     "text": [
      "\r",
      "368it [45:56,  5.48s/it]"
     ]
    },
    {
     "name": "stdout",
     "output_type": "stream",
     "text": [
      "0.6022424659940144\n",
      "368 dcqodpzomd.mp4\n"
     ]
    },
    {
     "name": "stderr",
     "output_type": "stream",
     "text": [
      "\r",
      "369it [46:00,  5.20s/it]"
     ]
    },
    {
     "name": "stdout",
     "output_type": "stream",
     "text": [
      "0.1695075173171672\n",
      "369 icbsahlivv.mp4\n"
     ]
    },
    {
     "name": "stderr",
     "output_type": "stream",
     "text": [
      "\r",
      "370it [46:06,  5.52s/it]"
     ]
    },
    {
     "name": "stdout",
     "output_type": "stream",
     "text": [
      "0.6575657775314049\n",
      "370 xhtppuyqdr.mp4\n"
     ]
    },
    {
     "name": "stderr",
     "output_type": "stream",
     "text": [
      "\r",
      "371it [46:25,  9.39s/it]"
     ]
    },
    {
     "name": "stdout",
     "output_type": "stream",
     "text": [
      "0.8379338073637612\n",
      "371 bktkwbcawi.mp4\n"
     ]
    },
    {
     "name": "stderr",
     "output_type": "stream",
     "text": [
      "\r",
      "372it [46:30,  8.04s/it]"
     ]
    },
    {
     "name": "stdout",
     "output_type": "stream",
     "text": [
      "0.9183847375520361\n",
      "372 wadvzjhwtw.mp4\n"
     ]
    },
    {
     "name": "stderr",
     "output_type": "stream",
     "text": [
      "\r",
      "373it [46:34,  7.02s/it]"
     ]
    },
    {
     "name": "stdout",
     "output_type": "stream",
     "text": [
      "0.49084751848609826\n",
      "373 czfqlbcfpa.mp4\n"
     ]
    },
    {
     "name": "stderr",
     "output_type": "stream",
     "text": [
      "\r",
      "374it [46:39,  6.26s/it]"
     ]
    },
    {
     "name": "stdout",
     "output_type": "stream",
     "text": [
      "0.8807764508553133\n",
      "374 huvlwkxoxm.mp4\n"
     ]
    },
    {
     "name": "stderr",
     "output_type": "stream",
     "text": [
      "\r",
      "375it [47:02, 11.22s/it]"
     ]
    },
    {
     "name": "stdout",
     "output_type": "stream",
     "text": [
      "0.6024540717305771\n",
      "375 csnkohqxdv.mp4\n"
     ]
    },
    {
     "name": "stderr",
     "output_type": "stream",
     "text": [
      "\r",
      "376it [47:06,  9.21s/it]"
     ]
    },
    {
     "name": "stdout",
     "output_type": "stream",
     "text": [
      "0.7993391087695509\n",
      "376 iksxzpqxzi.mp4\n"
     ]
    },
    {
     "name": "stderr",
     "output_type": "stream",
     "text": [
      "\r",
      "377it [47:11,  7.92s/it]"
     ]
    },
    {
     "name": "stdout",
     "output_type": "stream",
     "text": [
      "0.6258088900211148\n",
      "377 ocgdbrgmtq.mp4\n"
     ]
    },
    {
     "name": "stderr",
     "output_type": "stream",
     "text": [
      "\r",
      "378it [47:16,  6.88s/it]"
     ]
    },
    {
     "name": "stdout",
     "output_type": "stream",
     "text": [
      "0.5983980585254113\n",
      "378 ryxaqpfubf.mp4\n"
     ]
    },
    {
     "name": "stderr",
     "output_type": "stream",
     "text": [
      "\r",
      "379it [47:20,  6.20s/it]"
     ]
    },
    {
     "name": "stdout",
     "output_type": "stream",
     "text": [
      "0.5847142408852144\n",
      "379 rcjfxxhcal.mp4\n"
     ]
    },
    {
     "name": "stderr",
     "output_type": "stream",
     "text": [
      "\r",
      "380it [47:43, 11.22s/it]"
     ]
    },
    {
     "name": "stdout",
     "output_type": "stream",
     "text": [
      "1\n",
      "380 gunamloolc.mp4\n"
     ]
    },
    {
     "name": "stderr",
     "output_type": "stream",
     "text": [
      "\r",
      "381it [47:51, 10.29s/it]"
     ]
    },
    {
     "name": "stdout",
     "output_type": "stream",
     "text": [
      "0.3697102650795921\n",
      "381 ipkpxvwroe.mp4\n"
     ]
    },
    {
     "name": "stderr",
     "output_type": "stream",
     "text": [
      "\r",
      "382it [47:56,  8.57s/it]"
     ]
    },
    {
     "name": "stdout",
     "output_type": "stream",
     "text": [
      "0.8066638323442824\n",
      "382 rrrfjhugvb.mp4\n"
     ]
    },
    {
     "name": "stderr",
     "output_type": "stream",
     "text": [
      "\r",
      "383it [48:02,  7.87s/it]"
     ]
    },
    {
     "name": "stdout",
     "output_type": "stream",
     "text": [
      "0.36024565835536526\n",
      "383 dxgnpnowgk.mp4\n"
     ]
    },
    {
     "name": "stderr",
     "output_type": "stream",
     "text": [
      "\r",
      "384it [48:07,  6.88s/it]"
     ]
    },
    {
     "name": "stdout",
     "output_type": "stream",
     "text": [
      "0.7752386263763287\n",
      "384 xmkwsnuzyq.mp4\n"
     ]
    },
    {
     "name": "stderr",
     "output_type": "stream",
     "text": [
      "\r",
      "385it [48:11,  6.21s/it]"
     ]
    },
    {
     "name": "stdout",
     "output_type": "stream",
     "text": [
      "0.7244112620944752\n",
      "385 jytrvwlewz.mp4\n"
     ]
    },
    {
     "name": "stderr",
     "output_type": "stream",
     "text": [
      "\r",
      "386it [48:16,  5.69s/it]"
     ]
    },
    {
     "name": "stdout",
     "output_type": "stream",
     "text": [
      "0.006852518043385984\n",
      "386 wcqvzujamg.mp4\n"
     ]
    },
    {
     "name": "stderr",
     "output_type": "stream",
     "text": [
      "\r",
      "387it [48:21,  5.52s/it]"
     ]
    },
    {
     "name": "stdout",
     "output_type": "stream",
     "text": [
      "0.10773234359156746\n",
      "387 aqrsylrzgi.mp4\n"
     ]
    },
    {
     "name": "stderr",
     "output_type": "stream",
     "text": [
      "\r",
      "388it [48:44, 10.73s/it]"
     ]
    },
    {
     "name": "stdout",
     "output_type": "stream",
     "text": [
      "1\n",
      "388 swsaoktwgi.mp4\n"
     ]
    },
    {
     "name": "stderr",
     "output_type": "stream",
     "text": [
      "\r",
      "389it [48:49,  8.95s/it]"
     ]
    },
    {
     "name": "stdout",
     "output_type": "stream",
     "text": [
      "0.6338681710851982\n",
      "389 cxsvvnxpyz.mp4\n"
     ]
    },
    {
     "name": "stderr",
     "output_type": "stream",
     "text": [
      "\r",
      "390it [48:55,  8.20s/it]"
     ]
    },
    {
     "name": "stdout",
     "output_type": "stream",
     "text": [
      "0.2340056839119741\n",
      "390 rktrpsdlci.mp4\n"
     ]
    },
    {
     "name": "stderr",
     "output_type": "stream",
     "text": [
      "\r",
      "391it [49:00,  7.11s/it]"
     ]
    },
    {
     "name": "stdout",
     "output_type": "stream",
     "text": [
      "0.3635595978084806\n",
      "391 rcecrgeotc.mp4\n"
     ]
    },
    {
     "name": "stderr",
     "output_type": "stream",
     "text": [
      "\r",
      "392it [49:04,  6.35s/it]"
     ]
    },
    {
     "name": "stdout",
     "output_type": "stream",
     "text": [
      "0.7108360788703192\n",
      "392 dyjklprkoc.mp4\n"
     ]
    },
    {
     "name": "stderr",
     "output_type": "stream",
     "text": [
      "\r",
      "393it [49:12,  6.96s/it]"
     ]
    },
    {
     "name": "stdout",
     "output_type": "stream",
     "text": [
      "0.7042945165747615\n",
      "393 oefukgnvel.mp4\n"
     ]
    },
    {
     "name": "stderr",
     "output_type": "stream",
     "text": [
      "\r",
      "394it [49:17,  6.24s/it]"
     ]
    },
    {
     "name": "stdout",
     "output_type": "stream",
     "text": [
      "0.6453090803226967\n",
      "394 lbfqksftuo.mp4\n"
     ]
    },
    {
     "name": "stderr",
     "output_type": "stream",
     "text": [
      "\r",
      "395it [49:22,  5.83s/it]"
     ]
    },
    {
     "name": "stdout",
     "output_type": "stream",
     "text": [
      "0.6336231506538612\n",
      "395 pxjkzvqomp.mp4\n"
     ]
    },
    {
     "name": "stderr",
     "output_type": "stream",
     "text": [
      "\r",
      "396it [49:26,  5.45s/it]"
     ]
    },
    {
     "name": "stdout",
     "output_type": "stream",
     "text": [
      "0.5934382585193925\n",
      "396 rnfcjxynfa.mp4\n"
     ]
    },
    {
     "name": "stderr",
     "output_type": "stream",
     "text": [
      "\r",
      "397it [49:31,  5.15s/it]"
     ]
    },
    {
     "name": "stdout",
     "output_type": "stream",
     "text": [
      "0.6579055626453365\n",
      "397 hxwtsaydal.mp4\n"
     ]
    },
    {
     "name": "stderr",
     "output_type": "stream",
     "text": [
      "\r",
      "398it [49:35,  4.97s/it]"
     ]
    },
    {
     "name": "stdout",
     "output_type": "stream",
     "text": [
      "0.6340572501549292\n",
      "398 bzvzpwrabw.mp4\n"
     ]
    },
    {
     "name": "stderr",
     "output_type": "stream",
     "text": [
      "\r",
      "399it [49:44,  5.99s/it]"
     ]
    },
    {
     "name": "stdout",
     "output_type": "stream",
     "text": [
      "0.2891364019287707\n",
      "399 mwwploizlj.mp4\n"
     ]
    },
    {
     "name": "stderr",
     "output_type": "stream",
     "text": [
      "400it [49:48,  7.47s/it]"
     ]
    },
    {
     "name": "stdout",
     "output_type": "stream",
     "text": [
      "0.529998468531923\n"
     ]
    },
    {
     "name": "stderr",
     "output_type": "stream",
     "text": [
      "\n"
     ]
    },
    {
     "data": {
      "text/html": [
       "<div>\n",
       "<style scoped>\n",
       "    .dataframe tbody tr th:only-of-type {\n",
       "        vertical-align: middle;\n",
       "    }\n",
       "\n",
       "    .dataframe tbody tr th {\n",
       "        vertical-align: top;\n",
       "    }\n",
       "\n",
       "    .dataframe thead th {\n",
       "        text-align: right;\n",
       "    }\n",
       "</style>\n",
       "<table border=\"1\" class=\"dataframe\">\n",
       "  <thead>\n",
       "    <tr style=\"text-align: right;\">\n",
       "      <th></th>\n",
       "      <th>filename</th>\n",
       "      <th>label</th>\n",
       "    </tr>\n",
       "  </thead>\n",
       "  <tbody>\n",
       "    <tr>\n",
       "      <th>0</th>\n",
       "      <td>iorbtaarte.mp4</td>\n",
       "      <td>0.475993</td>\n",
       "    </tr>\n",
       "    <tr>\n",
       "      <th>1</th>\n",
       "      <td>vnlzxqwthl.mp4</td>\n",
       "      <td>0.434028</td>\n",
       "    </tr>\n",
       "    <tr>\n",
       "      <th>2</th>\n",
       "      <td>gqnaxievjx.mp4</td>\n",
       "      <td>1.000000</td>\n",
       "    </tr>\n",
       "    <tr>\n",
       "      <th>3</th>\n",
       "      <td>sjkfxrlxxs.mp4</td>\n",
       "      <td>0.815537</td>\n",
       "    </tr>\n",
       "    <tr>\n",
       "      <th>4</th>\n",
       "      <td>eppyqpgewp.mp4</td>\n",
       "      <td>0.613892</td>\n",
       "    </tr>\n",
       "    <tr>\n",
       "      <th>5</th>\n",
       "      <td>oaguiggjyv.mp4</td>\n",
       "      <td>0.705496</td>\n",
       "    </tr>\n",
       "    <tr>\n",
       "      <th>6</th>\n",
       "      <td>ahjnxtiamx.mp4</td>\n",
       "      <td>0.593453</td>\n",
       "    </tr>\n",
       "    <tr>\n",
       "      <th>7</th>\n",
       "      <td>snlyjbnpgw.mp4</td>\n",
       "      <td>1.000000</td>\n",
       "    </tr>\n",
       "    <tr>\n",
       "      <th>8</th>\n",
       "      <td>hzssdinxec.mp4</td>\n",
       "      <td>0.846460</td>\n",
       "    </tr>\n",
       "    <tr>\n",
       "      <th>9</th>\n",
       "      <td>honxqdilvv.mp4</td>\n",
       "      <td>0.826029</td>\n",
       "    </tr>\n",
       "    <tr>\n",
       "      <th>10</th>\n",
       "      <td>nthpnwylxo.mp4</td>\n",
       "      <td>0.593437</td>\n",
       "    </tr>\n",
       "    <tr>\n",
       "      <th>11</th>\n",
       "      <td>xdezcezszc.mp4</td>\n",
       "      <td>0.807930</td>\n",
       "    </tr>\n",
       "    <tr>\n",
       "      <th>12</th>\n",
       "      <td>viteugozpv.mp4</td>\n",
       "      <td>0.891298</td>\n",
       "    </tr>\n",
       "    <tr>\n",
       "      <th>13</th>\n",
       "      <td>zuwwbbusgl.mp4</td>\n",
       "      <td>0.443944</td>\n",
       "    </tr>\n",
       "    <tr>\n",
       "      <th>14</th>\n",
       "      <td>mnowxangqx.mp4</td>\n",
       "      <td>0.950771</td>\n",
       "    </tr>\n",
       "    <tr>\n",
       "      <th>15</th>\n",
       "      <td>mwnibuujwz.mp4</td>\n",
       "      <td>0.593445</td>\n",
       "    </tr>\n",
       "    <tr>\n",
       "      <th>16</th>\n",
       "      <td>xphdfgmfmz.mp4</td>\n",
       "      <td>0.594027</td>\n",
       "    </tr>\n",
       "    <tr>\n",
       "      <th>17</th>\n",
       "      <td>khpipxnsvx.mp4</td>\n",
       "      <td>0.598232</td>\n",
       "    </tr>\n",
       "    <tr>\n",
       "      <th>18</th>\n",
       "      <td>zcxcmneefk.mp4</td>\n",
       "      <td>0.608355</td>\n",
       "    </tr>\n",
       "    <tr>\n",
       "      <th>19</th>\n",
       "      <td>vurjckblge.mp4</td>\n",
       "      <td>0.581730</td>\n",
       "    </tr>\n",
       "    <tr>\n",
       "      <th>20</th>\n",
       "      <td>lujvyveojc.mp4</td>\n",
       "      <td>1.000000</td>\n",
       "    </tr>\n",
       "    <tr>\n",
       "      <th>21</th>\n",
       "      <td>coujjnypba.mp4</td>\n",
       "      <td>0.543643</td>\n",
       "    </tr>\n",
       "    <tr>\n",
       "      <th>22</th>\n",
       "      <td>yoyhmxtrys.mp4</td>\n",
       "      <td>0.599764</td>\n",
       "    </tr>\n",
       "    <tr>\n",
       "      <th>23</th>\n",
       "      <td>papagllumt.mp4</td>\n",
       "      <td>0.678569</td>\n",
       "    </tr>\n",
       "    <tr>\n",
       "      <th>24</th>\n",
       "      <td>imdmhwkkni.mp4</td>\n",
       "      <td>0.594312</td>\n",
       "    </tr>\n",
       "    <tr>\n",
       "      <th>25</th>\n",
       "      <td>oelqpetgwj.mp4</td>\n",
       "      <td>0.593444</td>\n",
       "    </tr>\n",
       "    <tr>\n",
       "      <th>26</th>\n",
       "      <td>orixbcfvdz.mp4</td>\n",
       "      <td>0.969427</td>\n",
       "    </tr>\n",
       "    <tr>\n",
       "      <th>27</th>\n",
       "      <td>jiavqbrkyk.mp4</td>\n",
       "      <td>0.593089</td>\n",
       "    </tr>\n",
       "    <tr>\n",
       "      <th>28</th>\n",
       "      <td>jquevmhdvc.mp4</td>\n",
       "      <td>0.500000</td>\n",
       "    </tr>\n",
       "    <tr>\n",
       "      <th>29</th>\n",
       "      <td>igpvrfjdzc.mp4</td>\n",
       "      <td>0.665879</td>\n",
       "    </tr>\n",
       "    <tr>\n",
       "      <th>30</th>\n",
       "      <td>vizerpsvbz.mp4</td>\n",
       "      <td>0.611321</td>\n",
       "    </tr>\n",
       "    <tr>\n",
       "      <th>31</th>\n",
       "      <td>rfwxcinshk.mp4</td>\n",
       "      <td>0.470432</td>\n",
       "    </tr>\n",
       "    <tr>\n",
       "      <th>32</th>\n",
       "      <td>hsbwhlolsn.mp4</td>\n",
       "      <td>0.640004</td>\n",
       "    </tr>\n",
       "    <tr>\n",
       "      <th>33</th>\n",
       "      <td>evysmtpnrf.mp4</td>\n",
       "      <td>0.610146</td>\n",
       "    </tr>\n",
       "    <tr>\n",
       "      <th>34</th>\n",
       "      <td>prwsfljdjo.mp4</td>\n",
       "      <td>0.615618</td>\n",
       "    </tr>\n",
       "    <tr>\n",
       "      <th>35</th>\n",
       "      <td>hsbljbsgxr.mp4</td>\n",
       "      <td>0.391966</td>\n",
       "    </tr>\n",
       "    <tr>\n",
       "      <th>36</th>\n",
       "      <td>wixbuuzygv.mp4</td>\n",
       "      <td>0.967774</td>\n",
       "    </tr>\n",
       "    <tr>\n",
       "      <th>37</th>\n",
       "      <td>qclpbcbgeq.mp4</td>\n",
       "      <td>0.407929</td>\n",
       "    </tr>\n",
       "    <tr>\n",
       "      <th>38</th>\n",
       "      <td>wclvkepakb.mp4</td>\n",
       "      <td>0.362721</td>\n",
       "    </tr>\n",
       "    <tr>\n",
       "      <th>39</th>\n",
       "      <td>eyguqfmgzh.mp4</td>\n",
       "      <td>0.595087</td>\n",
       "    </tr>\n",
       "    <tr>\n",
       "      <th>40</th>\n",
       "      <td>alrtntfxtd.mp4</td>\n",
       "      <td>0.600715</td>\n",
       "    </tr>\n",
       "    <tr>\n",
       "      <th>41</th>\n",
       "      <td>upmgtackuf.mp4</td>\n",
       "      <td>0.650785</td>\n",
       "    </tr>\n",
       "    <tr>\n",
       "      <th>42</th>\n",
       "      <td>elackxuccp.mp4</td>\n",
       "      <td>0.569207</td>\n",
       "    </tr>\n",
       "    <tr>\n",
       "      <th>43</th>\n",
       "      <td>xitgdpzbxv.mp4</td>\n",
       "      <td>0.596669</td>\n",
       "    </tr>\n",
       "    <tr>\n",
       "      <th>44</th>\n",
       "      <td>wmoqzxddkb.mp4</td>\n",
       "      <td>0.798648</td>\n",
       "    </tr>\n",
       "    <tr>\n",
       "      <th>45</th>\n",
       "      <td>vjljdfopjg.mp4</td>\n",
       "      <td>0.760266</td>\n",
       "    </tr>\n",
       "    <tr>\n",
       "      <th>46</th>\n",
       "      <td>ncoeewrdlo.mp4</td>\n",
       "      <td>0.752902</td>\n",
       "    </tr>\n",
       "    <tr>\n",
       "      <th>47</th>\n",
       "      <td>txnmkabufs.mp4</td>\n",
       "      <td>0.854936</td>\n",
       "    </tr>\n",
       "    <tr>\n",
       "      <th>48</th>\n",
       "      <td>wcssbghcpc.mp4</td>\n",
       "      <td>0.621268</td>\n",
       "    </tr>\n",
       "    <tr>\n",
       "      <th>49</th>\n",
       "      <td>ncmpqwmnzb.mp4</td>\n",
       "      <td>0.594195</td>\n",
       "    </tr>\n",
       "    <tr>\n",
       "      <th>50</th>\n",
       "      <td>ytddugrwph.mp4</td>\n",
       "      <td>0.592973</td>\n",
       "    </tr>\n",
       "    <tr>\n",
       "      <th>51</th>\n",
       "      <td>mkmgcxaztt.mp4</td>\n",
       "      <td>0.299729</td>\n",
       "    </tr>\n",
       "    <tr>\n",
       "      <th>52</th>\n",
       "      <td>qhsehzgxqj.mp4</td>\n",
       "      <td>0.645934</td>\n",
       "    </tr>\n",
       "    <tr>\n",
       "      <th>53</th>\n",
       "      <td>zfrrixsimm.mp4</td>\n",
       "      <td>0.716634</td>\n",
       "    </tr>\n",
       "    <tr>\n",
       "      <th>54</th>\n",
       "      <td>mdfndlljvt.mp4</td>\n",
       "      <td>0.822497</td>\n",
       "    </tr>\n",
       "    <tr>\n",
       "      <th>55</th>\n",
       "      <td>ecumyiowzs.mp4</td>\n",
       "      <td>0.647001</td>\n",
       "    </tr>\n",
       "    <tr>\n",
       "      <th>56</th>\n",
       "      <td>wjhpisoeaj.mp4</td>\n",
       "      <td>0.712635</td>\n",
       "    </tr>\n",
       "    <tr>\n",
       "      <th>57</th>\n",
       "      <td>yxvmusxvcz.mp4</td>\n",
       "      <td>0.604929</td>\n",
       "    </tr>\n",
       "    <tr>\n",
       "      <th>58</th>\n",
       "      <td>dxfdovivlw.mp4</td>\n",
       "      <td>0.669274</td>\n",
       "    </tr>\n",
       "    <tr>\n",
       "      <th>59</th>\n",
       "      <td>sjwywglgym.mp4</td>\n",
       "      <td>0.595608</td>\n",
       "    </tr>\n",
       "    <tr>\n",
       "      <th>60</th>\n",
       "      <td>rukyxomwcx.mp4</td>\n",
       "      <td>0.592429</td>\n",
       "    </tr>\n",
       "    <tr>\n",
       "      <th>61</th>\n",
       "      <td>blnmxntbey.mp4</td>\n",
       "      <td>0.585938</td>\n",
       "    </tr>\n",
       "    <tr>\n",
       "      <th>62</th>\n",
       "      <td>opvqdabdap.mp4</td>\n",
       "      <td>0.912300</td>\n",
       "    </tr>\n",
       "    <tr>\n",
       "      <th>63</th>\n",
       "      <td>qlvsqdroqo.mp4</td>\n",
       "      <td>1.000000</td>\n",
       "    </tr>\n",
       "    <tr>\n",
       "      <th>64</th>\n",
       "      <td>lpgxwdgnio.mp4</td>\n",
       "      <td>0.228328</td>\n",
       "    </tr>\n",
       "    <tr>\n",
       "      <th>65</th>\n",
       "      <td>keioymnobc.mp4</td>\n",
       "      <td>0.593054</td>\n",
       "    </tr>\n",
       "    <tr>\n",
       "      <th>66</th>\n",
       "      <td>qarqtkvgby.mp4</td>\n",
       "      <td>0.231640</td>\n",
       "    </tr>\n",
       "    <tr>\n",
       "      <th>67</th>\n",
       "      <td>tyjpjpglgx.mp4</td>\n",
       "      <td>0.747632</td>\n",
       "    </tr>\n",
       "    <tr>\n",
       "      <th>68</th>\n",
       "      <td>jyfvaequfg.mp4</td>\n",
       "      <td>0.343830</td>\n",
       "    </tr>\n",
       "    <tr>\n",
       "      <th>69</th>\n",
       "      <td>wndursivcx.mp4</td>\n",
       "      <td>0.601980</td>\n",
       "    </tr>\n",
       "    <tr>\n",
       "      <th>70</th>\n",
       "      <td>cjkctqqakb.mp4</td>\n",
       "      <td>0.773965</td>\n",
       "    </tr>\n",
       "    <tr>\n",
       "      <th>71</th>\n",
       "      <td>srfefmyjvt.mp4</td>\n",
       "      <td>0.592225</td>\n",
       "    </tr>\n",
       "    <tr>\n",
       "      <th>72</th>\n",
       "      <td>tejfudfgpq.mp4</td>\n",
       "      <td>0.648285</td>\n",
       "    </tr>\n",
       "    <tr>\n",
       "      <th>73</th>\n",
       "      <td>petmyhjclt.mp4</td>\n",
       "      <td>0.021753</td>\n",
       "    </tr>\n",
       "    <tr>\n",
       "      <th>74</th>\n",
       "      <td>bkuzquigyt.mp4</td>\n",
       "      <td>0.352229</td>\n",
       "    </tr>\n",
       "    <tr>\n",
       "      <th>75</th>\n",
       "      <td>apedduehoy.mp4</td>\n",
       "      <td>0.628891</td>\n",
       "    </tr>\n",
       "    <tr>\n",
       "      <th>76</th>\n",
       "      <td>zmxeiipnqb.mp4</td>\n",
       "      <td>0.578353</td>\n",
       "    </tr>\n",
       "    <tr>\n",
       "      <th>77</th>\n",
       "      <td>lnjkpdviqb.mp4</td>\n",
       "      <td>0.742503</td>\n",
       "    </tr>\n",
       "    <tr>\n",
       "      <th>78</th>\n",
       "      <td>eqslzbqfea.mp4</td>\n",
       "      <td>1.000000</td>\n",
       "    </tr>\n",
       "    <tr>\n",
       "      <th>79</th>\n",
       "      <td>itfsvvmslp.mp4</td>\n",
       "      <td>0.209993</td>\n",
       "    </tr>\n",
       "    <tr>\n",
       "      <th>80</th>\n",
       "      <td>novarhxpbj.mp4</td>\n",
       "      <td>0.950800</td>\n",
       "    </tr>\n",
       "    <tr>\n",
       "      <th>81</th>\n",
       "      <td>ilqwcbprqa.mp4</td>\n",
       "      <td>0.004974</td>\n",
       "    </tr>\n",
       "    <tr>\n",
       "      <th>82</th>\n",
       "      <td>yronlutbgm.mp4</td>\n",
       "      <td>0.773006</td>\n",
       "    </tr>\n",
       "    <tr>\n",
       "      <th>83</th>\n",
       "      <td>eisofhptvk.mp4</td>\n",
       "      <td>0.600404</td>\n",
       "    </tr>\n",
       "    <tr>\n",
       "      <th>84</th>\n",
       "      <td>didzujjhtg.mp4</td>\n",
       "      <td>0.666561</td>\n",
       "    </tr>\n",
       "    <tr>\n",
       "      <th>85</th>\n",
       "      <td>esjdyghhog.mp4</td>\n",
       "      <td>0.604801</td>\n",
       "    </tr>\n",
       "    <tr>\n",
       "      <th>86</th>\n",
       "      <td>bfdopzvxbi.mp4</td>\n",
       "      <td>0.924682</td>\n",
       "    </tr>\n",
       "    <tr>\n",
       "      <th>87</th>\n",
       "      <td>ptbnewtvon.mp4</td>\n",
       "      <td>0.653448</td>\n",
       "    </tr>\n",
       "    <tr>\n",
       "      <th>88</th>\n",
       "      <td>oysopgovhu.mp4</td>\n",
       "      <td>0.588005</td>\n",
       "    </tr>\n",
       "    <tr>\n",
       "      <th>89</th>\n",
       "      <td>zxacihctqp.mp4</td>\n",
       "      <td>0.829072</td>\n",
       "    </tr>\n",
       "    <tr>\n",
       "      <th>90</th>\n",
       "      <td>fpevfidstw.mp4</td>\n",
       "      <td>0.560230</td>\n",
       "    </tr>\n",
       "    <tr>\n",
       "      <th>91</th>\n",
       "      <td>ljouzjaqqe.mp4</td>\n",
       "      <td>0.270818</td>\n",
       "    </tr>\n",
       "    <tr>\n",
       "      <th>92</th>\n",
       "      <td>aomqqjipcp.mp4</td>\n",
       "      <td>0.999069</td>\n",
       "    </tr>\n",
       "    <tr>\n",
       "      <th>93</th>\n",
       "      <td>qcbkztamqc.mp4</td>\n",
       "      <td>0.955787</td>\n",
       "    </tr>\n",
       "    <tr>\n",
       "      <th>94</th>\n",
       "      <td>mszblrdprw.mp4</td>\n",
       "      <td>0.500000</td>\n",
       "    </tr>\n",
       "    <tr>\n",
       "      <th>95</th>\n",
       "      <td>lbigytrrtr.mp4</td>\n",
       "      <td>0.597771</td>\n",
       "    </tr>\n",
       "    <tr>\n",
       "      <th>96</th>\n",
       "      <td>bcvheslzrq.mp4</td>\n",
       "      <td>0.908953</td>\n",
       "    </tr>\n",
       "    <tr>\n",
       "      <th>97</th>\n",
       "      <td>lpkgabskbw.mp4</td>\n",
       "      <td>0.023609</td>\n",
       "    </tr>\n",
       "    <tr>\n",
       "      <th>98</th>\n",
       "      <td>uubgqnvfdl.mp4</td>\n",
       "      <td>0.593711</td>\n",
       "    </tr>\n",
       "    <tr>\n",
       "      <th>99</th>\n",
       "      <td>zgjosltkie.mp4</td>\n",
       "      <td>0.562259</td>\n",
       "    </tr>\n",
       "    <tr>\n",
       "      <th>100</th>\n",
       "      <td>eryjktdexi.mp4</td>\n",
       "      <td>0.742365</td>\n",
       "    </tr>\n",
       "    <tr>\n",
       "      <th>101</th>\n",
       "      <td>bfjsthfhbd.mp4</td>\n",
       "      <td>0.821568</td>\n",
       "    </tr>\n",
       "    <tr>\n",
       "      <th>102</th>\n",
       "      <td>fopjiyxiqd.mp4</td>\n",
       "      <td>1.000000</td>\n",
       "    </tr>\n",
       "    <tr>\n",
       "      <th>103</th>\n",
       "      <td>nymodlmxni.mp4</td>\n",
       "      <td>0.976309</td>\n",
       "    </tr>\n",
       "    <tr>\n",
       "      <th>104</th>\n",
       "      <td>cekarydqba.mp4</td>\n",
       "      <td>0.555713</td>\n",
       "    </tr>\n",
       "    <tr>\n",
       "      <th>105</th>\n",
       "      <td>psesikjaxx.mp4</td>\n",
       "      <td>0.009901</td>\n",
       "    </tr>\n",
       "    <tr>\n",
       "      <th>106</th>\n",
       "      <td>yllztsrwjw.mp4</td>\n",
       "      <td>0.726062</td>\n",
       "    </tr>\n",
       "    <tr>\n",
       "      <th>107</th>\n",
       "      <td>kmcdjxmnoa.mp4</td>\n",
       "      <td>0.678877</td>\n",
       "    </tr>\n",
       "    <tr>\n",
       "      <th>108</th>\n",
       "      <td>yaxgpxhavq.mp4</td>\n",
       "      <td>0.593641</td>\n",
       "    </tr>\n",
       "    <tr>\n",
       "      <th>109</th>\n",
       "      <td>sktpeppbkc.mp4</td>\n",
       "      <td>0.594299</td>\n",
       "    </tr>\n",
       "    <tr>\n",
       "      <th>110</th>\n",
       "      <td>vokrpfjpeb.mp4</td>\n",
       "      <td>0.776106</td>\n",
       "    </tr>\n",
       "    <tr>\n",
       "      <th>111</th>\n",
       "      <td>qqnlrngaft.mp4</td>\n",
       "      <td>0.403707</td>\n",
       "    </tr>\n",
       "    <tr>\n",
       "      <th>112</th>\n",
       "      <td>pcyswtgick.mp4</td>\n",
       "      <td>0.641244</td>\n",
       "    </tr>\n",
       "    <tr>\n",
       "      <th>113</th>\n",
       "      <td>sngjsueuhs.mp4</td>\n",
       "      <td>0.594554</td>\n",
       "    </tr>\n",
       "    <tr>\n",
       "      <th>114</th>\n",
       "      <td>hevcclcklc.mp4</td>\n",
       "      <td>0.598940</td>\n",
       "    </tr>\n",
       "    <tr>\n",
       "      <th>115</th>\n",
       "      <td>rerpivllud.mp4</td>\n",
       "      <td>0.557225</td>\n",
       "    </tr>\n",
       "    <tr>\n",
       "      <th>116</th>\n",
       "      <td>ziipxxchai.mp4</td>\n",
       "      <td>0.664823</td>\n",
       "    </tr>\n",
       "    <tr>\n",
       "      <th>117</th>\n",
       "      <td>wnlubukrki.mp4</td>\n",
       "      <td>0.436956</td>\n",
       "    </tr>\n",
       "    <tr>\n",
       "      <th>118</th>\n",
       "      <td>wfzjxzhdkj.mp4</td>\n",
       "      <td>1.000000</td>\n",
       "    </tr>\n",
       "    <tr>\n",
       "      <th>119</th>\n",
       "      <td>nikynwcvuh.mp4</td>\n",
       "      <td>0.849445</td>\n",
       "    </tr>\n",
       "    <tr>\n",
       "      <th>120</th>\n",
       "      <td>bnuwxhfahw.mp4</td>\n",
       "      <td>0.600060</td>\n",
       "    </tr>\n",
       "    <tr>\n",
       "      <th>121</th>\n",
       "      <td>mllzkpgatp.mp4</td>\n",
       "      <td>0.236067</td>\n",
       "    </tr>\n",
       "    <tr>\n",
       "      <th>122</th>\n",
       "      <td>vhbbwdflyh.mp4</td>\n",
       "      <td>0.128946</td>\n",
       "    </tr>\n",
       "    <tr>\n",
       "      <th>123</th>\n",
       "      <td>mohiqoogpb.mp4</td>\n",
       "      <td>0.437166</td>\n",
       "    </tr>\n",
       "    <tr>\n",
       "      <th>124</th>\n",
       "      <td>ystdtnetgj.mp4</td>\n",
       "      <td>0.057338</td>\n",
       "    </tr>\n",
       "    <tr>\n",
       "      <th>125</th>\n",
       "      <td>xrtvqhdibb.mp4</td>\n",
       "      <td>0.823680</td>\n",
       "    </tr>\n",
       "    <tr>\n",
       "      <th>126</th>\n",
       "      <td>zfobicuigx.mp4</td>\n",
       "      <td>0.381912</td>\n",
       "    </tr>\n",
       "    <tr>\n",
       "      <th>127</th>\n",
       "      <td>ibxfxggtqh.mp4</td>\n",
       "      <td>0.598884</td>\n",
       "    </tr>\n",
       "    <tr>\n",
       "      <th>128</th>\n",
       "      <td>lyoslorecs.mp4</td>\n",
       "      <td>1.000000</td>\n",
       "    </tr>\n",
       "    <tr>\n",
       "      <th>129</th>\n",
       "      <td>dozjwhnedd.mp4</td>\n",
       "      <td>0.824346</td>\n",
       "    </tr>\n",
       "    <tr>\n",
       "      <th>130</th>\n",
       "      <td>pdswwyyntw.mp4</td>\n",
       "      <td>0.878076</td>\n",
       "    </tr>\n",
       "    <tr>\n",
       "      <th>131</th>\n",
       "      <td>ajiyrjfyzp.mp4</td>\n",
       "      <td>0.019594</td>\n",
       "    </tr>\n",
       "    <tr>\n",
       "      <th>132</th>\n",
       "      <td>cqxxumarvp.mp4</td>\n",
       "      <td>0.917435</td>\n",
       "    </tr>\n",
       "    <tr>\n",
       "      <th>133</th>\n",
       "      <td>sylnrepacf.mp4</td>\n",
       "      <td>0.686723</td>\n",
       "    </tr>\n",
       "    <tr>\n",
       "      <th>134</th>\n",
       "      <td>lmdyicksrv.mp4</td>\n",
       "      <td>0.603135</td>\n",
       "    </tr>\n",
       "    <tr>\n",
       "      <th>135</th>\n",
       "      <td>vmxfwxgdei.mp4</td>\n",
       "      <td>0.464687</td>\n",
       "    </tr>\n",
       "    <tr>\n",
       "      <th>136</th>\n",
       "      <td>pqthmvwonf.mp4</td>\n",
       "      <td>0.873232</td>\n",
       "    </tr>\n",
       "    <tr>\n",
       "      <th>137</th>\n",
       "      <td>hnfwagcxdf.mp4</td>\n",
       "      <td>0.942034</td>\n",
       "    </tr>\n",
       "    <tr>\n",
       "      <th>138</th>\n",
       "      <td>ljauauuyka.mp4</td>\n",
       "      <td>0.584666</td>\n",
       "    </tr>\n",
       "    <tr>\n",
       "      <th>139</th>\n",
       "      <td>ybbrkacebd.mp4</td>\n",
       "      <td>0.594108</td>\n",
       "    </tr>\n",
       "    <tr>\n",
       "      <th>140</th>\n",
       "      <td>qooxnxqqjb.mp4</td>\n",
       "      <td>0.710203</td>\n",
       "    </tr>\n",
       "    <tr>\n",
       "      <th>141</th>\n",
       "      <td>omphqltjdd.mp4</td>\n",
       "      <td>0.591758</td>\n",
       "    </tr>\n",
       "    <tr>\n",
       "      <th>142</th>\n",
       "      <td>tvhjcfnqtg.mp4</td>\n",
       "      <td>0.087613</td>\n",
       "    </tr>\n",
       "    <tr>\n",
       "      <th>143</th>\n",
       "      <td>uqvxjfpwdo.mp4</td>\n",
       "      <td>0.709090</td>\n",
       "    </tr>\n",
       "    <tr>\n",
       "      <th>144</th>\n",
       "      <td>sfsayjgzrh.mp4</td>\n",
       "      <td>0.589517</td>\n",
       "    </tr>\n",
       "    <tr>\n",
       "      <th>145</th>\n",
       "      <td>blszgmxkvu.mp4</td>\n",
       "      <td>0.594543</td>\n",
       "    </tr>\n",
       "    <tr>\n",
       "      <th>146</th>\n",
       "      <td>ggzjfrirjh.mp4</td>\n",
       "      <td>0.682960</td>\n",
       "    </tr>\n",
       "    <tr>\n",
       "      <th>147</th>\n",
       "      <td>coqwgzpbhx.mp4</td>\n",
       "      <td>0.596507</td>\n",
       "    </tr>\n",
       "    <tr>\n",
       "      <th>148</th>\n",
       "      <td>hyjqolupxn.mp4</td>\n",
       "      <td>0.619235</td>\n",
       "    </tr>\n",
       "    <tr>\n",
       "      <th>149</th>\n",
       "      <td>kcjvhgvhpt.mp4</td>\n",
       "      <td>0.510882</td>\n",
       "    </tr>\n",
       "    <tr>\n",
       "      <th>150</th>\n",
       "      <td>fxuxxtryjn.mp4</td>\n",
       "      <td>0.654200</td>\n",
       "    </tr>\n",
       "    <tr>\n",
       "      <th>151</th>\n",
       "      <td>xjvxtuakyd.mp4</td>\n",
       "      <td>0.698325</td>\n",
       "    </tr>\n",
       "    <tr>\n",
       "      <th>152</th>\n",
       "      <td>bofrwgeyjo.mp4</td>\n",
       "      <td>0.591881</td>\n",
       "    </tr>\n",
       "    <tr>\n",
       "      <th>153</th>\n",
       "      <td>aassnaulhq.mp4</td>\n",
       "      <td>0.792450</td>\n",
       "    </tr>\n",
       "    <tr>\n",
       "      <th>154</th>\n",
       "      <td>sqixhnilfm.mp4</td>\n",
       "      <td>0.598682</td>\n",
       "    </tr>\n",
       "    <tr>\n",
       "      <th>155</th>\n",
       "      <td>gpsxfxrjrr.mp4</td>\n",
       "      <td>0.845345</td>\n",
       "    </tr>\n",
       "    <tr>\n",
       "      <th>156</th>\n",
       "      <td>oojxonbgow.mp4</td>\n",
       "      <td>0.914786</td>\n",
       "    </tr>\n",
       "    <tr>\n",
       "      <th>157</th>\n",
       "      <td>pcoxcmtroa.mp4</td>\n",
       "      <td>0.284396</td>\n",
       "    </tr>\n",
       "    <tr>\n",
       "      <th>158</th>\n",
       "      <td>yietrwuncf.mp4</td>\n",
       "      <td>1.000000</td>\n",
       "    </tr>\n",
       "    <tr>\n",
       "      <th>159</th>\n",
       "      <td>jiswxuqzyz.mp4</td>\n",
       "      <td>0.548334</td>\n",
       "    </tr>\n",
       "    <tr>\n",
       "      <th>160</th>\n",
       "      <td>oocincvedt.mp4</td>\n",
       "      <td>0.593346</td>\n",
       "    </tr>\n",
       "    <tr>\n",
       "      <th>161</th>\n",
       "      <td>fnxgqcvlsd.mp4</td>\n",
       "      <td>0.593454</td>\n",
       "    </tr>\n",
       "    <tr>\n",
       "      <th>162</th>\n",
       "      <td>ekvwecwltj.mp4</td>\n",
       "      <td>1.000000</td>\n",
       "    </tr>\n",
       "    <tr>\n",
       "      <th>163</th>\n",
       "      <td>qdqdsaiitt.mp4</td>\n",
       "      <td>0.826140</td>\n",
       "    </tr>\n",
       "    <tr>\n",
       "      <th>164</th>\n",
       "      <td>wcvsqnplsk.mp4</td>\n",
       "      <td>0.069660</td>\n",
       "    </tr>\n",
       "    <tr>\n",
       "      <th>165</th>\n",
       "      <td>uoccaiathd.mp4</td>\n",
       "      <td>0.680220</td>\n",
       "    </tr>\n",
       "    <tr>\n",
       "      <th>166</th>\n",
       "      <td>rmufsuogzn.mp4</td>\n",
       "      <td>0.660793</td>\n",
       "    </tr>\n",
       "    <tr>\n",
       "      <th>167</th>\n",
       "      <td>dtozwcapoa.mp4</td>\n",
       "      <td>0.943688</td>\n",
       "    </tr>\n",
       "    <tr>\n",
       "      <th>168</th>\n",
       "      <td>mxahsihabr.mp4</td>\n",
       "      <td>0.629681</td>\n",
       "    </tr>\n",
       "    <tr>\n",
       "      <th>169</th>\n",
       "      <td>zzmgnglanj.mp4</td>\n",
       "      <td>0.827891</td>\n",
       "    </tr>\n",
       "    <tr>\n",
       "      <th>170</th>\n",
       "      <td>tgawasvbbr.mp4</td>\n",
       "      <td>0.724090</td>\n",
       "    </tr>\n",
       "    <tr>\n",
       "      <th>171</th>\n",
       "      <td>cekwtyxdoo.mp4</td>\n",
       "      <td>0.006191</td>\n",
       "    </tr>\n",
       "    <tr>\n",
       "      <th>172</th>\n",
       "      <td>rxdoimqble.mp4</td>\n",
       "      <td>0.774437</td>\n",
       "    </tr>\n",
       "    <tr>\n",
       "      <th>173</th>\n",
       "      <td>toinozytsp.mp4</td>\n",
       "      <td>0.390325</td>\n",
       "    </tr>\n",
       "    <tr>\n",
       "      <th>174</th>\n",
       "      <td>uhakqelqri.mp4</td>\n",
       "      <td>0.123915</td>\n",
       "    </tr>\n",
       "    <tr>\n",
       "      <th>175</th>\n",
       "      <td>vajkicalux.mp4</td>\n",
       "      <td>0.593146</td>\n",
       "    </tr>\n",
       "    <tr>\n",
       "      <th>176</th>\n",
       "      <td>qlqhjcshpk.mp4</td>\n",
       "      <td>0.746008</td>\n",
       "    </tr>\n",
       "    <tr>\n",
       "      <th>177</th>\n",
       "      <td>gccnvdoknm.mp4</td>\n",
       "      <td>0.751556</td>\n",
       "    </tr>\n",
       "    <tr>\n",
       "      <th>178</th>\n",
       "      <td>oyqgwjdwaj.mp4</td>\n",
       "      <td>1.000000</td>\n",
       "    </tr>\n",
       "    <tr>\n",
       "      <th>179</th>\n",
       "      <td>btdxnajogv.mp4</td>\n",
       "      <td>0.593521</td>\n",
       "    </tr>\n",
       "    <tr>\n",
       "      <th>180</th>\n",
       "      <td>dzojiwfvba.mp4</td>\n",
       "      <td>0.593280</td>\n",
       "    </tr>\n",
       "    <tr>\n",
       "      <th>181</th>\n",
       "      <td>kqlvggiqee.mp4</td>\n",
       "      <td>0.149415</td>\n",
       "    </tr>\n",
       "    <tr>\n",
       "      <th>182</th>\n",
       "      <td>bjyaxvggle.mp4</td>\n",
       "      <td>1.000000</td>\n",
       "    </tr>\n",
       "    <tr>\n",
       "      <th>183</th>\n",
       "      <td>syxobtuucp.mp4</td>\n",
       "      <td>0.262010</td>\n",
       "    </tr>\n",
       "    <tr>\n",
       "      <th>184</th>\n",
       "      <td>shnsajrsow.mp4</td>\n",
       "      <td>1.000000</td>\n",
       "    </tr>\n",
       "    <tr>\n",
       "      <th>185</th>\n",
       "      <td>temeqbmzxu.mp4</td>\n",
       "      <td>0.154655</td>\n",
       "    </tr>\n",
       "    <tr>\n",
       "      <th>186</th>\n",
       "      <td>jhczqfefgw.mp4</td>\n",
       "      <td>1.000000</td>\n",
       "    </tr>\n",
       "    <tr>\n",
       "      <th>187</th>\n",
       "      <td>qsjiypnjwi.mp4</td>\n",
       "      <td>0.007952</td>\n",
       "    </tr>\n",
       "    <tr>\n",
       "      <th>188</th>\n",
       "      <td>ayipraspbn.mp4</td>\n",
       "      <td>0.593448</td>\n",
       "    </tr>\n",
       "    <tr>\n",
       "      <th>189</th>\n",
       "      <td>yiykshcbaz.mp4</td>\n",
       "      <td>0.777658</td>\n",
       "    </tr>\n",
       "    <tr>\n",
       "      <th>190</th>\n",
       "      <td>vwxednhlwz.mp4</td>\n",
       "      <td>0.809797</td>\n",
       "    </tr>\n",
       "    <tr>\n",
       "      <th>191</th>\n",
       "      <td>nwvsbmyndn.mp4</td>\n",
       "      <td>0.623543</td>\n",
       "    </tr>\n",
       "    <tr>\n",
       "      <th>192</th>\n",
       "      <td>ytopzxrswu.mp4</td>\n",
       "      <td>0.711823</td>\n",
       "    </tr>\n",
       "    <tr>\n",
       "      <th>193</th>\n",
       "      <td>hszwwswewp.mp4</td>\n",
       "      <td>0.594044</td>\n",
       "    </tr>\n",
       "    <tr>\n",
       "      <th>194</th>\n",
       "      <td>gahgyuwzbu.mp4</td>\n",
       "      <td>0.592027</td>\n",
       "    </tr>\n",
       "    <tr>\n",
       "      <th>195</th>\n",
       "      <td>sodvtfqbpf.mp4</td>\n",
       "      <td>0.714981</td>\n",
       "    </tr>\n",
       "    <tr>\n",
       "      <th>196</th>\n",
       "      <td>rvvpazsffd.mp4</td>\n",
       "      <td>0.844326</td>\n",
       "    </tr>\n",
       "    <tr>\n",
       "      <th>197</th>\n",
       "      <td>hicjuubiau.mp4</td>\n",
       "      <td>0.622670</td>\n",
       "    </tr>\n",
       "    <tr>\n",
       "      <th>198</th>\n",
       "      <td>rklawjhbpv.mp4</td>\n",
       "      <td>0.602195</td>\n",
       "    </tr>\n",
       "    <tr>\n",
       "      <th>199</th>\n",
       "      <td>uvrzaczrbx.mp4</td>\n",
       "      <td>0.626554</td>\n",
       "    </tr>\n",
       "    <tr>\n",
       "      <th>200</th>\n",
       "      <td>vbcgoyxsvn.mp4</td>\n",
       "      <td>1.000000</td>\n",
       "    </tr>\n",
       "    <tr>\n",
       "      <th>201</th>\n",
       "      <td>nwvloufjty.mp4</td>\n",
       "      <td>0.612676</td>\n",
       "    </tr>\n",
       "    <tr>\n",
       "      <th>202</th>\n",
       "      <td>qswlzfgcgj.mp4</td>\n",
       "      <td>0.688744</td>\n",
       "    </tr>\n",
       "    <tr>\n",
       "      <th>203</th>\n",
       "      <td>gcdtglsoqj.mp4</td>\n",
       "      <td>0.948233</td>\n",
       "    </tr>\n",
       "    <tr>\n",
       "      <th>204</th>\n",
       "      <td>hweshqpfwe.mp4</td>\n",
       "      <td>0.860520</td>\n",
       "    </tr>\n",
       "    <tr>\n",
       "      <th>205</th>\n",
       "      <td>hclsparpth.mp4</td>\n",
       "      <td>0.577543</td>\n",
       "    </tr>\n",
       "    <tr>\n",
       "      <th>206</th>\n",
       "      <td>ojsxxkalat.mp4</td>\n",
       "      <td>0.105583</td>\n",
       "    </tr>\n",
       "    <tr>\n",
       "      <th>207</th>\n",
       "      <td>nswtvttxre.mp4</td>\n",
       "      <td>0.428361</td>\n",
       "    </tr>\n",
       "    <tr>\n",
       "      <th>208</th>\n",
       "      <td>doniqevxeg.mp4</td>\n",
       "      <td>0.612411</td>\n",
       "    </tr>\n",
       "    <tr>\n",
       "      <th>209</th>\n",
       "      <td>ipvwtgdlre.mp4</td>\n",
       "      <td>0.593470</td>\n",
       "    </tr>\n",
       "    <tr>\n",
       "      <th>210</th>\n",
       "      <td>sznkemeqro.mp4</td>\n",
       "      <td>0.594620</td>\n",
       "    </tr>\n",
       "    <tr>\n",
       "      <th>211</th>\n",
       "      <td>hfsvqabzfq.mp4</td>\n",
       "      <td>0.682784</td>\n",
       "    </tr>\n",
       "    <tr>\n",
       "      <th>212</th>\n",
       "      <td>xxzefxwyku.mp4</td>\n",
       "      <td>0.885552</td>\n",
       "    </tr>\n",
       "    <tr>\n",
       "      <th>213</th>\n",
       "      <td>njzshtfmcw.mp4</td>\n",
       "      <td>0.586200</td>\n",
       "    </tr>\n",
       "    <tr>\n",
       "      <th>214</th>\n",
       "      <td>mkzaekkvej.mp4</td>\n",
       "      <td>0.598365</td>\n",
       "    </tr>\n",
       "    <tr>\n",
       "      <th>215</th>\n",
       "      <td>yxirnfyijn.mp4</td>\n",
       "      <td>0.527234</td>\n",
       "    </tr>\n",
       "    <tr>\n",
       "      <th>216</th>\n",
       "      <td>hzoiotcykp.mp4</td>\n",
       "      <td>0.126307</td>\n",
       "    </tr>\n",
       "    <tr>\n",
       "      <th>217</th>\n",
       "      <td>ywauoonmlr.mp4</td>\n",
       "      <td>1.000000</td>\n",
       "    </tr>\n",
       "    <tr>\n",
       "      <th>218</th>\n",
       "      <td>ypbtpunjvm.mp4</td>\n",
       "      <td>0.595812</td>\n",
       "    </tr>\n",
       "    <tr>\n",
       "      <th>219</th>\n",
       "      <td>ruhtnngrqv.mp4</td>\n",
       "      <td>0.689874</td>\n",
       "    </tr>\n",
       "    <tr>\n",
       "      <th>220</th>\n",
       "      <td>fsdrwikhge.mp4</td>\n",
       "      <td>0.714029</td>\n",
       "    </tr>\n",
       "    <tr>\n",
       "      <th>221</th>\n",
       "      <td>gkutjglghz.mp4</td>\n",
       "      <td>0.598402</td>\n",
       "    </tr>\n",
       "    <tr>\n",
       "      <th>222</th>\n",
       "      <td>hefisnapds.mp4</td>\n",
       "      <td>0.000018</td>\n",
       "    </tr>\n",
       "    <tr>\n",
       "      <th>223</th>\n",
       "      <td>nkhzxomani.mp4</td>\n",
       "      <td>1.000000</td>\n",
       "    </tr>\n",
       "    <tr>\n",
       "      <th>224</th>\n",
       "      <td>bdshuoldwx.mp4</td>\n",
       "      <td>0.593874</td>\n",
       "    </tr>\n",
       "    <tr>\n",
       "      <th>225</th>\n",
       "      <td>ggdpclfcgk.mp4</td>\n",
       "      <td>0.357079</td>\n",
       "    </tr>\n",
       "    <tr>\n",
       "      <th>226</th>\n",
       "      <td>llplvmcvbl.mp4</td>\n",
       "      <td>1.000000</td>\n",
       "    </tr>\n",
       "    <tr>\n",
       "      <th>227</th>\n",
       "      <td>esmqxszybs.mp4</td>\n",
       "      <td>0.598586</td>\n",
       "    </tr>\n",
       "    <tr>\n",
       "      <th>228</th>\n",
       "      <td>xcruhaccxc.mp4</td>\n",
       "      <td>0.680003</td>\n",
       "    </tr>\n",
       "    <tr>\n",
       "      <th>229</th>\n",
       "      <td>ihglzxzroo.mp4</td>\n",
       "      <td>0.741577</td>\n",
       "    </tr>\n",
       "    <tr>\n",
       "      <th>230</th>\n",
       "      <td>pxcfrszlgi.mp4</td>\n",
       "      <td>0.747079</td>\n",
       "    </tr>\n",
       "    <tr>\n",
       "      <th>231</th>\n",
       "      <td>rmlzgerevr.mp4</td>\n",
       "      <td>1.000000</td>\n",
       "    </tr>\n",
       "    <tr>\n",
       "      <th>232</th>\n",
       "      <td>gochxzemmq.mp4</td>\n",
       "      <td>0.613016</td>\n",
       "    </tr>\n",
       "    <tr>\n",
       "      <th>233</th>\n",
       "      <td>gfcycflhbo.mp4</td>\n",
       "      <td>0.712919</td>\n",
       "    </tr>\n",
       "    <tr>\n",
       "      <th>234</th>\n",
       "      <td>wvgviwnwob.mp4</td>\n",
       "      <td>0.866535</td>\n",
       "    </tr>\n",
       "    <tr>\n",
       "      <th>235</th>\n",
       "      <td>cnxccbjlct.mp4</td>\n",
       "      <td>0.638736</td>\n",
       "    </tr>\n",
       "    <tr>\n",
       "      <th>236</th>\n",
       "      <td>fjrueenjyp.mp4</td>\n",
       "      <td>0.642897</td>\n",
       "    </tr>\n",
       "    <tr>\n",
       "      <th>237</th>\n",
       "      <td>nxzgekegsp.mp4</td>\n",
       "      <td>0.846469</td>\n",
       "    </tr>\n",
       "    <tr>\n",
       "      <th>238</th>\n",
       "      <td>vssmlqoiti.mp4</td>\n",
       "      <td>0.597714</td>\n",
       "    </tr>\n",
       "    <tr>\n",
       "      <th>239</th>\n",
       "      <td>zyufpqvpyu.mp4</td>\n",
       "      <td>0.633475</td>\n",
       "    </tr>\n",
       "    <tr>\n",
       "      <th>240</th>\n",
       "      <td>rtpbawlmxr.mp4</td>\n",
       "      <td>0.952408</td>\n",
       "    </tr>\n",
       "    <tr>\n",
       "      <th>241</th>\n",
       "      <td>temjefwaas.mp4</td>\n",
       "      <td>0.654121</td>\n",
       "    </tr>\n",
       "    <tr>\n",
       "      <th>242</th>\n",
       "      <td>prhmixykhr.mp4</td>\n",
       "      <td>0.000017</td>\n",
       "    </tr>\n",
       "    <tr>\n",
       "      <th>243</th>\n",
       "      <td>wynotylpnm.mp4</td>\n",
       "      <td>0.632276</td>\n",
       "    </tr>\n",
       "    <tr>\n",
       "      <th>244</th>\n",
       "      <td>siebfpwuhu.mp4</td>\n",
       "      <td>0.500000</td>\n",
       "    </tr>\n",
       "    <tr>\n",
       "      <th>245</th>\n",
       "      <td>fmhiujydwo.mp4</td>\n",
       "      <td>0.611111</td>\n",
       "    </tr>\n",
       "    <tr>\n",
       "      <th>246</th>\n",
       "      <td>kvmpmhdxly.mp4</td>\n",
       "      <td>0.749773</td>\n",
       "    </tr>\n",
       "    <tr>\n",
       "      <th>247</th>\n",
       "      <td>yarpxfqejd.mp4</td>\n",
       "      <td>0.627397</td>\n",
       "    </tr>\n",
       "    <tr>\n",
       "      <th>248</th>\n",
       "      <td>iznnzjvaxc.mp4</td>\n",
       "      <td>0.956010</td>\n",
       "    </tr>\n",
       "    <tr>\n",
       "      <th>249</th>\n",
       "      <td>dvkdfhrpph.mp4</td>\n",
       "      <td>0.110902</td>\n",
       "    </tr>\n",
       "    <tr>\n",
       "      <th>250</th>\n",
       "      <td>dkuqbduxev.mp4</td>\n",
       "      <td>1.000000</td>\n",
       "    </tr>\n",
       "    <tr>\n",
       "      <th>251</th>\n",
       "      <td>ekelfsnqof.mp4</td>\n",
       "      <td>0.852593</td>\n",
       "    </tr>\n",
       "    <tr>\n",
       "      <th>252</th>\n",
       "      <td>aktnlyqpah.mp4</td>\n",
       "      <td>0.702270</td>\n",
       "    </tr>\n",
       "    <tr>\n",
       "      <th>253</th>\n",
       "      <td>gfgcwxkbjd.mp4</td>\n",
       "      <td>0.170269</td>\n",
       "    </tr>\n",
       "    <tr>\n",
       "      <th>254</th>\n",
       "      <td>sjinmmbipg.mp4</td>\n",
       "      <td>1.000000</td>\n",
       "    </tr>\n",
       "    <tr>\n",
       "      <th>255</th>\n",
       "      <td>phjvutxpoi.mp4</td>\n",
       "      <td>0.738437</td>\n",
       "    </tr>\n",
       "    <tr>\n",
       "      <th>256</th>\n",
       "      <td>qxyrtwozyw.mp4</td>\n",
       "      <td>0.594250</td>\n",
       "    </tr>\n",
       "    <tr>\n",
       "      <th>257</th>\n",
       "      <td>ndikguxzek.mp4</td>\n",
       "      <td>0.798112</td>\n",
       "    </tr>\n",
       "    <tr>\n",
       "      <th>258</th>\n",
       "      <td>jsysgmycsx.mp4</td>\n",
       "      <td>1.000000</td>\n",
       "    </tr>\n",
       "    <tr>\n",
       "      <th>259</th>\n",
       "      <td>vtunvalyji.mp4</td>\n",
       "      <td>0.311626</td>\n",
       "    </tr>\n",
       "    <tr>\n",
       "      <th>260</th>\n",
       "      <td>pdufsewrec.mp4</td>\n",
       "      <td>1.000000</td>\n",
       "    </tr>\n",
       "    <tr>\n",
       "      <th>261</th>\n",
       "      <td>fjxovgmwnm.mp4</td>\n",
       "      <td>0.585020</td>\n",
       "    </tr>\n",
       "    <tr>\n",
       "      <th>262</th>\n",
       "      <td>voawxrmqyl.mp4</td>\n",
       "      <td>0.756495</td>\n",
       "    </tr>\n",
       "    <tr>\n",
       "      <th>263</th>\n",
       "      <td>knxltsvzyu.mp4</td>\n",
       "      <td>0.640153</td>\n",
       "    </tr>\n",
       "    <tr>\n",
       "      <th>264</th>\n",
       "      <td>scrbqgpvzz.mp4</td>\n",
       "      <td>0.226480</td>\n",
       "    </tr>\n",
       "    <tr>\n",
       "      <th>265</th>\n",
       "      <td>scbdenmaed.mp4</td>\n",
       "      <td>0.659074</td>\n",
       "    </tr>\n",
       "    <tr>\n",
       "      <th>266</th>\n",
       "      <td>xljemofssi.mp4</td>\n",
       "      <td>0.594473</td>\n",
       "    </tr>\n",
       "    <tr>\n",
       "      <th>267</th>\n",
       "      <td>gbnzicjyhz.mp4</td>\n",
       "      <td>0.603443</td>\n",
       "    </tr>\n",
       "    <tr>\n",
       "      <th>268</th>\n",
       "      <td>cnpanmywno.mp4</td>\n",
       "      <td>0.593482</td>\n",
       "    </tr>\n",
       "    <tr>\n",
       "      <th>269</th>\n",
       "      <td>pqdeutauqc.mp4</td>\n",
       "      <td>0.440650</td>\n",
       "    </tr>\n",
       "    <tr>\n",
       "      <th>270</th>\n",
       "      <td>wqysrieiqu.mp4</td>\n",
       "      <td>0.381584</td>\n",
       "    </tr>\n",
       "    <tr>\n",
       "      <th>271</th>\n",
       "      <td>owaogcehvc.mp4</td>\n",
       "      <td>0.620486</td>\n",
       "    </tr>\n",
       "    <tr>\n",
       "      <th>272</th>\n",
       "      <td>mnzabbkpmt.mp4</td>\n",
       "      <td>0.590989</td>\n",
       "    </tr>\n",
       "    <tr>\n",
       "      <th>273</th>\n",
       "      <td>kwfdyqofzw.mp4</td>\n",
       "      <td>0.867249</td>\n",
       "    </tr>\n",
       "    <tr>\n",
       "      <th>274</th>\n",
       "      <td>yljecirelf.mp4</td>\n",
       "      <td>0.607653</td>\n",
       "    </tr>\n",
       "    <tr>\n",
       "      <th>275</th>\n",
       "      <td>dvwpvqdflx.mp4</td>\n",
       "      <td>0.290093</td>\n",
       "    </tr>\n",
       "    <tr>\n",
       "      <th>276</th>\n",
       "      <td>kmqkiihrmj.mp4</td>\n",
       "      <td>1.000000</td>\n",
       "    </tr>\n",
       "    <tr>\n",
       "      <th>277</th>\n",
       "      <td>ywxpquomgt.mp4</td>\n",
       "      <td>0.548247</td>\n",
       "    </tr>\n",
       "    <tr>\n",
       "      <th>278</th>\n",
       "      <td>jyoxdvxpza.mp4</td>\n",
       "      <td>1.000000</td>\n",
       "    </tr>\n",
       "    <tr>\n",
       "      <th>279</th>\n",
       "      <td>kowiwvrjht.mp4</td>\n",
       "      <td>0.659444</td>\n",
       "    </tr>\n",
       "    <tr>\n",
       "      <th>280</th>\n",
       "      <td>espkiocpxq.mp4</td>\n",
       "      <td>0.648333</td>\n",
       "    </tr>\n",
       "    <tr>\n",
       "      <th>281</th>\n",
       "      <td>eywdmustbb.mp4</td>\n",
       "      <td>0.753700</td>\n",
       "    </tr>\n",
       "    <tr>\n",
       "      <th>282</th>\n",
       "      <td>fqgypsunzr.mp4</td>\n",
       "      <td>0.573393</td>\n",
       "    </tr>\n",
       "    <tr>\n",
       "      <th>283</th>\n",
       "      <td>tynfsthodx.mp4</td>\n",
       "      <td>0.593472</td>\n",
       "    </tr>\n",
       "    <tr>\n",
       "      <th>284</th>\n",
       "      <td>dsnxgrfdmd.mp4</td>\n",
       "      <td>0.622953</td>\n",
       "    </tr>\n",
       "    <tr>\n",
       "      <th>285</th>\n",
       "      <td>dmmvuaikkv.mp4</td>\n",
       "      <td>0.481995</td>\n",
       "    </tr>\n",
       "    <tr>\n",
       "      <th>286</th>\n",
       "      <td>fmvvmcbdrw.mp4</td>\n",
       "      <td>0.785519</td>\n",
       "    </tr>\n",
       "    <tr>\n",
       "      <th>287</th>\n",
       "      <td>yzuestxcbq.mp4</td>\n",
       "      <td>0.588767</td>\n",
       "    </tr>\n",
       "    <tr>\n",
       "      <th>288</th>\n",
       "      <td>rfjuhbnlro.mp4</td>\n",
       "      <td>0.608735</td>\n",
       "    </tr>\n",
       "    <tr>\n",
       "      <th>289</th>\n",
       "      <td>hitfycdavv.mp4</td>\n",
       "      <td>1.000000</td>\n",
       "    </tr>\n",
       "    <tr>\n",
       "      <th>290</th>\n",
       "      <td>cqhwesrciw.mp4</td>\n",
       "      <td>1.000000</td>\n",
       "    </tr>\n",
       "    <tr>\n",
       "      <th>291</th>\n",
       "      <td>hcanfkwivl.mp4</td>\n",
       "      <td>0.682964</td>\n",
       "    </tr>\n",
       "    <tr>\n",
       "      <th>292</th>\n",
       "      <td>vvfszaosiv.mp4</td>\n",
       "      <td>0.594021</td>\n",
       "    </tr>\n",
       "    <tr>\n",
       "      <th>293</th>\n",
       "      <td>fwykevubzy.mp4</td>\n",
       "      <td>0.432109</td>\n",
       "    </tr>\n",
       "    <tr>\n",
       "      <th>294</th>\n",
       "      <td>fneqiqpqvs.mp4</td>\n",
       "      <td>0.593506</td>\n",
       "    </tr>\n",
       "    <tr>\n",
       "      <th>295</th>\n",
       "      <td>frqfsucgao.mp4</td>\n",
       "      <td>0.604661</td>\n",
       "    </tr>\n",
       "    <tr>\n",
       "      <th>296</th>\n",
       "      <td>hqzwudvhih.mp4</td>\n",
       "      <td>0.698648</td>\n",
       "    </tr>\n",
       "    <tr>\n",
       "      <th>297</th>\n",
       "      <td>nplviymzlg.mp4</td>\n",
       "      <td>0.601101</td>\n",
       "    </tr>\n",
       "    <tr>\n",
       "      <th>298</th>\n",
       "      <td>waucvvmtkq.mp4</td>\n",
       "      <td>0.593481</td>\n",
       "    </tr>\n",
       "    <tr>\n",
       "      <th>299</th>\n",
       "      <td>ddtbarpcgo.mp4</td>\n",
       "      <td>0.169545</td>\n",
       "    </tr>\n",
       "    <tr>\n",
       "      <th>300</th>\n",
       "      <td>ouaowjmigq.mp4</td>\n",
       "      <td>0.653741</td>\n",
       "    </tr>\n",
       "    <tr>\n",
       "      <th>301</th>\n",
       "      <td>acazlolrpz.mp4</td>\n",
       "      <td>0.447735</td>\n",
       "    </tr>\n",
       "    <tr>\n",
       "      <th>302</th>\n",
       "      <td>hierggamuo.mp4</td>\n",
       "      <td>0.696343</td>\n",
       "    </tr>\n",
       "    <tr>\n",
       "      <th>303</th>\n",
       "      <td>halvwiltfs.mp4</td>\n",
       "      <td>0.654904</td>\n",
       "    </tr>\n",
       "    <tr>\n",
       "      <th>304</th>\n",
       "      <td>fzvpbrzssi.mp4</td>\n",
       "      <td>0.277565</td>\n",
       "    </tr>\n",
       "    <tr>\n",
       "      <th>305</th>\n",
       "      <td>syuxttuyhm.mp4</td>\n",
       "      <td>0.702706</td>\n",
       "    </tr>\n",
       "    <tr>\n",
       "      <th>306</th>\n",
       "      <td>jawgcggquk.mp4</td>\n",
       "      <td>0.176411</td>\n",
       "    </tr>\n",
       "    <tr>\n",
       "      <th>307</th>\n",
       "      <td>jzmzdispyo.mp4</td>\n",
       "      <td>0.591444</td>\n",
       "    </tr>\n",
       "    <tr>\n",
       "      <th>308</th>\n",
       "      <td>tjuihawuqm.mp4</td>\n",
       "      <td>0.494171</td>\n",
       "    </tr>\n",
       "    <tr>\n",
       "      <th>309</th>\n",
       "      <td>htzbnroagi.mp4</td>\n",
       "      <td>0.041396</td>\n",
       "    </tr>\n",
       "    <tr>\n",
       "      <th>310</th>\n",
       "      <td>nxnmkytwze.mp4</td>\n",
       "      <td>0.612468</td>\n",
       "    </tr>\n",
       "    <tr>\n",
       "      <th>311</th>\n",
       "      <td>uxuvkrjhws.mp4</td>\n",
       "      <td>0.879473</td>\n",
       "    </tr>\n",
       "    <tr>\n",
       "      <th>312</th>\n",
       "      <td>orekjthsef.mp4</td>\n",
       "      <td>0.656671</td>\n",
       "    </tr>\n",
       "    <tr>\n",
       "      <th>313</th>\n",
       "      <td>dpevefkefv.mp4</td>\n",
       "      <td>0.618259</td>\n",
       "    </tr>\n",
       "    <tr>\n",
       "      <th>314</th>\n",
       "      <td>ylxwcwhjjd.mp4</td>\n",
       "      <td>0.816426</td>\n",
       "    </tr>\n",
       "    <tr>\n",
       "      <th>315</th>\n",
       "      <td>nxgzmgzkfv.mp4</td>\n",
       "      <td>0.593866</td>\n",
       "    </tr>\n",
       "    <tr>\n",
       "      <th>316</th>\n",
       "      <td>bcbqxhziqz.mp4</td>\n",
       "      <td>0.614309</td>\n",
       "    </tr>\n",
       "    <tr>\n",
       "      <th>317</th>\n",
       "      <td>fddmkqjwsh.mp4</td>\n",
       "      <td>0.815731</td>\n",
       "    </tr>\n",
       "    <tr>\n",
       "      <th>318</th>\n",
       "      <td>famlupsgqm.mp4</td>\n",
       "      <td>0.613273</td>\n",
       "    </tr>\n",
       "    <tr>\n",
       "      <th>319</th>\n",
       "      <td>tjywwgftmv.mp4</td>\n",
       "      <td>0.071078</td>\n",
       "    </tr>\n",
       "    <tr>\n",
       "      <th>320</th>\n",
       "      <td>kezwvsxxzj.mp4</td>\n",
       "      <td>0.834915</td>\n",
       "    </tr>\n",
       "    <tr>\n",
       "      <th>321</th>\n",
       "      <td>yqhouqakbx.mp4</td>\n",
       "      <td>0.353062</td>\n",
       "    </tr>\n",
       "    <tr>\n",
       "      <th>322</th>\n",
       "      <td>jsbpkpxwew.mp4</td>\n",
       "      <td>0.172309</td>\n",
       "    </tr>\n",
       "    <tr>\n",
       "      <th>323</th>\n",
       "      <td>qhkzlnzruj.mp4</td>\n",
       "      <td>0.367104</td>\n",
       "    </tr>\n",
       "    <tr>\n",
       "      <th>324</th>\n",
       "      <td>zbgssotnjm.mp4</td>\n",
       "      <td>0.583345</td>\n",
       "    </tr>\n",
       "    <tr>\n",
       "      <th>325</th>\n",
       "      <td>irqzdokcws.mp4</td>\n",
       "      <td>0.795370</td>\n",
       "    </tr>\n",
       "    <tr>\n",
       "      <th>326</th>\n",
       "      <td>dnmowthjcj.mp4</td>\n",
       "      <td>0.782653</td>\n",
       "    </tr>\n",
       "    <tr>\n",
       "      <th>327</th>\n",
       "      <td>udxqbhgvvx.mp4</td>\n",
       "      <td>0.751938</td>\n",
       "    </tr>\n",
       "    <tr>\n",
       "      <th>328</th>\n",
       "      <td>demuhxssgl.mp4</td>\n",
       "      <td>1.000000</td>\n",
       "    </tr>\n",
       "    <tr>\n",
       "      <th>329</th>\n",
       "      <td>hbufmvbium.mp4</td>\n",
       "      <td>0.594385</td>\n",
       "    </tr>\n",
       "    <tr>\n",
       "      <th>330</th>\n",
       "      <td>axfhbpkdlc.mp4</td>\n",
       "      <td>0.717000</td>\n",
       "    </tr>\n",
       "    <tr>\n",
       "      <th>331</th>\n",
       "      <td>ztyuiqrhdk.mp4</td>\n",
       "      <td>0.782784</td>\n",
       "    </tr>\n",
       "    <tr>\n",
       "      <th>332</th>\n",
       "      <td>bkcyglmfci.mp4</td>\n",
       "      <td>0.710554</td>\n",
       "    </tr>\n",
       "    <tr>\n",
       "      <th>333</th>\n",
       "      <td>ghnpsltzyn.mp4</td>\n",
       "      <td>0.678508</td>\n",
       "    </tr>\n",
       "    <tr>\n",
       "      <th>334</th>\n",
       "      <td>adohdulfwb.mp4</td>\n",
       "      <td>0.620989</td>\n",
       "    </tr>\n",
       "    <tr>\n",
       "      <th>335</th>\n",
       "      <td>ptbfnkajyi.mp4</td>\n",
       "      <td>0.696134</td>\n",
       "    </tr>\n",
       "    <tr>\n",
       "      <th>336</th>\n",
       "      <td>etdliwticv.mp4</td>\n",
       "      <td>0.521212</td>\n",
       "    </tr>\n",
       "    <tr>\n",
       "      <th>337</th>\n",
       "      <td>apvzjkvnwn.mp4</td>\n",
       "      <td>0.609748</td>\n",
       "    </tr>\n",
       "    <tr>\n",
       "      <th>338</th>\n",
       "      <td>mxlipjhmqk.mp4</td>\n",
       "      <td>0.643234</td>\n",
       "    </tr>\n",
       "    <tr>\n",
       "      <th>339</th>\n",
       "      <td>okgelildpc.mp4</td>\n",
       "      <td>0.598309</td>\n",
       "    </tr>\n",
       "    <tr>\n",
       "      <th>340</th>\n",
       "      <td>gfdjzwnpyp.mp4</td>\n",
       "      <td>0.544655</td>\n",
       "    </tr>\n",
       "    <tr>\n",
       "      <th>341</th>\n",
       "      <td>lnhkjhyhvw.mp4</td>\n",
       "      <td>0.594546</td>\n",
       "    </tr>\n",
       "    <tr>\n",
       "      <th>342</th>\n",
       "      <td>ztyvglkcsf.mp4</td>\n",
       "      <td>0.632635</td>\n",
       "    </tr>\n",
       "    <tr>\n",
       "      <th>343</th>\n",
       "      <td>txmnoyiyte.mp4</td>\n",
       "      <td>0.073322</td>\n",
       "    </tr>\n",
       "    <tr>\n",
       "      <th>344</th>\n",
       "      <td>dvtpwatuja.mp4</td>\n",
       "      <td>0.176669</td>\n",
       "    </tr>\n",
       "    <tr>\n",
       "      <th>345</th>\n",
       "      <td>dpmgoiwhuf.mp4</td>\n",
       "      <td>0.240566</td>\n",
       "    </tr>\n",
       "    <tr>\n",
       "      <th>346</th>\n",
       "      <td>ekboxwrwuv.mp4</td>\n",
       "      <td>0.593901</td>\n",
       "    </tr>\n",
       "    <tr>\n",
       "      <th>347</th>\n",
       "      <td>ooafcxxfrs.mp4</td>\n",
       "      <td>0.721361</td>\n",
       "    </tr>\n",
       "    <tr>\n",
       "      <th>348</th>\n",
       "      <td>uhrqlmlclw.mp4</td>\n",
       "      <td>0.779552</td>\n",
       "    </tr>\n",
       "    <tr>\n",
       "      <th>349</th>\n",
       "      <td>lebzjtusnr.mp4</td>\n",
       "      <td>0.898360</td>\n",
       "    </tr>\n",
       "    <tr>\n",
       "      <th>350</th>\n",
       "      <td>dzkyxbbqkr.mp4</td>\n",
       "      <td>0.593390</td>\n",
       "    </tr>\n",
       "    <tr>\n",
       "      <th>351</th>\n",
       "      <td>yhylappzid.mp4</td>\n",
       "      <td>1.000000</td>\n",
       "    </tr>\n",
       "    <tr>\n",
       "      <th>352</th>\n",
       "      <td>qyyhuvqmyf.mp4</td>\n",
       "      <td>0.976840</td>\n",
       "    </tr>\n",
       "    <tr>\n",
       "      <th>353</th>\n",
       "      <td>bwdmzwhdnw.mp4</td>\n",
       "      <td>0.641423</td>\n",
       "    </tr>\n",
       "    <tr>\n",
       "      <th>354</th>\n",
       "      <td>usqqvxcjmg.mp4</td>\n",
       "      <td>0.717085</td>\n",
       "    </tr>\n",
       "    <tr>\n",
       "      <th>355</th>\n",
       "      <td>yxadevzohx.mp4</td>\n",
       "      <td>0.579454</td>\n",
       "    </tr>\n",
       "    <tr>\n",
       "      <th>356</th>\n",
       "      <td>xugmhbetrw.mp4</td>\n",
       "      <td>0.870949</td>\n",
       "    </tr>\n",
       "    <tr>\n",
       "      <th>357</th>\n",
       "      <td>vdtsbqidjb.mp4</td>\n",
       "      <td>0.598348</td>\n",
       "    </tr>\n",
       "    <tr>\n",
       "      <th>358</th>\n",
       "      <td>lhvjzhjxdp.mp4</td>\n",
       "      <td>0.592560</td>\n",
       "    </tr>\n",
       "    <tr>\n",
       "      <th>359</th>\n",
       "      <td>bvpeerislp.mp4</td>\n",
       "      <td>0.438035</td>\n",
       "    </tr>\n",
       "    <tr>\n",
       "      <th>360</th>\n",
       "      <td>heiyoojifp.mp4</td>\n",
       "      <td>0.614591</td>\n",
       "    </tr>\n",
       "    <tr>\n",
       "      <th>361</th>\n",
       "      <td>ucthmsajay.mp4</td>\n",
       "      <td>0.960772</td>\n",
       "    </tr>\n",
       "    <tr>\n",
       "      <th>362</th>\n",
       "      <td>sufvvwmbha.mp4</td>\n",
       "      <td>0.628042</td>\n",
       "    </tr>\n",
       "    <tr>\n",
       "      <th>363</th>\n",
       "      <td>zgbhzkditd.mp4</td>\n",
       "      <td>0.568092</td>\n",
       "    </tr>\n",
       "    <tr>\n",
       "      <th>364</th>\n",
       "      <td>cosghhimnd.mp4</td>\n",
       "      <td>0.915586</td>\n",
       "    </tr>\n",
       "    <tr>\n",
       "      <th>365</th>\n",
       "      <td>yhjlnisfel.mp4</td>\n",
       "      <td>0.585094</td>\n",
       "    </tr>\n",
       "    <tr>\n",
       "      <th>366</th>\n",
       "      <td>nycmyuzpml.mp4</td>\n",
       "      <td>0.592518</td>\n",
       "    </tr>\n",
       "    <tr>\n",
       "      <th>367</th>\n",
       "      <td>aayfryxljh.mp4</td>\n",
       "      <td>0.602242</td>\n",
       "    </tr>\n",
       "    <tr>\n",
       "      <th>368</th>\n",
       "      <td>dcqodpzomd.mp4</td>\n",
       "      <td>0.169508</td>\n",
       "    </tr>\n",
       "    <tr>\n",
       "      <th>369</th>\n",
       "      <td>icbsahlivv.mp4</td>\n",
       "      <td>0.657566</td>\n",
       "    </tr>\n",
       "    <tr>\n",
       "      <th>370</th>\n",
       "      <td>xhtppuyqdr.mp4</td>\n",
       "      <td>0.837934</td>\n",
       "    </tr>\n",
       "    <tr>\n",
       "      <th>371</th>\n",
       "      <td>bktkwbcawi.mp4</td>\n",
       "      <td>0.918385</td>\n",
       "    </tr>\n",
       "    <tr>\n",
       "      <th>372</th>\n",
       "      <td>wadvzjhwtw.mp4</td>\n",
       "      <td>0.490848</td>\n",
       "    </tr>\n",
       "    <tr>\n",
       "      <th>373</th>\n",
       "      <td>czfqlbcfpa.mp4</td>\n",
       "      <td>0.880776</td>\n",
       "    </tr>\n",
       "    <tr>\n",
       "      <th>374</th>\n",
       "      <td>huvlwkxoxm.mp4</td>\n",
       "      <td>0.602454</td>\n",
       "    </tr>\n",
       "    <tr>\n",
       "      <th>375</th>\n",
       "      <td>csnkohqxdv.mp4</td>\n",
       "      <td>0.799339</td>\n",
       "    </tr>\n",
       "    <tr>\n",
       "      <th>376</th>\n",
       "      <td>iksxzpqxzi.mp4</td>\n",
       "      <td>0.625809</td>\n",
       "    </tr>\n",
       "    <tr>\n",
       "      <th>377</th>\n",
       "      <td>ocgdbrgmtq.mp4</td>\n",
       "      <td>0.598398</td>\n",
       "    </tr>\n",
       "    <tr>\n",
       "      <th>378</th>\n",
       "      <td>ryxaqpfubf.mp4</td>\n",
       "      <td>0.584714</td>\n",
       "    </tr>\n",
       "    <tr>\n",
       "      <th>379</th>\n",
       "      <td>rcjfxxhcal.mp4</td>\n",
       "      <td>1.000000</td>\n",
       "    </tr>\n",
       "    <tr>\n",
       "      <th>380</th>\n",
       "      <td>gunamloolc.mp4</td>\n",
       "      <td>0.369710</td>\n",
       "    </tr>\n",
       "    <tr>\n",
       "      <th>381</th>\n",
       "      <td>ipkpxvwroe.mp4</td>\n",
       "      <td>0.806664</td>\n",
       "    </tr>\n",
       "    <tr>\n",
       "      <th>382</th>\n",
       "      <td>rrrfjhugvb.mp4</td>\n",
       "      <td>0.360246</td>\n",
       "    </tr>\n",
       "    <tr>\n",
       "      <th>383</th>\n",
       "      <td>dxgnpnowgk.mp4</td>\n",
       "      <td>0.775239</td>\n",
       "    </tr>\n",
       "    <tr>\n",
       "      <th>384</th>\n",
       "      <td>xmkwsnuzyq.mp4</td>\n",
       "      <td>0.724411</td>\n",
       "    </tr>\n",
       "    <tr>\n",
       "      <th>385</th>\n",
       "      <td>jytrvwlewz.mp4</td>\n",
       "      <td>0.006853</td>\n",
       "    </tr>\n",
       "    <tr>\n",
       "      <th>386</th>\n",
       "      <td>wcqvzujamg.mp4</td>\n",
       "      <td>0.107732</td>\n",
       "    </tr>\n",
       "    <tr>\n",
       "      <th>387</th>\n",
       "      <td>aqrsylrzgi.mp4</td>\n",
       "      <td>1.000000</td>\n",
       "    </tr>\n",
       "    <tr>\n",
       "      <th>388</th>\n",
       "      <td>swsaoktwgi.mp4</td>\n",
       "      <td>0.633868</td>\n",
       "    </tr>\n",
       "    <tr>\n",
       "      <th>389</th>\n",
       "      <td>cxsvvnxpyz.mp4</td>\n",
       "      <td>0.234006</td>\n",
       "    </tr>\n",
       "    <tr>\n",
       "      <th>390</th>\n",
       "      <td>rktrpsdlci.mp4</td>\n",
       "      <td>0.363560</td>\n",
       "    </tr>\n",
       "    <tr>\n",
       "      <th>391</th>\n",
       "      <td>rcecrgeotc.mp4</td>\n",
       "      <td>0.710836</td>\n",
       "    </tr>\n",
       "    <tr>\n",
       "      <th>392</th>\n",
       "      <td>dyjklprkoc.mp4</td>\n",
       "      <td>0.704295</td>\n",
       "    </tr>\n",
       "    <tr>\n",
       "      <th>393</th>\n",
       "      <td>oefukgnvel.mp4</td>\n",
       "      <td>0.645309</td>\n",
       "    </tr>\n",
       "    <tr>\n",
       "      <th>394</th>\n",
       "      <td>lbfqksftuo.mp4</td>\n",
       "      <td>0.633623</td>\n",
       "    </tr>\n",
       "    <tr>\n",
       "      <th>395</th>\n",
       "      <td>pxjkzvqomp.mp4</td>\n",
       "      <td>0.593438</td>\n",
       "    </tr>\n",
       "    <tr>\n",
       "      <th>396</th>\n",
       "      <td>rnfcjxynfa.mp4</td>\n",
       "      <td>0.657906</td>\n",
       "    </tr>\n",
       "    <tr>\n",
       "      <th>397</th>\n",
       "      <td>hxwtsaydal.mp4</td>\n",
       "      <td>0.634057</td>\n",
       "    </tr>\n",
       "    <tr>\n",
       "      <th>398</th>\n",
       "      <td>bzvzpwrabw.mp4</td>\n",
       "      <td>0.289136</td>\n",
       "    </tr>\n",
       "    <tr>\n",
       "      <th>399</th>\n",
       "      <td>mwwploizlj.mp4</td>\n",
       "      <td>0.529998</td>\n",
       "    </tr>\n",
       "  </tbody>\n",
       "</table>\n",
       "</div>"
      ],
      "text/plain": [
       "           filename     label\n",
       "0    iorbtaarte.mp4  0.475993\n",
       "1    vnlzxqwthl.mp4  0.434028\n",
       "2    gqnaxievjx.mp4  1.000000\n",
       "3    sjkfxrlxxs.mp4  0.815537\n",
       "4    eppyqpgewp.mp4  0.613892\n",
       "5    oaguiggjyv.mp4  0.705496\n",
       "6    ahjnxtiamx.mp4  0.593453\n",
       "7    snlyjbnpgw.mp4  1.000000\n",
       "8    hzssdinxec.mp4  0.846460\n",
       "9    honxqdilvv.mp4  0.826029\n",
       "10   nthpnwylxo.mp4  0.593437\n",
       "11   xdezcezszc.mp4  0.807930\n",
       "12   viteugozpv.mp4  0.891298\n",
       "13   zuwwbbusgl.mp4  0.443944\n",
       "14   mnowxangqx.mp4  0.950771\n",
       "15   mwnibuujwz.mp4  0.593445\n",
       "16   xphdfgmfmz.mp4  0.594027\n",
       "17   khpipxnsvx.mp4  0.598232\n",
       "18   zcxcmneefk.mp4  0.608355\n",
       "19   vurjckblge.mp4  0.581730\n",
       "20   lujvyveojc.mp4  1.000000\n",
       "21   coujjnypba.mp4  0.543643\n",
       "22   yoyhmxtrys.mp4  0.599764\n",
       "23   papagllumt.mp4  0.678569\n",
       "24   imdmhwkkni.mp4  0.594312\n",
       "25   oelqpetgwj.mp4  0.593444\n",
       "26   orixbcfvdz.mp4  0.969427\n",
       "27   jiavqbrkyk.mp4  0.593089\n",
       "28   jquevmhdvc.mp4  0.500000\n",
       "29   igpvrfjdzc.mp4  0.665879\n",
       "30   vizerpsvbz.mp4  0.611321\n",
       "31   rfwxcinshk.mp4  0.470432\n",
       "32   hsbwhlolsn.mp4  0.640004\n",
       "33   evysmtpnrf.mp4  0.610146\n",
       "34   prwsfljdjo.mp4  0.615618\n",
       "35   hsbljbsgxr.mp4  0.391966\n",
       "36   wixbuuzygv.mp4  0.967774\n",
       "37   qclpbcbgeq.mp4  0.407929\n",
       "38   wclvkepakb.mp4  0.362721\n",
       "39   eyguqfmgzh.mp4  0.595087\n",
       "40   alrtntfxtd.mp4  0.600715\n",
       "41   upmgtackuf.mp4  0.650785\n",
       "42   elackxuccp.mp4  0.569207\n",
       "43   xitgdpzbxv.mp4  0.596669\n",
       "44   wmoqzxddkb.mp4  0.798648\n",
       "45   vjljdfopjg.mp4  0.760266\n",
       "46   ncoeewrdlo.mp4  0.752902\n",
       "47   txnmkabufs.mp4  0.854936\n",
       "48   wcssbghcpc.mp4  0.621268\n",
       "49   ncmpqwmnzb.mp4  0.594195\n",
       "50   ytddugrwph.mp4  0.592973\n",
       "51   mkmgcxaztt.mp4  0.299729\n",
       "52   qhsehzgxqj.mp4  0.645934\n",
       "53   zfrrixsimm.mp4  0.716634\n",
       "54   mdfndlljvt.mp4  0.822497\n",
       "55   ecumyiowzs.mp4  0.647001\n",
       "56   wjhpisoeaj.mp4  0.712635\n",
       "57   yxvmusxvcz.mp4  0.604929\n",
       "58   dxfdovivlw.mp4  0.669274\n",
       "59   sjwywglgym.mp4  0.595608\n",
       "60   rukyxomwcx.mp4  0.592429\n",
       "61   blnmxntbey.mp4  0.585938\n",
       "62   opvqdabdap.mp4  0.912300\n",
       "63   qlvsqdroqo.mp4  1.000000\n",
       "64   lpgxwdgnio.mp4  0.228328\n",
       "65   keioymnobc.mp4  0.593054\n",
       "66   qarqtkvgby.mp4  0.231640\n",
       "67   tyjpjpglgx.mp4  0.747632\n",
       "68   jyfvaequfg.mp4  0.343830\n",
       "69   wndursivcx.mp4  0.601980\n",
       "70   cjkctqqakb.mp4  0.773965\n",
       "71   srfefmyjvt.mp4  0.592225\n",
       "72   tejfudfgpq.mp4  0.648285\n",
       "73   petmyhjclt.mp4  0.021753\n",
       "74   bkuzquigyt.mp4  0.352229\n",
       "75   apedduehoy.mp4  0.628891\n",
       "76   zmxeiipnqb.mp4  0.578353\n",
       "77   lnjkpdviqb.mp4  0.742503\n",
       "78   eqslzbqfea.mp4  1.000000\n",
       "79   itfsvvmslp.mp4  0.209993\n",
       "80   novarhxpbj.mp4  0.950800\n",
       "81   ilqwcbprqa.mp4  0.004974\n",
       "82   yronlutbgm.mp4  0.773006\n",
       "83   eisofhptvk.mp4  0.600404\n",
       "84   didzujjhtg.mp4  0.666561\n",
       "85   esjdyghhog.mp4  0.604801\n",
       "86   bfdopzvxbi.mp4  0.924682\n",
       "87   ptbnewtvon.mp4  0.653448\n",
       "88   oysopgovhu.mp4  0.588005\n",
       "89   zxacihctqp.mp4  0.829072\n",
       "90   fpevfidstw.mp4  0.560230\n",
       "91   ljouzjaqqe.mp4  0.270818\n",
       "92   aomqqjipcp.mp4  0.999069\n",
       "93   qcbkztamqc.mp4  0.955787\n",
       "94   mszblrdprw.mp4  0.500000\n",
       "95   lbigytrrtr.mp4  0.597771\n",
       "96   bcvheslzrq.mp4  0.908953\n",
       "97   lpkgabskbw.mp4  0.023609\n",
       "98   uubgqnvfdl.mp4  0.593711\n",
       "99   zgjosltkie.mp4  0.562259\n",
       "100  eryjktdexi.mp4  0.742365\n",
       "101  bfjsthfhbd.mp4  0.821568\n",
       "102  fopjiyxiqd.mp4  1.000000\n",
       "103  nymodlmxni.mp4  0.976309\n",
       "104  cekarydqba.mp4  0.555713\n",
       "105  psesikjaxx.mp4  0.009901\n",
       "106  yllztsrwjw.mp4  0.726062\n",
       "107  kmcdjxmnoa.mp4  0.678877\n",
       "108  yaxgpxhavq.mp4  0.593641\n",
       "109  sktpeppbkc.mp4  0.594299\n",
       "110  vokrpfjpeb.mp4  0.776106\n",
       "111  qqnlrngaft.mp4  0.403707\n",
       "112  pcyswtgick.mp4  0.641244\n",
       "113  sngjsueuhs.mp4  0.594554\n",
       "114  hevcclcklc.mp4  0.598940\n",
       "115  rerpivllud.mp4  0.557225\n",
       "116  ziipxxchai.mp4  0.664823\n",
       "117  wnlubukrki.mp4  0.436956\n",
       "118  wfzjxzhdkj.mp4  1.000000\n",
       "119  nikynwcvuh.mp4  0.849445\n",
       "120  bnuwxhfahw.mp4  0.600060\n",
       "121  mllzkpgatp.mp4  0.236067\n",
       "122  vhbbwdflyh.mp4  0.128946\n",
       "123  mohiqoogpb.mp4  0.437166\n",
       "124  ystdtnetgj.mp4  0.057338\n",
       "125  xrtvqhdibb.mp4  0.823680\n",
       "126  zfobicuigx.mp4  0.381912\n",
       "127  ibxfxggtqh.mp4  0.598884\n",
       "128  lyoslorecs.mp4  1.000000\n",
       "129  dozjwhnedd.mp4  0.824346\n",
       "130  pdswwyyntw.mp4  0.878076\n",
       "131  ajiyrjfyzp.mp4  0.019594\n",
       "132  cqxxumarvp.mp4  0.917435\n",
       "133  sylnrepacf.mp4  0.686723\n",
       "134  lmdyicksrv.mp4  0.603135\n",
       "135  vmxfwxgdei.mp4  0.464687\n",
       "136  pqthmvwonf.mp4  0.873232\n",
       "137  hnfwagcxdf.mp4  0.942034\n",
       "138  ljauauuyka.mp4  0.584666\n",
       "139  ybbrkacebd.mp4  0.594108\n",
       "140  qooxnxqqjb.mp4  0.710203\n",
       "141  omphqltjdd.mp4  0.591758\n",
       "142  tvhjcfnqtg.mp4  0.087613\n",
       "143  uqvxjfpwdo.mp4  0.709090\n",
       "144  sfsayjgzrh.mp4  0.589517\n",
       "145  blszgmxkvu.mp4  0.594543\n",
       "146  ggzjfrirjh.mp4  0.682960\n",
       "147  coqwgzpbhx.mp4  0.596507\n",
       "148  hyjqolupxn.mp4  0.619235\n",
       "149  kcjvhgvhpt.mp4  0.510882\n",
       "150  fxuxxtryjn.mp4  0.654200\n",
       "151  xjvxtuakyd.mp4  0.698325\n",
       "152  bofrwgeyjo.mp4  0.591881\n",
       "153  aassnaulhq.mp4  0.792450\n",
       "154  sqixhnilfm.mp4  0.598682\n",
       "155  gpsxfxrjrr.mp4  0.845345\n",
       "156  oojxonbgow.mp4  0.914786\n",
       "157  pcoxcmtroa.mp4  0.284396\n",
       "158  yietrwuncf.mp4  1.000000\n",
       "159  jiswxuqzyz.mp4  0.548334\n",
       "160  oocincvedt.mp4  0.593346\n",
       "161  fnxgqcvlsd.mp4  0.593454\n",
       "162  ekvwecwltj.mp4  1.000000\n",
       "163  qdqdsaiitt.mp4  0.826140\n",
       "164  wcvsqnplsk.mp4  0.069660\n",
       "165  uoccaiathd.mp4  0.680220\n",
       "166  rmufsuogzn.mp4  0.660793\n",
       "167  dtozwcapoa.mp4  0.943688\n",
       "168  mxahsihabr.mp4  0.629681\n",
       "169  zzmgnglanj.mp4  0.827891\n",
       "170  tgawasvbbr.mp4  0.724090\n",
       "171  cekwtyxdoo.mp4  0.006191\n",
       "172  rxdoimqble.mp4  0.774437\n",
       "173  toinozytsp.mp4  0.390325\n",
       "174  uhakqelqri.mp4  0.123915\n",
       "175  vajkicalux.mp4  0.593146\n",
       "176  qlqhjcshpk.mp4  0.746008\n",
       "177  gccnvdoknm.mp4  0.751556\n",
       "178  oyqgwjdwaj.mp4  1.000000\n",
       "179  btdxnajogv.mp4  0.593521\n",
       "180  dzojiwfvba.mp4  0.593280\n",
       "181  kqlvggiqee.mp4  0.149415\n",
       "182  bjyaxvggle.mp4  1.000000\n",
       "183  syxobtuucp.mp4  0.262010\n",
       "184  shnsajrsow.mp4  1.000000\n",
       "185  temeqbmzxu.mp4  0.154655\n",
       "186  jhczqfefgw.mp4  1.000000\n",
       "187  qsjiypnjwi.mp4  0.007952\n",
       "188  ayipraspbn.mp4  0.593448\n",
       "189  yiykshcbaz.mp4  0.777658\n",
       "190  vwxednhlwz.mp4  0.809797\n",
       "191  nwvsbmyndn.mp4  0.623543\n",
       "192  ytopzxrswu.mp4  0.711823\n",
       "193  hszwwswewp.mp4  0.594044\n",
       "194  gahgyuwzbu.mp4  0.592027\n",
       "195  sodvtfqbpf.mp4  0.714981\n",
       "196  rvvpazsffd.mp4  0.844326\n",
       "197  hicjuubiau.mp4  0.622670\n",
       "198  rklawjhbpv.mp4  0.602195\n",
       "199  uvrzaczrbx.mp4  0.626554\n",
       "200  vbcgoyxsvn.mp4  1.000000\n",
       "201  nwvloufjty.mp4  0.612676\n",
       "202  qswlzfgcgj.mp4  0.688744\n",
       "203  gcdtglsoqj.mp4  0.948233\n",
       "204  hweshqpfwe.mp4  0.860520\n",
       "205  hclsparpth.mp4  0.577543\n",
       "206  ojsxxkalat.mp4  0.105583\n",
       "207  nswtvttxre.mp4  0.428361\n",
       "208  doniqevxeg.mp4  0.612411\n",
       "209  ipvwtgdlre.mp4  0.593470\n",
       "210  sznkemeqro.mp4  0.594620\n",
       "211  hfsvqabzfq.mp4  0.682784\n",
       "212  xxzefxwyku.mp4  0.885552\n",
       "213  njzshtfmcw.mp4  0.586200\n",
       "214  mkzaekkvej.mp4  0.598365\n",
       "215  yxirnfyijn.mp4  0.527234\n",
       "216  hzoiotcykp.mp4  0.126307\n",
       "217  ywauoonmlr.mp4  1.000000\n",
       "218  ypbtpunjvm.mp4  0.595812\n",
       "219  ruhtnngrqv.mp4  0.689874\n",
       "220  fsdrwikhge.mp4  0.714029\n",
       "221  gkutjglghz.mp4  0.598402\n",
       "222  hefisnapds.mp4  0.000018\n",
       "223  nkhzxomani.mp4  1.000000\n",
       "224  bdshuoldwx.mp4  0.593874\n",
       "225  ggdpclfcgk.mp4  0.357079\n",
       "226  llplvmcvbl.mp4  1.000000\n",
       "227  esmqxszybs.mp4  0.598586\n",
       "228  xcruhaccxc.mp4  0.680003\n",
       "229  ihglzxzroo.mp4  0.741577\n",
       "230  pxcfrszlgi.mp4  0.747079\n",
       "231  rmlzgerevr.mp4  1.000000\n",
       "232  gochxzemmq.mp4  0.613016\n",
       "233  gfcycflhbo.mp4  0.712919\n",
       "234  wvgviwnwob.mp4  0.866535\n",
       "235  cnxccbjlct.mp4  0.638736\n",
       "236  fjrueenjyp.mp4  0.642897\n",
       "237  nxzgekegsp.mp4  0.846469\n",
       "238  vssmlqoiti.mp4  0.597714\n",
       "239  zyufpqvpyu.mp4  0.633475\n",
       "240  rtpbawlmxr.mp4  0.952408\n",
       "241  temjefwaas.mp4  0.654121\n",
       "242  prhmixykhr.mp4  0.000017\n",
       "243  wynotylpnm.mp4  0.632276\n",
       "244  siebfpwuhu.mp4  0.500000\n",
       "245  fmhiujydwo.mp4  0.611111\n",
       "246  kvmpmhdxly.mp4  0.749773\n",
       "247  yarpxfqejd.mp4  0.627397\n",
       "248  iznnzjvaxc.mp4  0.956010\n",
       "249  dvkdfhrpph.mp4  0.110902\n",
       "250  dkuqbduxev.mp4  1.000000\n",
       "251  ekelfsnqof.mp4  0.852593\n",
       "252  aktnlyqpah.mp4  0.702270\n",
       "253  gfgcwxkbjd.mp4  0.170269\n",
       "254  sjinmmbipg.mp4  1.000000\n",
       "255  phjvutxpoi.mp4  0.738437\n",
       "256  qxyrtwozyw.mp4  0.594250\n",
       "257  ndikguxzek.mp4  0.798112\n",
       "258  jsysgmycsx.mp4  1.000000\n",
       "259  vtunvalyji.mp4  0.311626\n",
       "260  pdufsewrec.mp4  1.000000\n",
       "261  fjxovgmwnm.mp4  0.585020\n",
       "262  voawxrmqyl.mp4  0.756495\n",
       "263  knxltsvzyu.mp4  0.640153\n",
       "264  scrbqgpvzz.mp4  0.226480\n",
       "265  scbdenmaed.mp4  0.659074\n",
       "266  xljemofssi.mp4  0.594473\n",
       "267  gbnzicjyhz.mp4  0.603443\n",
       "268  cnpanmywno.mp4  0.593482\n",
       "269  pqdeutauqc.mp4  0.440650\n",
       "270  wqysrieiqu.mp4  0.381584\n",
       "271  owaogcehvc.mp4  0.620486\n",
       "272  mnzabbkpmt.mp4  0.590989\n",
       "273  kwfdyqofzw.mp4  0.867249\n",
       "274  yljecirelf.mp4  0.607653\n",
       "275  dvwpvqdflx.mp4  0.290093\n",
       "276  kmqkiihrmj.mp4  1.000000\n",
       "277  ywxpquomgt.mp4  0.548247\n",
       "278  jyoxdvxpza.mp4  1.000000\n",
       "279  kowiwvrjht.mp4  0.659444\n",
       "280  espkiocpxq.mp4  0.648333\n",
       "281  eywdmustbb.mp4  0.753700\n",
       "282  fqgypsunzr.mp4  0.573393\n",
       "283  tynfsthodx.mp4  0.593472\n",
       "284  dsnxgrfdmd.mp4  0.622953\n",
       "285  dmmvuaikkv.mp4  0.481995\n",
       "286  fmvvmcbdrw.mp4  0.785519\n",
       "287  yzuestxcbq.mp4  0.588767\n",
       "288  rfjuhbnlro.mp4  0.608735\n",
       "289  hitfycdavv.mp4  1.000000\n",
       "290  cqhwesrciw.mp4  1.000000\n",
       "291  hcanfkwivl.mp4  0.682964\n",
       "292  vvfszaosiv.mp4  0.594021\n",
       "293  fwykevubzy.mp4  0.432109\n",
       "294  fneqiqpqvs.mp4  0.593506\n",
       "295  frqfsucgao.mp4  0.604661\n",
       "296  hqzwudvhih.mp4  0.698648\n",
       "297  nplviymzlg.mp4  0.601101\n",
       "298  waucvvmtkq.mp4  0.593481\n",
       "299  ddtbarpcgo.mp4  0.169545\n",
       "300  ouaowjmigq.mp4  0.653741\n",
       "301  acazlolrpz.mp4  0.447735\n",
       "302  hierggamuo.mp4  0.696343\n",
       "303  halvwiltfs.mp4  0.654904\n",
       "304  fzvpbrzssi.mp4  0.277565\n",
       "305  syuxttuyhm.mp4  0.702706\n",
       "306  jawgcggquk.mp4  0.176411\n",
       "307  jzmzdispyo.mp4  0.591444\n",
       "308  tjuihawuqm.mp4  0.494171\n",
       "309  htzbnroagi.mp4  0.041396\n",
       "310  nxnmkytwze.mp4  0.612468\n",
       "311  uxuvkrjhws.mp4  0.879473\n",
       "312  orekjthsef.mp4  0.656671\n",
       "313  dpevefkefv.mp4  0.618259\n",
       "314  ylxwcwhjjd.mp4  0.816426\n",
       "315  nxgzmgzkfv.mp4  0.593866\n",
       "316  bcbqxhziqz.mp4  0.614309\n",
       "317  fddmkqjwsh.mp4  0.815731\n",
       "318  famlupsgqm.mp4  0.613273\n",
       "319  tjywwgftmv.mp4  0.071078\n",
       "320  kezwvsxxzj.mp4  0.834915\n",
       "321  yqhouqakbx.mp4  0.353062\n",
       "322  jsbpkpxwew.mp4  0.172309\n",
       "323  qhkzlnzruj.mp4  0.367104\n",
       "324  zbgssotnjm.mp4  0.583345\n",
       "325  irqzdokcws.mp4  0.795370\n",
       "326  dnmowthjcj.mp4  0.782653\n",
       "327  udxqbhgvvx.mp4  0.751938\n",
       "328  demuhxssgl.mp4  1.000000\n",
       "329  hbufmvbium.mp4  0.594385\n",
       "330  axfhbpkdlc.mp4  0.717000\n",
       "331  ztyuiqrhdk.mp4  0.782784\n",
       "332  bkcyglmfci.mp4  0.710554\n",
       "333  ghnpsltzyn.mp4  0.678508\n",
       "334  adohdulfwb.mp4  0.620989\n",
       "335  ptbfnkajyi.mp4  0.696134\n",
       "336  etdliwticv.mp4  0.521212\n",
       "337  apvzjkvnwn.mp4  0.609748\n",
       "338  mxlipjhmqk.mp4  0.643234\n",
       "339  okgelildpc.mp4  0.598309\n",
       "340  gfdjzwnpyp.mp4  0.544655\n",
       "341  lnhkjhyhvw.mp4  0.594546\n",
       "342  ztyvglkcsf.mp4  0.632635\n",
       "343  txmnoyiyte.mp4  0.073322\n",
       "344  dvtpwatuja.mp4  0.176669\n",
       "345  dpmgoiwhuf.mp4  0.240566\n",
       "346  ekboxwrwuv.mp4  0.593901\n",
       "347  ooafcxxfrs.mp4  0.721361\n",
       "348  uhrqlmlclw.mp4  0.779552\n",
       "349  lebzjtusnr.mp4  0.898360\n",
       "350  dzkyxbbqkr.mp4  0.593390\n",
       "351  yhylappzid.mp4  1.000000\n",
       "352  qyyhuvqmyf.mp4  0.976840\n",
       "353  bwdmzwhdnw.mp4  0.641423\n",
       "354  usqqvxcjmg.mp4  0.717085\n",
       "355  yxadevzohx.mp4  0.579454\n",
       "356  xugmhbetrw.mp4  0.870949\n",
       "357  vdtsbqidjb.mp4  0.598348\n",
       "358  lhvjzhjxdp.mp4  0.592560\n",
       "359  bvpeerislp.mp4  0.438035\n",
       "360  heiyoojifp.mp4  0.614591\n",
       "361  ucthmsajay.mp4  0.960772\n",
       "362  sufvvwmbha.mp4  0.628042\n",
       "363  zgbhzkditd.mp4  0.568092\n",
       "364  cosghhimnd.mp4  0.915586\n",
       "365  yhjlnisfel.mp4  0.585094\n",
       "366  nycmyuzpml.mp4  0.592518\n",
       "367  aayfryxljh.mp4  0.602242\n",
       "368  dcqodpzomd.mp4  0.169508\n",
       "369  icbsahlivv.mp4  0.657566\n",
       "370  xhtppuyqdr.mp4  0.837934\n",
       "371  bktkwbcawi.mp4  0.918385\n",
       "372  wadvzjhwtw.mp4  0.490848\n",
       "373  czfqlbcfpa.mp4  0.880776\n",
       "374  huvlwkxoxm.mp4  0.602454\n",
       "375  csnkohqxdv.mp4  0.799339\n",
       "376  iksxzpqxzi.mp4  0.625809\n",
       "377  ocgdbrgmtq.mp4  0.598398\n",
       "378  ryxaqpfubf.mp4  0.584714\n",
       "379  rcjfxxhcal.mp4  1.000000\n",
       "380  gunamloolc.mp4  0.369710\n",
       "381  ipkpxvwroe.mp4  0.806664\n",
       "382  rrrfjhugvb.mp4  0.360246\n",
       "383  dxgnpnowgk.mp4  0.775239\n",
       "384  xmkwsnuzyq.mp4  0.724411\n",
       "385  jytrvwlewz.mp4  0.006853\n",
       "386  wcqvzujamg.mp4  0.107732\n",
       "387  aqrsylrzgi.mp4  1.000000\n",
       "388  swsaoktwgi.mp4  0.633868\n",
       "389  cxsvvnxpyz.mp4  0.234006\n",
       "390  rktrpsdlci.mp4  0.363560\n",
       "391  rcecrgeotc.mp4  0.710836\n",
       "392  dyjklprkoc.mp4  0.704295\n",
       "393  oefukgnvel.mp4  0.645309\n",
       "394  lbfqksftuo.mp4  0.633623\n",
       "395  pxjkzvqomp.mp4  0.593438\n",
       "396  rnfcjxynfa.mp4  0.657906\n",
       "397  hxwtsaydal.mp4  0.634057\n",
       "398  bzvzpwrabw.mp4  0.289136\n",
       "399  mwwploizlj.mp4  0.529998"
      ]
     },
     "execution_count": 15,
     "metadata": {},
     "output_type": "execute_result"
    }
   ],
   "source": [
    "df = pd.DataFrame(columns=['filename', 'label'])\n",
    "count = 1\n",
    "for i, video in tqdm(enumerate(os.listdir(test_video_path))):\n",
    "    print(i, video)\n",
    "    split_video(f\"{test_video_path}/{video}\")\n",
    "    imgs = extract_face_from_dir(video.split(\".\")[0], count=count)\n",
    "#     print(imgs)\n",
    "    if len(imgs)<1:\n",
    "        proba = 1\n",
    "    else:\n",
    "        probas = []\n",
    "        for img in imgs:\n",
    "            try:\n",
    "                psd1D = get_psd1D(img)\n",
    "                psd1D = psd1D[:156].reshape(-1, 156)\n",
    "                probas.append(model.predict_proba(psd1D)[0][0])\n",
    "            except:\n",
    "                pass\n",
    "        proba = np.mean(probas)\n",
    "    print(proba)\n",
    "    df.loc[i] = [video, proba]\n",
    "df"
   ]
  },
  {
   "cell_type": "code",
   "execution_count": 16,
   "metadata": {},
   "outputs": [],
   "source": [
    "!rm -rf /kaggle/working/*"
   ]
  },
  {
   "cell_type": "code",
   "execution_count": 17,
   "metadata": {},
   "outputs": [],
   "source": [
    "df.to_csv(\"submission.csv\", index=False)"
   ]
  },
  {
   "cell_type": "code",
   "execution_count": null,
   "metadata": {},
   "outputs": [],
   "source": []
  }
 ],
 "metadata": {
  "kernelspec": {
   "display_name": "Python 3",
   "language": "python",
   "name": "python3"
  },
  "language_info": {
   "codemirror_mode": {
    "name": "ipython",
    "version": 3
   },
   "file_extension": ".py",
   "mimetype": "text/x-python",
   "name": "python",
   "nbconvert_exporter": "python",
   "pygments_lexer": "ipython3",
   "version": "3.6.4"
  }
 },
 "nbformat": 4,
 "nbformat_minor": 1
}
